{
 "cells": [
  {
   "cell_type": "code",
   "id": "initial_id",
   "metadata": {
    "collapsed": true,
    "ExecuteTime": {
     "end_time": "2025-05-19T10:49:49.309145Z",
     "start_time": "2025-05-19T10:49:49.305705Z"
    }
   },
   "source": [
    "import pandas as pd\n",
    "import numpy as np"
   ],
   "outputs": [],
   "execution_count": 237
  },
  {
   "metadata": {},
   "cell_type": "markdown",
   "source": [
    "## Cargamos los datos\n",
    "\n",
    "Cargamos los datos de ratings, books, tags y book_tags, generando un dataframe ratings_matrix, que será matriz R que vamos a usar para el modelo de KNN."
   ],
   "id": "794095a6431ece21"
  },
  {
   "metadata": {
    "ExecuteTime": {
     "end_time": "2025-05-19T10:49:50.661856Z",
     "start_time": "2025-05-19T10:49:49.361149Z"
    }
   },
   "cell_type": "code",
   "source": [
    "ratings = pd.read_csv('./data/ratings.csv')\n",
    "to_read = pd.read_csv('./data/to_read.csv')\n",
    "books = pd.read_csv('./data/books.csv')\n",
    "book_tags = pd.read_csv('./data/book_tags.csv')\n",
    "tags = pd.read_csv('./data/tags.csv')\n",
    "\n",
    "print(\"Ratings shape:\", ratings.shape)\n",
    "print(\"Books shape:\", books.shape)\n",
    "print(\"Tags shape:\", tags.shape)"
   ],
   "id": "5593e95291132f7d",
   "outputs": [
    {
     "name": "stdout",
     "output_type": "stream",
     "text": [
      "Ratings shape: (5976479, 3)\n",
      "Books shape: (10000, 23)\n",
      "Tags shape: (34252, 2)\n"
     ]
    }
   ],
   "execution_count": 238
  },
  {
   "metadata": {
    "ExecuteTime": {
     "end_time": "2025-05-19T10:49:55.611610Z",
     "start_time": "2025-05-19T10:49:50.710550Z"
    }
   },
   "cell_type": "code",
   "source": [
    "# Generamos la matriz de ratings, que será una matriz libros x usuario, vemos que ocupa 4 GB\n",
    "\n",
    "ratings_matrix = ratings.pivot(index='user_id', columns='book_id', values='rating')\n",
    "ratings_matrix.info( memory_usage='deep' )"
   ],
   "id": "5a0be5a2871575fd",
   "outputs": [
    {
     "name": "stdout",
     "output_type": "stream",
     "text": [
      "<class 'pandas.core.frame.DataFrame'>\n",
      "Index: 53424 entries, 1 to 53424\n",
      "Columns: 10000 entries, 1 to 10000\n",
      "dtypes: float64(10000)\n",
      "memory usage: 4.0 GB\n"
     ]
    }
   ],
   "execution_count": 239
  },
  {
   "metadata": {},
   "cell_type": "markdown",
   "source": [
    "# Generación de muestras.\n",
    "\n"
   ],
   "id": "4a0c44993dadeb97"
  },
  {
   "metadata": {
    "ExecuteTime": {
     "end_time": "2025-05-19T10:49:55.746544Z",
     "start_time": "2025-05-19T10:49:55.668026Z"
    }
   },
   "cell_type": "code",
   "source": [
    "# Muestra aleatoria de 1000 usuarios y 1000 libros (7.6 MB)\n",
    "\n",
    "N = 1000 # Número de usuarios\n",
    "M = 1000 # Número de libros\n",
    "\n",
    "ratings_matrix_sample = ratings_matrix.sample(N, axis=0).sample(M, axis=1)\n",
    "ratings_matrix_sample.info( memory_usage='deep' )"
   ],
   "id": "29be72507fea345f",
   "outputs": [
    {
     "name": "stdout",
     "output_type": "stream",
     "text": [
      "<class 'pandas.core.frame.DataFrame'>\n",
      "Index: 1000 entries, 25976 to 9813\n",
      "Columns: 1000 entries, 2954 to 7354\n",
      "dtypes: float64(1000)\n",
      "memory usage: 7.6 MB\n"
     ]
    }
   ],
   "execution_count": 240
  },
  {
   "metadata": {
    "ExecuteTime": {
     "end_time": "2025-05-19T10:49:56.178303Z",
     "start_time": "2025-05-19T10:49:55.807698Z"
    }
   },
   "cell_type": "code",
   "source": [
    "# Muestra de 10 usuario y 1000 libros que intenta estar lo mas poblada posible para garantizar que haya coincidencias entre usuarios (85.9 KB)\n",
    "\n",
    "N = 10 # Número de usuarios\n",
    "M = 1000 # Número de libros\n",
    "\n",
    "# Selecciona los 10 usuarios con más valoraciones\n",
    "usuarios_top = ratings_matrix_sample.notna().sum(axis=1).sort_values(ascending=False).head(N).index\n",
    "\n",
    "# Selecciona los 1000 libros con más valoraciones\n",
    "libros_top = ratings_matrix_sample.notna().sum(axis=0).sort_values(ascending=False).head(M).index\n",
    "\n",
    "mini_sample = ratings_matrix_sample.loc[usuarios_top, libros_top]\n",
    "mini_sample.info(memory_usage='deep')"
   ],
   "id": "64f50f9acaa70713",
   "outputs": [
    {
     "name": "stdout",
     "output_type": "stream",
     "text": [
      "<class 'pandas.core.frame.DataFrame'>\n",
      "Index: 10 entries, 50133 to 22611\n",
      "Columns: 1000 entries, 43 to 7286\n",
      "dtypes: float64(1000)\n",
      "memory usage: 78.2 KB\n"
     ]
    }
   ],
   "execution_count": 241
  },
  {
   "metadata": {
    "ExecuteTime": {
     "end_time": "2025-05-19T10:49:56.273726Z",
     "start_time": "2025-05-19T10:49:56.235721Z"
    }
   },
   "cell_type": "code",
   "source": [
    "# Muestra de 1000 usuario y 1000 libros que intenta estar lo mas poblada posible para garantizar que haya coincidencias entre usuarios (7.6 MB)\n",
    "\n",
    "N = 1000 # Número de usuarios\n",
    "M = 1000 # Número de libros\n",
    "\n",
    "# Selecciona los 10 usuarios con más valoraciones\n",
    "usuarios_top = ratings_matrix_sample.notna().sum(axis=1).sort_values(ascending=False).head(M).index\n",
    "\n",
    "# Selecciona los 1000 libros con más valoraciones\n",
    "libros_top = ratings_matrix_sample.notna().sum(axis=0).sort_values(ascending=False).head(N).index\n",
    "\n",
    "mid_sample = ratings_matrix_sample.loc[usuarios_top, libros_top]\n",
    "mid_sample.info(memory_usage='deep')"
   ],
   "id": "cb831c8ea6c6466e",
   "outputs": [
    {
     "name": "stdout",
     "output_type": "stream",
     "text": [
      "<class 'pandas.core.frame.DataFrame'>\n",
      "Index: 1000 entries, 50133 to 50706\n",
      "Columns: 1000 entries, 43 to 7286\n",
      "dtypes: float64(1000)\n",
      "memory usage: 7.6 MB\n"
     ]
    }
   ],
   "execution_count": 242
  },
  {
   "metadata": {},
   "cell_type": "markdown",
   "source": "A continuación se definen las funciones que se van a usar para el modelo de KNN. Y se hacen pruebas con la muestra de 10 usuarios y 1000 libros.",
   "id": "cd383b947861a37a"
  },
  {
   "metadata": {},
   "cell_type": "markdown",
   "source": "## Media de un usuario",
   "id": "54002bd046cd73ef"
  },
  {
   "metadata": {
    "ExecuteTime": {
     "end_time": "2025-05-19T10:49:56.342953Z",
     "start_time": "2025-05-19T10:49:56.338637Z"
    }
   },
   "cell_type": "code",
   "source": [
    "def media_usuario(user_id, matrix = ratings_matrix):\n",
    "    \"\"\"Devuelve la puntuación media de un usuario usando\"\"\"\n",
    "    if user_id not in matrix.index:\n",
    "        return None\n",
    "    ratings = matrix.loc[user_id].dropna()\n",
    "    if len(ratings) == 0:\n",
    "        return None\n",
    "    return np.mean(ratings)"
   ],
   "id": "2251b4ad52bc9538",
   "outputs": [],
   "execution_count": 243
  },
  {
   "metadata": {
    "ExecuteTime": {
     "end_time": "2025-05-19T10:49:56.413879Z",
     "start_time": "2025-05-19T10:49:56.410182Z"
    }
   },
   "cell_type": "code",
   "source": [
    "usuarios = mini_sample.index\n",
    "\n",
    "print(\"Media de un usuario:\", media_usuario(usuarios[0], mini_sample))"
   ],
   "id": "969a198b8744d37a",
   "outputs": [
    {
     "name": "stdout",
     "output_type": "stream",
     "text": [
      "Media de un usuario: 5.0\n"
     ]
    }
   ],
   "execution_count": 244
  },
  {
   "metadata": {
    "ExecuteTime": {
     "end_time": "2025-05-19T10:50:37.845952Z",
     "start_time": "2025-05-19T10:50:31.182023Z"
    }
   },
   "cell_type": "code",
   "source": [
    "import matplotlib.pyplot as plt\n",
    "import seaborn as sns\n",
    "\n",
    "sns.histplot(ratings_matrix.mean(axis=1), kde=True)\n",
    "plt.title('Distribución de la media de los usuarios')\n",
    "plt.xlabel('Media de valoraciones')\n",
    "plt.ylabel('Frecuencia')\n",
    "plt.show()"
   ],
   "id": "670f20422f74be93",
   "outputs": [
    {
     "data": {
      "text/plain": [
       "<Figure size 640x480 with 1 Axes>"
      ],
      "image/png": "[encoded data removed]"
     },
     "metadata": {},
     "output_type": "display_data"
    }
   ],
   "execution_count": 256
  },
  {
   "metadata": {},
   "cell_type": "markdown",
   "source": "## Similitud entre usuarios (Jaccard-MSD)",
   "id": "815e64d113fdbb49"
  },
  {
   "metadata": {
    "ExecuteTime": {
     "end_time": "2025-05-19T10:49:56.672641Z",
     "start_time": "2025-05-19T10:49:56.666882Z"
    }
   },
   "cell_type": "code",
   "source": [
    "def jmsd_similarity(u, v, matrix=ratings_matrix, print=False):\n",
    "    \"\"\"\n",
    "    Calcula la similitud JMSD entre dos usuarios (u, v) en una matriz libros x usuarios.\n",
    "    \"\"\"\n",
    "    if u not in matrix.index or v not in matrix.index:\n",
    "        if print:\n",
    "            print('usuario no encontrado')\n",
    "        return None\n",
    "\n",
    "    ratings_u = matrix.loc[u]\n",
    "    ratings_v = matrix.loc[v]\n",
    "\n",
    "    # Selecciona solo los libros que ambos han valorado\n",
    "    mask = ratings_u.notna() & ratings_v.notna()\n",
    "    if mask.sum() == 0:\n",
    "        if print:\n",
    "            print('no hay libros en común')\n",
    "        return None\n",
    "\n",
    "    r_u = ratings_u[mask]\n",
    "    r_v = ratings_v[mask]\n",
    "\n",
    "    # Normaliza las valoraciones\n",
    "    MIN_RATING = matrix.min().min()\n",
    "    MAX_RATING = matrix.max().max()\n",
    "    r_u_norm = (r_u - MIN_RATING) / (MAX_RATING - MIN_RATING)\n",
    "    r_v_norm = (r_v - MIN_RATING) / (MAX_RATING - MIN_RATING)\n",
    "\n",
    "    msd = np.mean((r_u_norm - r_v_norm) ** 2)\n",
    "    jaccard = mask.sum() / ((ratings_u.notna() | ratings_v.notna()).sum())\n",
    "\n",
    "    return jaccard * (1 - msd)"
   ],
   "id": "678a6981fbfcf6fa",
   "outputs": [],
   "execution_count": 246
  },
  {
   "metadata": {
    "ExecuteTime": {
     "end_time": "2025-05-19T10:49:56.732193Z",
     "start_time": "2025-05-19T10:49:56.729815Z"
    }
   },
   "cell_type": "code",
   "source": [
    "users = mini_sample.index\n",
    "jmsd_similarity(sample_users[1], sample_users[2], ratings_matrix_sample)"
   ],
   "id": "380aa9003e675e8e",
   "outputs": [],
   "execution_count": 247
  },
  {
   "metadata": {
    "ExecuteTime": {
     "end_time": "2025-05-19T10:51:32.827574Z",
     "start_time": "2025-05-19T10:51:32.567539Z"
    }
   },
   "cell_type": "code",
   "source": [
    "# Vamos a generar un heatmap de similitud entre usuarios\n",
    "usuarios = mini_sample.index\n",
    "\n",
    "sim_matrix = np.zeros((len(usuarios), len(usuarios)))\n",
    "\n",
    "for i, u1 in enumerate(usuarios):\n",
    "    for j, u2 in enumerate(usuarios):\n",
    "        if i <= j:\n",
    "            sim = jmsd_similarity(u1, u2, mini_sample)\n",
    "            sim_matrix[i, j] = sim\n",
    "            sim_matrix[j, i] = sim  # simétrica\n",
    "\n",
    "\n",
    "sim_df = pd.DataFrame(sim_matrix, index=usuarios, columns=usuarios)\n",
    "\n",
    "sns.heatmap(sim_df, annot=True, fmt=\".2f\", cmap=\"coolwarm\")\n",
    "plt.title(\"Heatmap de similitud JMSD entre usuarios\")\n",
    "plt.xlabel(\"Usuario\")\n",
    "plt.ylabel(\"Usuario\")\n",
    "plt.show()\n",
    "\n"
   ],
   "id": "d4fbaa49899f6f4e",
   "outputs": [
    {
     "data": {
      "text/plain": [
       "<Figure size 640x480 with 2 Axes>"
      ],
      "image/png": "[encoded data removed]"
     },
     "metadata": {},
     "output_type": "display_data"
    }
   ],
   "execution_count": 258
  },
  {
   "metadata": {},
   "cell_type": "markdown",
   "source": "## Buscar los k vecinos más cercanos",
   "id": "4fcb2ff4ebc5ab2b"
  },
  {
   "metadata": {
    "ExecuteTime": {
     "end_time": "2025-05-19T10:49:57.245033Z",
     "start_time": "2025-05-19T10:49:57.242034Z"
    }
   },
   "cell_type": "code",
   "source": "from tqdm import tqdm",
   "id": "9fad9f9466e29df",
   "outputs": [],
   "execution_count": 250
  },
  {
   "metadata": {
    "ExecuteTime": {
     "end_time": "2025-05-19T10:52:02.501494Z",
     "start_time": "2025-05-19T10:52:02.497078Z"
    }
   },
   "cell_type": "code",
   "source": [
    "def k_nearest_neighbors(user_id, k=5, matrix=ratings_matrix, use_tqdm=True):\n",
    "    \"\"\"\n",
    "    Devuelve los k vecinos más cercanos a un usuario dado en una matriz libros x usuarios.\n",
    "    \"\"\"\n",
    "    if user_id not in matrix.index:\n",
    "        print('usuario no encontrado')\n",
    "        return None\n",
    "\n",
    "    similarities = []\n",
    "\n",
    "    if use_tqdm:\n",
    "        iterador = tqdm(matrix.index)\n",
    "    else:\n",
    "        iterador = matrix.index\n",
    "\n",
    "    for other_user in iterador:\n",
    "        if other_user != user_id:\n",
    "            sim = jmsd_similarity(user_id, other_user, matrix)\n",
    "            if sim is not None:\n",
    "                similarities.append((other_user, sim))\n",
    "\n",
    "    # Ordena por similitud y selecciona los k más cercanos\n",
    "    similarities.sort(key=lambda x: x[1], reverse=True)\n",
    "    return similarities[:k]"
   ],
   "id": "cfb26f46e6500568",
   "outputs": [],
   "execution_count": 260
  },
  {
   "metadata": {
    "ExecuteTime": {
     "end_time": "2025-05-19T10:53:34.804449Z",
     "start_time": "2025-05-19T10:53:21.825311Z"
    }
   },
   "cell_type": "code",
   "source": [
    "usuarios = mid_sample.index\n",
    "\n",
    "k_nearest_neighbors(usuarios[0], k=5, matrix=mid_sample)"
   ],
   "id": "40f27f7be2c4b04b",
   "outputs": [
    {
     "name": "stderr",
     "output_type": "stream",
     "text": [
      "100%|██████████| 1000/1000 [00:12<00:00, 77.08it/s]\n"
     ]
    },
    {
     "data": {
      "text/plain": [
       "[(7295, np.float64(0.19507575757575757)),\n",
       " (52469, np.float64(0.1794871794871795)),\n",
       " (18760, np.float64(0.16856060606060608)),\n",
       " (22171, np.float64(0.16098484848484848)),\n",
       " (44572, np.float64(0.1484375))]"
      ]
     },
     "execution_count": 264,
     "metadata": {},
     "output_type": "execute_result"
    }
   ],
   "execution_count": 264
  },
  {
   "metadata": {
    "ExecuteTime": {
     "end_time": "2025-05-19T10:55:06.997298Z",
     "start_time": "2025-05-19T10:54:25.747680Z"
    }
   },
   "cell_type": "code",
   "source": [
    "usuarios = ratings_matrix.index\n",
    "\n",
    "k_nearest_neighbors(usuarios[0], k=5, matrix=ratings_matrix)\n",
    "\n",
    "# Como vemos la matriz de 4GB es muy grande para ejecutar KNN en un tiempo razonable."
   ],
   "id": "d70c83399c192ca",
   "outputs": [
    {
     "name": "stderr",
     "output_type": "stream",
     "text": [
      "  0%|          | 2/53424 [00:40<303:23:21, 20.44s/it]\n"
     ]
    },
    {
     "ename": "KeyboardInterrupt",
     "evalue": "",
     "output_type": "error",
     "traceback": [
      "\u001B[31m---------------------------------------------------------------------------\u001B[39m",
      "\u001B[31mKeyboardInterrupt\u001B[39m                         Traceback (most recent call last)",
      "\u001B[36mCell\u001B[39m\u001B[36m \u001B[39m\u001B[32mIn[267]\u001B[39m\u001B[32m, line 3\u001B[39m\n\u001B[32m      1\u001B[39m usuarios = ratings_matrix.index\n\u001B[32m----> \u001B[39m\u001B[32m3\u001B[39m \u001B[43mk_nearest_neighbors\u001B[49m\u001B[43m(\u001B[49m\u001B[43musuarios\u001B[49m\u001B[43m[\u001B[49m\u001B[32;43m0\u001B[39;49m\u001B[43m]\u001B[49m\u001B[43m,\u001B[49m\u001B[43m \u001B[49m\u001B[43mk\u001B[49m\u001B[43m=\u001B[49m\u001B[32;43m5\u001B[39;49m\u001B[43m,\u001B[49m\u001B[43m \u001B[49m\u001B[43mmatrix\u001B[49m\u001B[43m=\u001B[49m\u001B[43mratings_matrix\u001B[49m\u001B[43m)\u001B[49m\n",
      "\u001B[36mCell\u001B[39m\u001B[36m \u001B[39m\u001B[32mIn[260]\u001B[39m\u001B[32m, line 18\u001B[39m, in \u001B[36mk_nearest_neighbors\u001B[39m\u001B[34m(user_id, k, matrix, use_tqdm)\u001B[39m\n\u001B[32m     16\u001B[39m \u001B[38;5;28;01mfor\u001B[39;00m other_user \u001B[38;5;129;01min\u001B[39;00m iterador:\n\u001B[32m     17\u001B[39m     \u001B[38;5;28;01mif\u001B[39;00m other_user != user_id:\n\u001B[32m---> \u001B[39m\u001B[32m18\u001B[39m         sim = \u001B[43mjmsd_similarity\u001B[49m\u001B[43m(\u001B[49m\u001B[43muser_id\u001B[49m\u001B[43m,\u001B[49m\u001B[43m \u001B[49m\u001B[43mother_user\u001B[49m\u001B[43m,\u001B[49m\u001B[43m \u001B[49m\u001B[43mmatrix\u001B[49m\u001B[43m)\u001B[49m\n\u001B[32m     19\u001B[39m         \u001B[38;5;28;01mif\u001B[39;00m sim \u001B[38;5;129;01mis\u001B[39;00m \u001B[38;5;129;01mnot\u001B[39;00m \u001B[38;5;28;01mNone\u001B[39;00m:\n\u001B[32m     20\u001B[39m             similarities.append((other_user, sim))\n",
      "\u001B[36mCell\u001B[39m\u001B[36m \u001B[39m\u001B[32mIn[246]\u001B[39m\u001B[32m, line 24\u001B[39m, in \u001B[36mjmsd_similarity\u001B[39m\u001B[34m(u, v, matrix, print)\u001B[39m\n\u001B[32m     21\u001B[39m r_v = ratings_v[mask]\n\u001B[32m     23\u001B[39m \u001B[38;5;66;03m# Normaliza las valoraciones\u001B[39;00m\n\u001B[32m---> \u001B[39m\u001B[32m24\u001B[39m MIN_RATING = \u001B[43mmatrix\u001B[49m\u001B[43m.\u001B[49m\u001B[43mmin\u001B[49m\u001B[43m(\u001B[49m\u001B[43m)\u001B[49m.min()\n\u001B[32m     25\u001B[39m MAX_RATING = matrix.max().max()\n\u001B[32m     26\u001B[39m r_u_norm = (r_u - MIN_RATING) / (MAX_RATING - MIN_RATING)\n",
      "\u001B[36mFile \u001B[39m\u001B[32m~\\Desktop\\personalizacion\\.venv\\Lib\\site-packages\\pandas\\core\\frame.py:11643\u001B[39m, in \u001B[36mDataFrame.min\u001B[39m\u001B[34m(self, axis, skipna, numeric_only, **kwargs)\u001B[39m\n\u001B[32m  11635\u001B[39m \u001B[38;5;129m@doc\u001B[39m(make_doc(\u001B[33m\"\u001B[39m\u001B[33mmin\u001B[39m\u001B[33m\"\u001B[39m, ndim=\u001B[32m2\u001B[39m))\n\u001B[32m  11636\u001B[39m \u001B[38;5;28;01mdef\u001B[39;00m\u001B[38;5;250m \u001B[39m\u001B[34mmin\u001B[39m(\n\u001B[32m  11637\u001B[39m     \u001B[38;5;28mself\u001B[39m,\n\u001B[32m   (...)\u001B[39m\u001B[32m  11641\u001B[39m     **kwargs,\n\u001B[32m  11642\u001B[39m ):\n\u001B[32m> \u001B[39m\u001B[32m11643\u001B[39m     result = \u001B[38;5;28;43msuper\u001B[39;49m\u001B[43m(\u001B[49m\u001B[43m)\u001B[49m\u001B[43m.\u001B[49m\u001B[43mmin\u001B[49m\u001B[43m(\u001B[49m\u001B[43maxis\u001B[49m\u001B[43m,\u001B[49m\u001B[43m \u001B[49m\u001B[43mskipna\u001B[49m\u001B[43m,\u001B[49m\u001B[43m \u001B[49m\u001B[43mnumeric_only\u001B[49m\u001B[43m,\u001B[49m\u001B[43m \u001B[49m\u001B[43m*\u001B[49m\u001B[43m*\u001B[49m\u001B[43mkwargs\u001B[49m\u001B[43m)\u001B[49m\n\u001B[32m  11644\u001B[39m     \u001B[38;5;28;01mif\u001B[39;00m \u001B[38;5;28misinstance\u001B[39m(result, Series):\n\u001B[32m  11645\u001B[39m         result = result.__finalize__(\u001B[38;5;28mself\u001B[39m, method=\u001B[33m\"\u001B[39m\u001B[33mmin\u001B[39m\u001B[33m\"\u001B[39m)\n",
      "\u001B[36mFile \u001B[39m\u001B[32m~\\Desktop\\personalizacion\\.venv\\Lib\\site-packages\\pandas\\core\\generic.py:12388\u001B[39m, in \u001B[36mNDFrame.min\u001B[39m\u001B[34m(self, axis, skipna, numeric_only, **kwargs)\u001B[39m\n\u001B[32m  12381\u001B[39m \u001B[38;5;28;01mdef\u001B[39;00m\u001B[38;5;250m \u001B[39m\u001B[34mmin\u001B[39m(\n\u001B[32m  12382\u001B[39m     \u001B[38;5;28mself\u001B[39m,\n\u001B[32m  12383\u001B[39m     axis: Axis | \u001B[38;5;28;01mNone\u001B[39;00m = \u001B[32m0\u001B[39m,\n\u001B[32m   (...)\u001B[39m\u001B[32m  12386\u001B[39m     **kwargs,\n\u001B[32m  12387\u001B[39m ):\n\u001B[32m> \u001B[39m\u001B[32m12388\u001B[39m     \u001B[38;5;28;01mreturn\u001B[39;00m \u001B[38;5;28;43mself\u001B[39;49m\u001B[43m.\u001B[49m\u001B[43m_stat_function\u001B[49m\u001B[43m(\u001B[49m\n\u001B[32m  12389\u001B[39m \u001B[43m        \u001B[49m\u001B[33;43m\"\u001B[39;49m\u001B[33;43mmin\u001B[39;49m\u001B[33;43m\"\u001B[39;49m\u001B[43m,\u001B[49m\n\u001B[32m  12390\u001B[39m \u001B[43m        \u001B[49m\u001B[43mnanops\u001B[49m\u001B[43m.\u001B[49m\u001B[43mnanmin\u001B[49m\u001B[43m,\u001B[49m\n\u001B[32m  12391\u001B[39m \u001B[43m        \u001B[49m\u001B[43maxis\u001B[49m\u001B[43m,\u001B[49m\n\u001B[32m  12392\u001B[39m \u001B[43m        \u001B[49m\u001B[43mskipna\u001B[49m\u001B[43m,\u001B[49m\n\u001B[32m  12393\u001B[39m \u001B[43m        \u001B[49m\u001B[43mnumeric_only\u001B[49m\u001B[43m,\u001B[49m\n\u001B[32m  12394\u001B[39m \u001B[43m        \u001B[49m\u001B[43m*\u001B[49m\u001B[43m*\u001B[49m\u001B[43mkwargs\u001B[49m\u001B[43m,\u001B[49m\n\u001B[32m  12395\u001B[39m \u001B[43m    \u001B[49m\u001B[43m)\u001B[49m\n",
      "\u001B[36mFile \u001B[39m\u001B[32m~\\Desktop\\personalizacion\\.venv\\Lib\\site-packages\\pandas\\core\\generic.py:12377\u001B[39m, in \u001B[36mNDFrame._stat_function\u001B[39m\u001B[34m(self, name, func, axis, skipna, numeric_only, **kwargs)\u001B[39m\n\u001B[32m  12373\u001B[39m nv.validate_func(name, (), kwargs)\n\u001B[32m  12375\u001B[39m validate_bool_kwarg(skipna, \u001B[33m\"\u001B[39m\u001B[33mskipna\u001B[39m\u001B[33m\"\u001B[39m, none_allowed=\u001B[38;5;28;01mFalse\u001B[39;00m)\n\u001B[32m> \u001B[39m\u001B[32m12377\u001B[39m \u001B[38;5;28;01mreturn\u001B[39;00m \u001B[38;5;28;43mself\u001B[39;49m\u001B[43m.\u001B[49m\u001B[43m_reduce\u001B[49m\u001B[43m(\u001B[49m\n\u001B[32m  12378\u001B[39m \u001B[43m    \u001B[49m\u001B[43mfunc\u001B[49m\u001B[43m,\u001B[49m\u001B[43m \u001B[49m\u001B[43mname\u001B[49m\u001B[43m=\u001B[49m\u001B[43mname\u001B[49m\u001B[43m,\u001B[49m\u001B[43m \u001B[49m\u001B[43maxis\u001B[49m\u001B[43m=\u001B[49m\u001B[43maxis\u001B[49m\u001B[43m,\u001B[49m\u001B[43m \u001B[49m\u001B[43mskipna\u001B[49m\u001B[43m=\u001B[49m\u001B[43mskipna\u001B[49m\u001B[43m,\u001B[49m\u001B[43m \u001B[49m\u001B[43mnumeric_only\u001B[49m\u001B[43m=\u001B[49m\u001B[43mnumeric_only\u001B[49m\n\u001B[32m  12379\u001B[39m \u001B[43m\u001B[49m\u001B[43m)\u001B[49m\n",
      "\u001B[36mFile \u001B[39m\u001B[32m~\\Desktop\\personalizacion\\.venv\\Lib\\site-packages\\pandas\\core\\frame.py:11562\u001B[39m, in \u001B[36mDataFrame._reduce\u001B[39m\u001B[34m(self, op, name, axis, skipna, numeric_only, filter_type, **kwds)\u001B[39m\n\u001B[32m  11558\u001B[39m     df = df.T\n\u001B[32m  11560\u001B[39m \u001B[38;5;66;03m# After possibly _get_data and transposing, we are now in the\u001B[39;00m\n\u001B[32m  11561\u001B[39m \u001B[38;5;66;03m#  simple case where we can use BlockManager.reduce\u001B[39;00m\n\u001B[32m> \u001B[39m\u001B[32m11562\u001B[39m res = \u001B[43mdf\u001B[49m\u001B[43m.\u001B[49m\u001B[43m_mgr\u001B[49m\u001B[43m.\u001B[49m\u001B[43mreduce\u001B[49m\u001B[43m(\u001B[49m\u001B[43mblk_func\u001B[49m\u001B[43m)\u001B[49m\n\u001B[32m  11563\u001B[39m out = df._constructor_from_mgr(res, axes=res.axes).iloc[\u001B[32m0\u001B[39m]\n\u001B[32m  11564\u001B[39m \u001B[38;5;28;01mif\u001B[39;00m out_dtype \u001B[38;5;129;01mis\u001B[39;00m \u001B[38;5;129;01mnot\u001B[39;00m \u001B[38;5;28;01mNone\u001B[39;00m \u001B[38;5;129;01mand\u001B[39;00m out.dtype != \u001B[33m\"\u001B[39m\u001B[33mboolean\u001B[39m\u001B[33m\"\u001B[39m:\n",
      "\u001B[36mFile \u001B[39m\u001B[32m~\\Desktop\\personalizacion\\.venv\\Lib\\site-packages\\pandas\\core\\internals\\managers.py:1500\u001B[39m, in \u001B[36mBlockManager.reduce\u001B[39m\u001B[34m(self, func)\u001B[39m\n\u001B[32m   1498\u001B[39m res_blocks: \u001B[38;5;28mlist\u001B[39m[Block] = []\n\u001B[32m   1499\u001B[39m \u001B[38;5;28;01mfor\u001B[39;00m blk \u001B[38;5;129;01min\u001B[39;00m \u001B[38;5;28mself\u001B[39m.blocks:\n\u001B[32m-> \u001B[39m\u001B[32m1500\u001B[39m     nbs = \u001B[43mblk\u001B[49m\u001B[43m.\u001B[49m\u001B[43mreduce\u001B[49m\u001B[43m(\u001B[49m\u001B[43mfunc\u001B[49m\u001B[43m)\u001B[49m\n\u001B[32m   1501\u001B[39m     res_blocks.extend(nbs)\n\u001B[32m   1503\u001B[39m index = Index([\u001B[38;5;28;01mNone\u001B[39;00m])  \u001B[38;5;66;03m# placeholder\u001B[39;00m\n",
      "\u001B[36mFile \u001B[39m\u001B[32m~\\Desktop\\personalizacion\\.venv\\Lib\\site-packages\\pandas\\core\\internals\\blocks.py:404\u001B[39m, in \u001B[36mBlock.reduce\u001B[39m\u001B[34m(self, func)\u001B[39m\n\u001B[32m    398\u001B[39m \u001B[38;5;129m@final\u001B[39m\n\u001B[32m    399\u001B[39m \u001B[38;5;28;01mdef\u001B[39;00m\u001B[38;5;250m \u001B[39m\u001B[34mreduce\u001B[39m(\u001B[38;5;28mself\u001B[39m, func) -> \u001B[38;5;28mlist\u001B[39m[Block]:\n\u001B[32m    400\u001B[39m     \u001B[38;5;66;03m# We will apply the function and reshape the result into a single-row\u001B[39;00m\n\u001B[32m    401\u001B[39m     \u001B[38;5;66;03m#  Block with the same mgr_locs; squeezing will be done at a higher level\u001B[39;00m\n\u001B[32m    402\u001B[39m     \u001B[38;5;28;01massert\u001B[39;00m \u001B[38;5;28mself\u001B[39m.ndim == \u001B[32m2\u001B[39m\n\u001B[32m--> \u001B[39m\u001B[32m404\u001B[39m     result = \u001B[43mfunc\u001B[49m\u001B[43m(\u001B[49m\u001B[38;5;28;43mself\u001B[39;49m\u001B[43m.\u001B[49m\u001B[43mvalues\u001B[49m\u001B[43m)\u001B[49m\n\u001B[32m    406\u001B[39m     \u001B[38;5;28;01mif\u001B[39;00m \u001B[38;5;28mself\u001B[39m.values.ndim == \u001B[32m1\u001B[39m:\n\u001B[32m    407\u001B[39m         res_values = result\n",
      "\u001B[36mFile \u001B[39m\u001B[32m~\\Desktop\\personalizacion\\.venv\\Lib\\site-packages\\pandas\\core\\frame.py:11481\u001B[39m, in \u001B[36mDataFrame._reduce.<locals>.blk_func\u001B[39m\u001B[34m(values, axis)\u001B[39m\n\u001B[32m  11479\u001B[39m         \u001B[38;5;28;01mreturn\u001B[39;00m np.array([result])\n\u001B[32m  11480\u001B[39m \u001B[38;5;28;01melse\u001B[39;00m:\n\u001B[32m> \u001B[39m\u001B[32m11481\u001B[39m     \u001B[38;5;28;01mreturn\u001B[39;00m \u001B[43mop\u001B[49m\u001B[43m(\u001B[49m\u001B[43mvalues\u001B[49m\u001B[43m,\u001B[49m\u001B[43m \u001B[49m\u001B[43maxis\u001B[49m\u001B[43m=\u001B[49m\u001B[43maxis\u001B[49m\u001B[43m,\u001B[49m\u001B[43m \u001B[49m\u001B[43mskipna\u001B[49m\u001B[43m=\u001B[49m\u001B[43mskipna\u001B[49m\u001B[43m,\u001B[49m\u001B[43m \u001B[49m\u001B[43m*\u001B[49m\u001B[43m*\u001B[49m\u001B[43mkwds\u001B[49m\u001B[43m)\u001B[49m\n",
      "\u001B[36mFile \u001B[39m\u001B[32m~\\Desktop\\personalizacion\\.venv\\Lib\\site-packages\\pandas\\core\\nanops.py:147\u001B[39m, in \u001B[36mbottleneck_switch.__call__.<locals>.f\u001B[39m\u001B[34m(values, axis, skipna, **kwds)\u001B[39m\n\u001B[32m    145\u001B[39m         result = alt(values, axis=axis, skipna=skipna, **kwds)\n\u001B[32m    146\u001B[39m \u001B[38;5;28;01melse\u001B[39;00m:\n\u001B[32m--> \u001B[39m\u001B[32m147\u001B[39m     result = \u001B[43malt\u001B[49m\u001B[43m(\u001B[49m\u001B[43mvalues\u001B[49m\u001B[43m,\u001B[49m\u001B[43m \u001B[49m\u001B[43maxis\u001B[49m\u001B[43m=\u001B[49m\u001B[43maxis\u001B[49m\u001B[43m,\u001B[49m\u001B[43m \u001B[49m\u001B[43mskipna\u001B[49m\u001B[43m=\u001B[49m\u001B[43mskipna\u001B[49m\u001B[43m,\u001B[49m\u001B[43m \u001B[49m\u001B[43m*\u001B[49m\u001B[43m*\u001B[49m\u001B[43mkwds\u001B[49m\u001B[43m)\u001B[49m\n\u001B[32m    149\u001B[39m \u001B[38;5;28;01mreturn\u001B[39;00m result\n",
      "\u001B[36mFile \u001B[39m\u001B[32m~\\Desktop\\personalizacion\\.venv\\Lib\\site-packages\\pandas\\core\\nanops.py:404\u001B[39m, in \u001B[36m_datetimelike_compat.<locals>.new_func\u001B[39m\u001B[34m(values, axis, skipna, mask, **kwargs)\u001B[39m\n\u001B[32m    401\u001B[39m \u001B[38;5;28;01mif\u001B[39;00m datetimelike \u001B[38;5;129;01mand\u001B[39;00m mask \u001B[38;5;129;01mis\u001B[39;00m \u001B[38;5;28;01mNone\u001B[39;00m:\n\u001B[32m    402\u001B[39m     mask = isna(values)\n\u001B[32m--> \u001B[39m\u001B[32m404\u001B[39m result = \u001B[43mfunc\u001B[49m\u001B[43m(\u001B[49m\u001B[43mvalues\u001B[49m\u001B[43m,\u001B[49m\u001B[43m \u001B[49m\u001B[43maxis\u001B[49m\u001B[43m=\u001B[49m\u001B[43maxis\u001B[49m\u001B[43m,\u001B[49m\u001B[43m \u001B[49m\u001B[43mskipna\u001B[49m\u001B[43m=\u001B[49m\u001B[43mskipna\u001B[49m\u001B[43m,\u001B[49m\u001B[43m \u001B[49m\u001B[43mmask\u001B[49m\u001B[43m=\u001B[49m\u001B[43mmask\u001B[49m\u001B[43m,\u001B[49m\u001B[43m \u001B[49m\u001B[43m*\u001B[49m\u001B[43m*\u001B[49m\u001B[43mkwargs\u001B[49m\u001B[43m)\u001B[49m\n\u001B[32m    406\u001B[39m \u001B[38;5;28;01mif\u001B[39;00m datetimelike:\n\u001B[32m    407\u001B[39m     result = _wrap_results(result, orig_values.dtype, fill_value=iNaT)\n",
      "\u001B[36mFile \u001B[39m\u001B[32m~\\Desktop\\personalizacion\\.venv\\Lib\\site-packages\\pandas\\core\\nanops.py:1095\u001B[39m, in \u001B[36m_nanminmax.<locals>.reduction\u001B[39m\u001B[34m(values, axis, skipna, mask)\u001B[39m\n\u001B[32m   1092\u001B[39m \u001B[38;5;28;01mif\u001B[39;00m values.size == \u001B[32m0\u001B[39m:\n\u001B[32m   1093\u001B[39m     \u001B[38;5;28;01mreturn\u001B[39;00m _na_for_min_count(values, axis)\n\u001B[32m-> \u001B[39m\u001B[32m1095\u001B[39m values, mask = \u001B[43m_get_values\u001B[49m\u001B[43m(\u001B[49m\n\u001B[32m   1096\u001B[39m \u001B[43m    \u001B[49m\u001B[43mvalues\u001B[49m\u001B[43m,\u001B[49m\u001B[43m \u001B[49m\u001B[43mskipna\u001B[49m\u001B[43m,\u001B[49m\u001B[43m \u001B[49m\u001B[43mfill_value_typ\u001B[49m\u001B[43m=\u001B[49m\u001B[43mfill_value_typ\u001B[49m\u001B[43m,\u001B[49m\u001B[43m \u001B[49m\u001B[43mmask\u001B[49m\u001B[43m=\u001B[49m\u001B[43mmask\u001B[49m\n\u001B[32m   1097\u001B[39m \u001B[43m\u001B[49m\u001B[43m)\u001B[49m\n\u001B[32m   1098\u001B[39m result = \u001B[38;5;28mgetattr\u001B[39m(values, meth)(axis)\n\u001B[32m   1099\u001B[39m result = _maybe_null_out(result, axis, mask, values.shape)\n",
      "\u001B[36mFile \u001B[39m\u001B[32m~\\Desktop\\personalizacion\\.venv\\Lib\\site-packages\\pandas\\core\\nanops.py:316\u001B[39m, in \u001B[36m_get_values\u001B[39m\u001B[34m(values, skipna, fill_value, fill_value_typ, mask)\u001B[39m\n\u001B[32m    314\u001B[39m \u001B[38;5;28;01mif\u001B[39;00m datetimelike \u001B[38;5;129;01mor\u001B[39;00m _na_ok_dtype(dtype):\n\u001B[32m    315\u001B[39m     values = values.copy()\n\u001B[32m--> \u001B[39m\u001B[32m316\u001B[39m     \u001B[43mnp\u001B[49m\u001B[43m.\u001B[49m\u001B[43mputmask\u001B[49m\u001B[43m(\u001B[49m\u001B[43mvalues\u001B[49m\u001B[43m,\u001B[49m\u001B[43m \u001B[49m\u001B[43mmask\u001B[49m\u001B[43m,\u001B[49m\u001B[43m \u001B[49m\u001B[43mfill_value\u001B[49m\u001B[43m)\u001B[49m\n\u001B[32m    317\u001B[39m \u001B[38;5;28;01melse\u001B[39;00m:\n\u001B[32m    318\u001B[39m     \u001B[38;5;66;03m# np.where will promote if needed\u001B[39;00m\n\u001B[32m    319\u001B[39m     values = np.where(~mask, values, fill_value)\n",
      "\u001B[31mKeyboardInterrupt\u001B[39m: "
     ]
    }
   ],
   "execution_count": 267
  },
  {
   "metadata": {},
   "cell_type": "markdown",
   "source": "## Estimar predicciones",
   "id": "f85d587ea1b26fbe"
  },
  {
   "metadata": {
    "ExecuteTime": {
     "end_time": "2025-05-19T11:00:44.916905Z",
     "start_time": "2025-05-19T11:00:44.910906Z"
    }
   },
   "cell_type": "code",
   "source": [
    "def deviation_from_mean_prediction(usuario, libro, neighbors, matrix=ratings_matrix_sample):\n",
    "    \"\"\"\n",
    "    Devuelve la predicción de un libro para un usuario dado usando el método de desviación de la media.\n",
    "    \"\"\"\n",
    "    acc = 0\n",
    "    count = 0\n",
    "\n",
    "    for n in neighbors:\n",
    "        if n is None:\n",
    "            break\n",
    "        # Verifica si el vecino tiene valoración para el libro i\n",
    "        if libro in matrix.columns and not pd.isna(matrix.loc[n, libro]):\n",
    "            avg_n = media_usuario(n, matrix)\n",
    "            acc += matrix.loc[n, libro] - avg_n\n",
    "            count += 1\n",
    "\n",
    "    if count > 0:\n",
    "        avg_u = media_usuario(usuario, matrix)\n",
    "        prediction = avg_u + acc / count\n",
    "        return prediction\n",
    "    else:\n",
    "        #print('No hay vecinos con valoraciones para el libro')\n",
    "        return None"
   ],
   "id": "a54abfaa7d55d998",
   "outputs": [],
   "execution_count": 284
  },
  {
   "metadata": {
    "ExecuteTime": {
     "end_time": "2025-05-19T11:00:46.745148Z",
     "start_time": "2025-05-19T11:00:46.741806Z"
    }
   },
   "cell_type": "code",
   "source": [
    "usuarios = mini_sample.index\n",
    "libros = mini_sample.columns\n",
    "\n",
    "usuario = usuarios[0]\n",
    "libro = libros[0]"
   ],
   "id": "cb38aa7edf2a27d9",
   "outputs": [],
   "execution_count": 285
  },
  {
   "metadata": {
    "ExecuteTime": {
     "end_time": "2025-05-19T11:01:02.743261Z",
     "start_time": "2025-05-19T11:00:47.413389Z"
    }
   },
   "cell_type": "code",
   "source": [
    "vecinos = k_nearest_neighbors(usuario, k=25, matrix=ratings_matrix_sample)\n",
    "vecinos_id = [n[0] for n in vecinos]"
   ],
   "id": "d3bf4639e3791b54",
   "outputs": [
    {
     "name": "stderr",
     "output_type": "stream",
     "text": [
      "100%|██████████| 1000/1000 [00:15<00:00, 65.25it/s]\n"
     ]
    }
   ],
   "execution_count": 286
  },
  {
   "metadata": {
    "ExecuteTime": {
     "end_time": "2025-05-19T10:58:30.508200Z",
     "start_time": "2025-05-19T10:58:30.503201Z"
    }
   },
   "cell_type": "code",
   "source": "pred = deviation_from_mean_prediction(usuario, libro, vecinos_id, matrix=ratings_matrix_sample)",
   "id": "5e135b26247a9c10",
   "outputs": [],
   "execution_count": 278
  },
  {
   "metadata": {
    "ExecuteTime": {
     "end_time": "2025-05-19T11:01:16.746232Z",
     "start_time": "2025-05-19T11:01:16.462610Z"
    }
   },
   "cell_type": "code",
   "source": [
    "# Aqui vemos que podemos predecir la puntuación de un libro para un usuario dado.\n",
    "\n",
    "for libro in sample_libros:\n",
    "    pred = deviation_from_mean_prediction(usuario, libro, vecinos_id, matrix=ratings_matrix_sample)\n",
    "    if pred is not None:\n",
    "        print(f\"Predicción para el libro {libro}: {pred:.2f}\")\n",
    "    else:\n",
    "        pass\n",
    "        # print(f\"No se pudo hacer la predicción para el libro {libro}\")"
   ],
   "id": "9fb748f5eb7ccb6c",
   "outputs": [
    {
     "name": "stdout",
     "output_type": "stream",
     "text": [
      "Predicción para el libro 191: 5.53\n",
      "Predicción para el libro 156: 5.00\n",
      "Predicción para el libro 223: 5.09\n",
      "Predicción para el libro 145: 4.97\n",
      "Predicción para el libro 101: 4.83\n",
      "Predicción para el libro 462: 5.00\n",
      "Predicción para el libro 954: 5.29\n",
      "Predicción para el libro 1577: 5.50\n",
      "Predicción para el libro 5650: 5.00\n",
      "Predicción para el libro 663: 5.91\n",
      "Predicción para el libro 2663: 3.93\n",
      "Predicción para el libro 2618: 4.72\n",
      "Predicción para el libro 5580: 5.22\n",
      "Predicción para el libro 511: 4.40\n",
      "Predicción para el libro 4054: 5.44\n",
      "Predicción para el libro 308: 4.60\n",
      "Predicción para el libro 3753: 6.50\n",
      "Predicción para el libro 4080: 5.92\n",
      "Predicción para el libro 6466: 5.00\n",
      "Predicción para el libro 687: 5.56\n",
      "Predicción para el libro 514: 5.34\n",
      "Predicción para el libro 589: 5.00\n",
      "Predicción para el libro 7469: 5.22\n",
      "Predicción para el libro 1715: 5.00\n",
      "Predicción para el libro 868: 5.03\n",
      "Predicción para el libro 887: 6.50\n",
      "Predicción para el libro 3415: 5.12\n",
      "Predicción para el libro 6374: 4.69\n",
      "Predicción para el libro 8862: 5.00\n",
      "Predicción para el libro 682: 4.64\n",
      "Predicción para el libro 2020: 5.85\n",
      "Predicción para el libro 1492: 5.39\n",
      "Predicción para el libro 2297: 3.50\n",
      "Predicción para el libro 4236: 3.69\n",
      "Predicción para el libro 2468: 2.46\n",
      "Predicción para el libro 819: 5.25\n",
      "Predicción para el libro 915: 3.36\n",
      "Predicción para el libro 661: 5.65\n",
      "Predicción para el libro 8866: 5.00\n",
      "Predicción para el libro 252: 5.14\n",
      "Predicción para el libro 1338: 6.50\n",
      "Predicción para el libro 43: 5.46\n",
      "Predicción para el libro 4157: 4.92\n",
      "Predicción para el libro 163: 5.20\n",
      "Predicción para el libro 255: 5.92\n",
      "Predicción para el libro 147: 5.00\n",
      "Predicción para el libro 214: 5.20\n",
      "Predicción para el libro 2668: 5.22\n",
      "Predicción para el libro 3363: 5.46\n",
      "Predicción para el libro 4138: 5.29\n",
      "Predicción para el libro 212: 5.00\n",
      "Predicción para el libro 1609: 5.29\n",
      "Predicción para el libro 2544: 3.75\n",
      "Predicción para el libro 3583: 5.67\n",
      "Predicción para el libro 614: 3.50\n",
      "Predicción para el libro 512: 5.32\n",
      "Predicción para el libro 266: 5.29\n",
      "Predicción para el libro 751: 5.02\n",
      "Predicción para el libro 1196: 5.12\n",
      "Predicción para el libro 3334: 5.00\n",
      "Predicción para el libro 735: 5.69\n",
      "Predicción para el libro 250: 5.62\n",
      "Predicción para el libro 2155: 3.36\n",
      "Predicción para el libro 465: 4.33\n",
      "Predicción para el libro 3934: 4.29\n",
      "Predicción para el libro 2922: 3.75\n",
      "Predicción para el libro 278: 5.51\n",
      "Predicción para el libro 691: 5.85\n",
      "Predicción para el libro 1717: 5.75\n",
      "Predicción para el libro 9601: 4.75\n",
      "Predicción para el libro 52: 3.73\n",
      "Predicción para el libro 1274: 5.15\n",
      "Predicción para el libro 1039: 4.74\n",
      "Predicción para el libro 392: 3.99\n",
      "Predicción para el libro 381: 4.87\n",
      "Predicción para el libro 532: 4.68\n",
      "Predicción para el libro 1742: 4.69\n",
      "Predicción para el libro 934: 3.21\n",
      "Predicción para el libro 637: 5.29\n",
      "Predicción para el libro 231: 5.09\n",
      "Predicción para el libro 2379: 4.36\n",
      "Predicción para el libro 99: 4.58\n",
      "Predicción para el libro 6218: 3.75\n",
      "Predicción para el libro 5010: 5.93\n",
      "Predicción para el libro 1294: 5.92\n",
      "Predicción para el libro 3985: 5.62\n",
      "Predicción para el libro 324: 4.62\n",
      "Predicción para el libro 3350: 5.20\n",
      "Predicción para el libro 119: 5.21\n",
      "Predicción para el libro 707: 4.93\n",
      "Predicción para el libro 446: 5.41\n",
      "Predicción para el libro 71: 5.06\n",
      "Predicción para el libro 499: 4.29\n",
      "Predicción para el libro 725: 5.29\n",
      "Predicción para el libro 5393: 4.50\n",
      "Predicción para el libro 158: 5.04\n",
      "Predicción para el libro 432: 5.29\n",
      "Predicción para el libro 254: 5.22\n",
      "Predicción para el libro 228: 3.22\n",
      "Predicción para el libro 1507: 5.56\n",
      "Predicción para el libro 102: 5.50\n",
      "Predicción para el libro 238: 4.54\n",
      "Predicción para el libro 4345: 5.67\n",
      "Predicción para el libro 2600: 4.92\n",
      "Predicción para el libro 5303: 5.46\n",
      "Predicción para el libro 484: 2.79\n",
      "Predicción para el libro 899: 4.89\n",
      "Predicción para el libro 1491: 4.00\n",
      "Predicción para el libro 40: 5.02\n",
      "Predicción para el libro 109: 5.50\n",
      "Predicción para el libro 8455: 4.29\n",
      "Predicción para el libro 4626: 4.50\n",
      "Predicción para el libro 124: 5.32\n",
      "Predicción para el libro 2162: 4.62\n",
      "Predicción para el libro 3094: 5.46\n",
      "Predicción para el libro 760: 5.00\n",
      "Predicción para el libro 1160: 5.75\n",
      "Predicción para el libro 51: 4.64\n",
      "Predicción para el libro 4494: 6.00\n",
      "Predicción para el libro 2192: 4.00\n",
      "Predicción para el libro 1317: 4.85\n",
      "Predicción para el libro 434: 5.22\n",
      "Predicción para el libro 2903: 4.69\n",
      "Predicción para el libro 2907: 5.25\n",
      "Predicción para el libro 3612: 5.29\n",
      "Predicción para el libro 196: 5.26\n",
      "Predicción para el libro 424: 5.62\n",
      "Predicción para el libro 126: 5.28\n",
      "Predicción para el libro 2404: 5.29\n",
      "Predicción para el libro 412: 4.73\n",
      "Predicción para el libro 314: 4.94\n",
      "Predicción para el libro 1053: 4.29\n",
      "Predicción para el libro 8992: 3.36\n"
     ]
    }
   ],
   "execution_count": 287
  },
  {
   "metadata": {
    "ExecuteTime": {
     "end_time": "2025-05-19T11:02:13.507775Z",
     "start_time": "2025-05-19T11:02:13.503542Z"
    }
   },
   "cell_type": "code",
   "source": [
    "def get_predictions(usuario, libros, vecinos_id, matrix):\n",
    "    \"\"\"\n",
    "    Devuelve todas las predicciones ordenadas de un usuario (prediccion, libro).\n",
    "    \"\"\"\n",
    "    predicciones = []\n",
    "\n",
    "    for libro in libros:\n",
    "        pred = deviation_from_mean_prediction(usuario, libro, vecinos_id, matrix=matrix)\n",
    "        if pred is not None:\n",
    "            predicciones.append((libro, pred))\n",
    "        # Si es None, simplemente no se añade\n",
    "\n",
    "    # Ordena por la predicción (valor), de mayor a menor, y toma los n primeros\n",
    "    return sorted(predicciones, key=lambda x: x[1], reverse=True)"
   ],
   "id": "bb0e427cbba37d9f",
   "outputs": [],
   "execution_count": 290
  },
  {
   "metadata": {
    "ExecuteTime": {
     "end_time": "2025-05-19T11:02:14.054616Z",
     "start_time": "2025-05-19T11:02:13.804644Z"
    }
   },
   "cell_type": "code",
   "source": "get_predictions(usuario, sample_libros, vecinos_id, ratings_matrix_sample)",
   "id": "78119595cdb23023",
   "outputs": [
    {
     "data": {
      "text/plain": [
       "[(3753, np.float64(6.5)),\n",
       " (887, np.float64(6.5)),\n",
       " (1338, np.float64(6.5)),\n",
       " (4494, np.float64(6.0)),\n",
       " (5010, np.float64(5.928571428571429)),\n",
       " (1294, np.float64(5.920350482850483)),\n",
       " (4080, np.float64(5.916666666666667)),\n",
       " (255, np.float64(5.916666666666667)),\n",
       " (663, np.float64(5.9125874125874125)),\n",
       " (2020, np.float64(5.846153846153846)),\n",
       " (691, np.float64(5.846153846153846)),\n",
       " (1717, np.float64(5.75)),\n",
       " (1160, np.float64(5.75)),\n",
       " (735, np.float64(5.6875)),\n",
       " (3583, np.float64(5.666666666666667)),\n",
       " (4345, np.float64(5.666666666666667)),\n",
       " (661, np.float64(5.653846153846153)),\n",
       " (250, np.float64(5.615384615384615)),\n",
       " (3985, np.float64(5.615384615384615)),\n",
       " (424, np.float64(5.615384615384615)),\n",
       " (687, np.float64(5.555555555555555)),\n",
       " (1507, np.float64(5.555555555555555)),\n",
       " (191, np.float64(5.533088235294118)),\n",
       " (278, np.float64(5.505685511384041)),\n",
       " (1577, np.float64(5.5)),\n",
       " (109, np.float64(5.5)),\n",
       " (102, np.float64(5.4990431300725415)),\n",
       " (43, np.float64(5.462614468864469)),\n",
       " (3363, np.float64(5.461538461538462)),\n",
       " (5303, np.float64(5.461538461538462)),\n",
       " (3094, np.float64(5.461538461538462)),\n",
       " (4054, np.float64(5.444444444444445)),\n",
       " (446, np.float64(5.407692307692308)),\n",
       " (1492, np.float64(5.389705882352941)),\n",
       " (514, np.float64(5.34375)),\n",
       " (512, np.float64(5.322712418300654)),\n",
       " (124, np.float64(5.315934065934066)),\n",
       " (954, np.float64(5.294117647058823)),\n",
       " (4138, np.float64(5.294117647058823)),\n",
       " (1609, np.float64(5.294117647058823)),\n",
       " (266, np.float64(5.294117647058823)),\n",
       " (637, np.float64(5.294117647058823)),\n",
       " (725, np.float64(5.294117647058823)),\n",
       " (432, np.float64(5.294117647058823)),\n",
       " (3612, np.float64(5.294117647058823)),\n",
       " (2404, np.float64(5.294117647058823)),\n",
       " (126, np.float64(5.277077497665733)),\n",
       " (196, np.float64(5.258169934640523)),\n",
       " (819, np.float64(5.25)),\n",
       " (2907, np.float64(5.25)),\n",
       " (5580, np.float64(5.222222222222222)),\n",
       " (7469, np.float64(5.222222222222222)),\n",
       " (2668, np.float64(5.222222222222222)),\n",
       " (254, np.float64(5.222222222222222)),\n",
       " (434, np.float64(5.222222222222222)),\n",
       " (119, np.float64(5.209349474055356)),\n",
       " (163, np.float64(5.2)),\n",
       " (214, np.float64(5.2)),\n",
       " (3350, np.float64(5.2)),\n",
       " (1274, np.float64(5.145833333333333)),\n",
       " (252, np.float64(5.140740740740741)),\n",
       " (3415, np.float64(5.125)),\n",
       " (1196, np.float64(5.125)),\n",
       " (223, np.float64(5.094246031746032)),\n",
       " (231, np.float64(5.08994708994709)),\n",
       " (71, np.float64(5.060164835164835)),\n",
       " (158, np.float64(5.039180672268907)),\n",
       " (868, np.float64(5.026785714285714)),\n",
       " (751, np.float64(5.022058823529411)),\n",
       " (40, np.float64(5.018675278969397)),\n",
       " (156, np.float64(5.0)),\n",
       " (462, np.float64(5.0)),\n",
       " (5650, np.float64(5.0)),\n",
       " (6466, np.float64(5.0)),\n",
       " (589, np.float64(5.0)),\n",
       " (1715, np.float64(5.0)),\n",
       " (8862, np.float64(5.0)),\n",
       " (8866, np.float64(5.0)),\n",
       " (147, np.float64(5.0)),\n",
       " (212, np.float64(5.0)),\n",
       " (3334, np.float64(5.0)),\n",
       " (760, np.float64(5.0)),\n",
       " (145, np.float64(4.969047619047619)),\n",
       " (314, np.float64(4.938690476190477)),\n",
       " (707, np.float64(4.928571428571429)),\n",
       " (4157, np.float64(4.916666666666667)),\n",
       " (2600, np.float64(4.916666666666667)),\n",
       " (899, np.float64(4.892857142857142)),\n",
       " (381, np.float64(4.8692810457516345)),\n",
       " (1317, np.float64(4.846153846153846)),\n",
       " (101, np.float64(4.829361406567289)),\n",
       " (9601, np.float64(4.75)),\n",
       " (1039, np.float64(4.736607142857142)),\n",
       " (412, np.float64(4.72542735042735)),\n",
       " (2618, np.float64(4.722222222222222)),\n",
       " (2903, np.float64(4.689102564102564)),\n",
       " (6374, np.float64(4.6875)),\n",
       " (1742, np.float64(4.6875)),\n",
       " (532, np.float64(4.682904411764706)),\n",
       " (51, np.float64(4.639814814814815)),\n",
       " (682, np.float64(4.6365007541478125)),\n",
       " (324, np.float64(4.615384615384615)),\n",
       " (2162, np.float64(4.615384615384615)),\n",
       " (308, np.float64(4.6008547008547005)),\n",
       " (99, np.float64(4.583333333333334)),\n",
       " (238, np.float64(4.54472841972842)),\n",
       " (5393, np.float64(4.5)),\n",
       " (4626, np.float64(4.5)),\n",
       " (511, np.float64(4.397058823529411)),\n",
       " (2379, np.float64(4.363636363636363)),\n",
       " (465, np.float64(4.328877005347594)),\n",
       " (3934, np.float64(4.294117647058823)),\n",
       " (499, np.float64(4.294117647058823)),\n",
       " (8455, np.float64(4.294117647058823)),\n",
       " (1053, np.float64(4.294117647058823)),\n",
       " (1491, np.float64(4.0)),\n",
       " (2192, np.float64(4.0)),\n",
       " (392, np.float64(3.9908088235294117)),\n",
       " (2663, np.float64(3.928571428571429)),\n",
       " (2544, np.float64(3.75)),\n",
       " (2922, np.float64(3.75)),\n",
       " (6218, np.float64(3.75)),\n",
       " (52, np.float64(3.7305555555555556)),\n",
       " (4236, np.float64(3.6875)),\n",
       " (2297, np.float64(3.5)),\n",
       " (614, np.float64(3.5)),\n",
       " (915, np.float64(3.3636363636363638)),\n",
       " (2155, np.float64(3.3636363636363638)),\n",
       " (8992, np.float64(3.3636363636363638)),\n",
       " (228, np.float64(3.220467032967033)),\n",
       " (934, np.float64(3.2083333333333335)),\n",
       " (484, np.float64(2.7857142857142856)),\n",
       " (2468, np.float64(2.4615384615384617))]"
      ]
     },
     "execution_count": 291,
     "metadata": {},
     "output_type": "execute_result"
    }
   ],
   "execution_count": 291
  },
  {
   "metadata": {},
   "cell_type": "markdown",
   "source": "## Conseguir recomendaciones",
   "id": "2a9a69e5c0b40320"
  },
  {
   "metadata": {
    "ExecuteTime": {
     "end_time": "2025-05-19T11:02:41.492326Z",
     "start_time": "2025-05-19T11:02:41.241402Z"
    }
   },
   "cell_type": "code",
   "source": [
    "def get_recommendations (usuario, sample_libros, vecinos_id, ratings_matrix_sample, n=10):\n",
    "    \"\"\"\n",
    "    Devuelve las n mejores recomendaciones para un usuario dado, simplemente genera las predicciones y trunca segun el numero deseado.\n",
    "    \"\"\"\n",
    "\n",
    "    prediccciones = get_predictions(usuario, sample_libros, vecinos_id, ratings_matrix_sample)\n",
    "    return prediccciones[:n] # Devuelve las 5 mejores recomendaciones\n",
    "\n",
    "get_recommendations(usuario, sample_libros, vecinos_id, ratings_matrix_sample, n=10)"
   ],
   "id": "2aef25361b667dfa",
   "outputs": [
    {
     "data": {
      "text/plain": [
       "[(3753, np.float64(6.5)),\n",
       " (887, np.float64(6.5)),\n",
       " (1338, np.float64(6.5)),\n",
       " (4494, np.float64(6.0)),\n",
       " (5010, np.float64(5.928571428571429)),\n",
       " (1294, np.float64(5.920350482850483)),\n",
       " (4080, np.float64(5.916666666666667)),\n",
       " (255, np.float64(5.916666666666667)),\n",
       " (663, np.float64(5.9125874125874125)),\n",
       " (2020, np.float64(5.846153846153846))]"
      ]
     },
     "execution_count": 292,
     "metadata": {},
     "output_type": "execute_result"
    }
   ],
   "execution_count": 292
  },
  {
   "metadata": {},
   "cell_type": "markdown",
   "source": "## Rellenar la matriz de ratings con las predicciones (Lo usaremos para evaluar el modelo)",
   "id": "a42110a9e36f595a"
  },
  {
   "metadata": {
    "ExecuteTime": {
     "end_time": "2025-05-19T11:03:04.138271Z",
     "start_time": "2025-05-19T11:03:04.128271Z"
    }
   },
   "cell_type": "code",
   "source": [
    "import pandas as pd\n",
    "import numpy as np\n",
    "\n",
    "def generar_matriz_predicciones(matrix, k=10):\n",
    "    usuarios = matrix.index\n",
    "    libros = matrix.columns\n",
    "    # Inicializa la matriz de predicciones con None\n",
    "    pred_matrix = pd.DataFrame(None, index=usuarios, columns=libros)\n",
    "\n",
    "    for usuario in tqdm(usuarios):\n",
    "        vecinos = k_nearest_neighbors(usuario, k=k, matrix=matrix, use_tqdm=False)\n",
    "        vecinos_id = [n[0] for n in vecinos]\n",
    "        for libro in libros:\n",
    "            pred = deviation_from_mean_prediction(usuario, libro, vecinos_id, matrix=matrix)\n",
    "            if pred is not None:\n",
    "                pred_matrix.loc[usuario, libro] = pred\n",
    "    return pred_matrix"
   ],
   "id": "1d94fb769425853b",
   "outputs": [],
   "execution_count": 293
  },
  {
   "metadata": {
    "ExecuteTime": {
     "end_time": "2025-05-19T11:04:30.095745Z",
     "start_time": "2025-05-19T11:04:29.202822Z"
    }
   },
   "cell_type": "code",
   "source": "pred_mini_sample = generar_matriz_predicciones(mini_sample, k=5)",
   "id": "50710266cc2c27d",
   "outputs": [
    {
     "name": "stderr",
     "output_type": "stream",
     "text": [
      "100%|██████████| 10/10 [00:00<00:00, 11.60it/s]\n"
     ]
    }
   ],
   "execution_count": 294
  },
  {
   "metadata": {
    "ExecuteTime": {
     "end_time": "2025-05-19T11:09:27.823934Z",
     "start_time": "2025-05-19T11:05:01.541231Z"
    }
   },
   "cell_type": "code",
   "source": "pred_mid_sample = generar_matriz_predicciones(mid_sample, k=5)",
   "id": "9e983a94386f401b",
   "outputs": [
    {
     "name": "stderr",
     "output_type": "stream",
     "text": [
      "  3%|▎         | 27/1000 [04:26<2:39:46,  9.85s/it]\n"
     ]
    },
    {
     "ename": "KeyboardInterrupt",
     "evalue": "",
     "output_type": "error",
     "traceback": [
      "\u001B[31m---------------------------------------------------------------------------\u001B[39m",
      "\u001B[31mKeyboardInterrupt\u001B[39m                         Traceback (most recent call last)",
      "\u001B[36mCell\u001B[39m\u001B[36m \u001B[39m\u001B[32mIn[296]\u001B[39m\u001B[32m, line 1\u001B[39m\n\u001B[32m----> \u001B[39m\u001B[32m1\u001B[39m pred_mid_sample = \u001B[43mgenerar_matriz_predicciones\u001B[49m\u001B[43m(\u001B[49m\u001B[43mmid_sample\u001B[49m\u001B[43m,\u001B[49m\u001B[43m \u001B[49m\u001B[43mk\u001B[49m\u001B[43m=\u001B[49m\u001B[32;43m5\u001B[39;49m\u001B[43m)\u001B[49m\n",
      "\u001B[36mCell\u001B[39m\u001B[36m \u001B[39m\u001B[32mIn[293]\u001B[39m\u001B[32m, line 11\u001B[39m, in \u001B[36mgenerar_matriz_predicciones\u001B[39m\u001B[34m(matrix, k)\u001B[39m\n\u001B[32m      8\u001B[39m pred_matrix = pd.DataFrame(\u001B[38;5;28;01mNone\u001B[39;00m, index=usuarios, columns=libros)\n\u001B[32m     10\u001B[39m \u001B[38;5;28;01mfor\u001B[39;00m usuario \u001B[38;5;129;01min\u001B[39;00m tqdm(usuarios):\n\u001B[32m---> \u001B[39m\u001B[32m11\u001B[39m     vecinos = \u001B[43mk_nearest_neighbors\u001B[49m\u001B[43m(\u001B[49m\u001B[43musuario\u001B[49m\u001B[43m,\u001B[49m\u001B[43m \u001B[49m\u001B[43mk\u001B[49m\u001B[43m=\u001B[49m\u001B[43mk\u001B[49m\u001B[43m,\u001B[49m\u001B[43m \u001B[49m\u001B[43mmatrix\u001B[49m\u001B[43m=\u001B[49m\u001B[43mmatrix\u001B[49m\u001B[43m,\u001B[49m\u001B[43m \u001B[49m\u001B[43muse_tqdm\u001B[49m\u001B[43m=\u001B[49m\u001B[38;5;28;43;01mFalse\u001B[39;49;00m\u001B[43m)\u001B[49m\n\u001B[32m     12\u001B[39m     vecinos_id = [n[\u001B[32m0\u001B[39m] \u001B[38;5;28;01mfor\u001B[39;00m n \u001B[38;5;129;01min\u001B[39;00m vecinos]\n\u001B[32m     13\u001B[39m     \u001B[38;5;28;01mfor\u001B[39;00m libro \u001B[38;5;129;01min\u001B[39;00m libros:\n",
      "\u001B[36mCell\u001B[39m\u001B[36m \u001B[39m\u001B[32mIn[260]\u001B[39m\u001B[32m, line 18\u001B[39m, in \u001B[36mk_nearest_neighbors\u001B[39m\u001B[34m(user_id, k, matrix, use_tqdm)\u001B[39m\n\u001B[32m     16\u001B[39m \u001B[38;5;28;01mfor\u001B[39;00m other_user \u001B[38;5;129;01min\u001B[39;00m iterador:\n\u001B[32m     17\u001B[39m     \u001B[38;5;28;01mif\u001B[39;00m other_user != user_id:\n\u001B[32m---> \u001B[39m\u001B[32m18\u001B[39m         sim = \u001B[43mjmsd_similarity\u001B[49m\u001B[43m(\u001B[49m\u001B[43muser_id\u001B[49m\u001B[43m,\u001B[49m\u001B[43m \u001B[49m\u001B[43mother_user\u001B[49m\u001B[43m,\u001B[49m\u001B[43m \u001B[49m\u001B[43mmatrix\u001B[49m\u001B[43m)\u001B[49m\n\u001B[32m     19\u001B[39m         \u001B[38;5;28;01mif\u001B[39;00m sim \u001B[38;5;129;01mis\u001B[39;00m \u001B[38;5;129;01mnot\u001B[39;00m \u001B[38;5;28;01mNone\u001B[39;00m:\n\u001B[32m     20\u001B[39m             similarities.append((other_user, sim))\n",
      "\u001B[36mCell\u001B[39m\u001B[36m \u001B[39m\u001B[32mIn[246]\u001B[39m\u001B[32m, line 25\u001B[39m, in \u001B[36mjmsd_similarity\u001B[39m\u001B[34m(u, v, matrix, print)\u001B[39m\n\u001B[32m     23\u001B[39m \u001B[38;5;66;03m# Normaliza las valoraciones\u001B[39;00m\n\u001B[32m     24\u001B[39m MIN_RATING = matrix.min().min()\n\u001B[32m---> \u001B[39m\u001B[32m25\u001B[39m MAX_RATING = \u001B[43mmatrix\u001B[49m\u001B[43m.\u001B[49m\u001B[43mmax\u001B[49m\u001B[43m(\u001B[49m\u001B[43m)\u001B[49m.max()\n\u001B[32m     26\u001B[39m r_u_norm = (r_u - MIN_RATING) / (MAX_RATING - MIN_RATING)\n\u001B[32m     27\u001B[39m r_v_norm = (r_v - MIN_RATING) / (MAX_RATING - MIN_RATING)\n",
      "\u001B[36mFile \u001B[39m\u001B[32m~\\Desktop\\personalizacion\\.venv\\Lib\\site-packages\\pandas\\core\\frame.py:11656\u001B[39m, in \u001B[36mDataFrame.max\u001B[39m\u001B[34m(self, axis, skipna, numeric_only, **kwargs)\u001B[39m\n\u001B[32m  11648\u001B[39m \u001B[38;5;129m@doc\u001B[39m(make_doc(\u001B[33m\"\u001B[39m\u001B[33mmax\u001B[39m\u001B[33m\"\u001B[39m, ndim=\u001B[32m2\u001B[39m))\n\u001B[32m  11649\u001B[39m \u001B[38;5;28;01mdef\u001B[39;00m\u001B[38;5;250m \u001B[39m\u001B[34mmax\u001B[39m(\n\u001B[32m  11650\u001B[39m     \u001B[38;5;28mself\u001B[39m,\n\u001B[32m   (...)\u001B[39m\u001B[32m  11654\u001B[39m     **kwargs,\n\u001B[32m  11655\u001B[39m ):\n\u001B[32m> \u001B[39m\u001B[32m11656\u001B[39m     result = \u001B[38;5;28;43msuper\u001B[39;49m\u001B[43m(\u001B[49m\u001B[43m)\u001B[49m\u001B[43m.\u001B[49m\u001B[43mmax\u001B[49m\u001B[43m(\u001B[49m\u001B[43maxis\u001B[49m\u001B[43m,\u001B[49m\u001B[43m \u001B[49m\u001B[43mskipna\u001B[49m\u001B[43m,\u001B[49m\u001B[43m \u001B[49m\u001B[43mnumeric_only\u001B[49m\u001B[43m,\u001B[49m\u001B[43m \u001B[49m\u001B[43m*\u001B[49m\u001B[43m*\u001B[49m\u001B[43mkwargs\u001B[49m\u001B[43m)\u001B[49m\n\u001B[32m  11657\u001B[39m     \u001B[38;5;28;01mif\u001B[39;00m \u001B[38;5;28misinstance\u001B[39m(result, Series):\n\u001B[32m  11658\u001B[39m         result = result.__finalize__(\u001B[38;5;28mself\u001B[39m, method=\u001B[33m\"\u001B[39m\u001B[33mmax\u001B[39m\u001B[33m\"\u001B[39m)\n",
      "\u001B[36mFile \u001B[39m\u001B[32m~\\Desktop\\personalizacion\\.venv\\Lib\\site-packages\\pandas\\core\\generic.py:12404\u001B[39m, in \u001B[36mNDFrame.max\u001B[39m\u001B[34m(self, axis, skipna, numeric_only, **kwargs)\u001B[39m\n\u001B[32m  12397\u001B[39m \u001B[38;5;28;01mdef\u001B[39;00m\u001B[38;5;250m \u001B[39m\u001B[34mmax\u001B[39m(\n\u001B[32m  12398\u001B[39m     \u001B[38;5;28mself\u001B[39m,\n\u001B[32m  12399\u001B[39m     axis: Axis | \u001B[38;5;28;01mNone\u001B[39;00m = \u001B[32m0\u001B[39m,\n\u001B[32m   (...)\u001B[39m\u001B[32m  12402\u001B[39m     **kwargs,\n\u001B[32m  12403\u001B[39m ):\n\u001B[32m> \u001B[39m\u001B[32m12404\u001B[39m     \u001B[38;5;28;01mreturn\u001B[39;00m \u001B[38;5;28;43mself\u001B[39;49m\u001B[43m.\u001B[49m\u001B[43m_stat_function\u001B[49m\u001B[43m(\u001B[49m\n\u001B[32m  12405\u001B[39m \u001B[43m        \u001B[49m\u001B[33;43m\"\u001B[39;49m\u001B[33;43mmax\u001B[39;49m\u001B[33;43m\"\u001B[39;49m\u001B[43m,\u001B[49m\n\u001B[32m  12406\u001B[39m \u001B[43m        \u001B[49m\u001B[43mnanops\u001B[49m\u001B[43m.\u001B[49m\u001B[43mnanmax\u001B[49m\u001B[43m,\u001B[49m\n\u001B[32m  12407\u001B[39m \u001B[43m        \u001B[49m\u001B[43maxis\u001B[49m\u001B[43m,\u001B[49m\n\u001B[32m  12408\u001B[39m \u001B[43m        \u001B[49m\u001B[43mskipna\u001B[49m\u001B[43m,\u001B[49m\n\u001B[32m  12409\u001B[39m \u001B[43m        \u001B[49m\u001B[43mnumeric_only\u001B[49m\u001B[43m,\u001B[49m\n\u001B[32m  12410\u001B[39m \u001B[43m        \u001B[49m\u001B[43m*\u001B[49m\u001B[43m*\u001B[49m\u001B[43mkwargs\u001B[49m\u001B[43m,\u001B[49m\n\u001B[32m  12411\u001B[39m \u001B[43m    \u001B[49m\u001B[43m)\u001B[49m\n",
      "\u001B[36mFile \u001B[39m\u001B[32m~\\Desktop\\personalizacion\\.venv\\Lib\\site-packages\\pandas\\core\\generic.py:12377\u001B[39m, in \u001B[36mNDFrame._stat_function\u001B[39m\u001B[34m(self, name, func, axis, skipna, numeric_only, **kwargs)\u001B[39m\n\u001B[32m  12373\u001B[39m nv.validate_func(name, (), kwargs)\n\u001B[32m  12375\u001B[39m validate_bool_kwarg(skipna, \u001B[33m\"\u001B[39m\u001B[33mskipna\u001B[39m\u001B[33m\"\u001B[39m, none_allowed=\u001B[38;5;28;01mFalse\u001B[39;00m)\n\u001B[32m> \u001B[39m\u001B[32m12377\u001B[39m \u001B[38;5;28;01mreturn\u001B[39;00m \u001B[38;5;28;43mself\u001B[39;49m\u001B[43m.\u001B[49m\u001B[43m_reduce\u001B[49m\u001B[43m(\u001B[49m\n\u001B[32m  12378\u001B[39m \u001B[43m    \u001B[49m\u001B[43mfunc\u001B[49m\u001B[43m,\u001B[49m\u001B[43m \u001B[49m\u001B[43mname\u001B[49m\u001B[43m=\u001B[49m\u001B[43mname\u001B[49m\u001B[43m,\u001B[49m\u001B[43m \u001B[49m\u001B[43maxis\u001B[49m\u001B[43m=\u001B[49m\u001B[43maxis\u001B[49m\u001B[43m,\u001B[49m\u001B[43m \u001B[49m\u001B[43mskipna\u001B[49m\u001B[43m=\u001B[49m\u001B[43mskipna\u001B[49m\u001B[43m,\u001B[49m\u001B[43m \u001B[49m\u001B[43mnumeric_only\u001B[49m\u001B[43m=\u001B[49m\u001B[43mnumeric_only\u001B[49m\n\u001B[32m  12379\u001B[39m \u001B[43m\u001B[49m\u001B[43m)\u001B[49m\n",
      "\u001B[36mFile \u001B[39m\u001B[32m~\\Desktop\\personalizacion\\.venv\\Lib\\site-packages\\pandas\\core\\frame.py:11562\u001B[39m, in \u001B[36mDataFrame._reduce\u001B[39m\u001B[34m(self, op, name, axis, skipna, numeric_only, filter_type, **kwds)\u001B[39m\n\u001B[32m  11558\u001B[39m     df = df.T\n\u001B[32m  11560\u001B[39m \u001B[38;5;66;03m# After possibly _get_data and transposing, we are now in the\u001B[39;00m\n\u001B[32m  11561\u001B[39m \u001B[38;5;66;03m#  simple case where we can use BlockManager.reduce\u001B[39;00m\n\u001B[32m> \u001B[39m\u001B[32m11562\u001B[39m res = \u001B[43mdf\u001B[49m\u001B[43m.\u001B[49m\u001B[43m_mgr\u001B[49m\u001B[43m.\u001B[49m\u001B[43mreduce\u001B[49m\u001B[43m(\u001B[49m\u001B[43mblk_func\u001B[49m\u001B[43m)\u001B[49m\n\u001B[32m  11563\u001B[39m out = df._constructor_from_mgr(res, axes=res.axes).iloc[\u001B[32m0\u001B[39m]\n\u001B[32m  11564\u001B[39m \u001B[38;5;28;01mif\u001B[39;00m out_dtype \u001B[38;5;129;01mis\u001B[39;00m \u001B[38;5;129;01mnot\u001B[39;00m \u001B[38;5;28;01mNone\u001B[39;00m \u001B[38;5;129;01mand\u001B[39;00m out.dtype != \u001B[33m\"\u001B[39m\u001B[33mboolean\u001B[39m\u001B[33m\"\u001B[39m:\n",
      "\u001B[36mFile \u001B[39m\u001B[32m~\\Desktop\\personalizacion\\.venv\\Lib\\site-packages\\pandas\\core\\internals\\managers.py:1500\u001B[39m, in \u001B[36mBlockManager.reduce\u001B[39m\u001B[34m(self, func)\u001B[39m\n\u001B[32m   1498\u001B[39m res_blocks: \u001B[38;5;28mlist\u001B[39m[Block] = []\n\u001B[32m   1499\u001B[39m \u001B[38;5;28;01mfor\u001B[39;00m blk \u001B[38;5;129;01min\u001B[39;00m \u001B[38;5;28mself\u001B[39m.blocks:\n\u001B[32m-> \u001B[39m\u001B[32m1500\u001B[39m     nbs = \u001B[43mblk\u001B[49m\u001B[43m.\u001B[49m\u001B[43mreduce\u001B[49m\u001B[43m(\u001B[49m\u001B[43mfunc\u001B[49m\u001B[43m)\u001B[49m\n\u001B[32m   1501\u001B[39m     res_blocks.extend(nbs)\n\u001B[32m   1503\u001B[39m index = Index([\u001B[38;5;28;01mNone\u001B[39;00m])  \u001B[38;5;66;03m# placeholder\u001B[39;00m\n",
      "\u001B[36mFile \u001B[39m\u001B[32m~\\Desktop\\personalizacion\\.venv\\Lib\\site-packages\\pandas\\core\\internals\\blocks.py:404\u001B[39m, in \u001B[36mBlock.reduce\u001B[39m\u001B[34m(self, func)\u001B[39m\n\u001B[32m    398\u001B[39m \u001B[38;5;129m@final\u001B[39m\n\u001B[32m    399\u001B[39m \u001B[38;5;28;01mdef\u001B[39;00m\u001B[38;5;250m \u001B[39m\u001B[34mreduce\u001B[39m(\u001B[38;5;28mself\u001B[39m, func) -> \u001B[38;5;28mlist\u001B[39m[Block]:\n\u001B[32m    400\u001B[39m     \u001B[38;5;66;03m# We will apply the function and reshape the result into a single-row\u001B[39;00m\n\u001B[32m    401\u001B[39m     \u001B[38;5;66;03m#  Block with the same mgr_locs; squeezing will be done at a higher level\u001B[39;00m\n\u001B[32m    402\u001B[39m     \u001B[38;5;28;01massert\u001B[39;00m \u001B[38;5;28mself\u001B[39m.ndim == \u001B[32m2\u001B[39m\n\u001B[32m--> \u001B[39m\u001B[32m404\u001B[39m     result = \u001B[43mfunc\u001B[49m\u001B[43m(\u001B[49m\u001B[38;5;28;43mself\u001B[39;49m\u001B[43m.\u001B[49m\u001B[43mvalues\u001B[49m\u001B[43m)\u001B[49m\n\u001B[32m    406\u001B[39m     \u001B[38;5;28;01mif\u001B[39;00m \u001B[38;5;28mself\u001B[39m.values.ndim == \u001B[32m1\u001B[39m:\n\u001B[32m    407\u001B[39m         res_values = result\n",
      "\u001B[36mFile \u001B[39m\u001B[32m~\\Desktop\\personalizacion\\.venv\\Lib\\site-packages\\pandas\\core\\frame.py:11481\u001B[39m, in \u001B[36mDataFrame._reduce.<locals>.blk_func\u001B[39m\u001B[34m(values, axis)\u001B[39m\n\u001B[32m  11479\u001B[39m         \u001B[38;5;28;01mreturn\u001B[39;00m np.array([result])\n\u001B[32m  11480\u001B[39m \u001B[38;5;28;01melse\u001B[39;00m:\n\u001B[32m> \u001B[39m\u001B[32m11481\u001B[39m     \u001B[38;5;28;01mreturn\u001B[39;00m \u001B[43mop\u001B[49m\u001B[43m(\u001B[49m\u001B[43mvalues\u001B[49m\u001B[43m,\u001B[49m\u001B[43m \u001B[49m\u001B[43maxis\u001B[49m\u001B[43m=\u001B[49m\u001B[43maxis\u001B[49m\u001B[43m,\u001B[49m\u001B[43m \u001B[49m\u001B[43mskipna\u001B[49m\u001B[43m=\u001B[49m\u001B[43mskipna\u001B[49m\u001B[43m,\u001B[49m\u001B[43m \u001B[49m\u001B[43m*\u001B[49m\u001B[43m*\u001B[49m\u001B[43mkwds\u001B[49m\u001B[43m)\u001B[49m\n",
      "\u001B[36mFile \u001B[39m\u001B[32m~\\Desktop\\personalizacion\\.venv\\Lib\\site-packages\\pandas\\core\\nanops.py:147\u001B[39m, in \u001B[36mbottleneck_switch.__call__.<locals>.f\u001B[39m\u001B[34m(values, axis, skipna, **kwds)\u001B[39m\n\u001B[32m    145\u001B[39m         result = alt(values, axis=axis, skipna=skipna, **kwds)\n\u001B[32m    146\u001B[39m \u001B[38;5;28;01melse\u001B[39;00m:\n\u001B[32m--> \u001B[39m\u001B[32m147\u001B[39m     result = \u001B[43malt\u001B[49m\u001B[43m(\u001B[49m\u001B[43mvalues\u001B[49m\u001B[43m,\u001B[49m\u001B[43m \u001B[49m\u001B[43maxis\u001B[49m\u001B[43m=\u001B[49m\u001B[43maxis\u001B[49m\u001B[43m,\u001B[49m\u001B[43m \u001B[49m\u001B[43mskipna\u001B[49m\u001B[43m=\u001B[49m\u001B[43mskipna\u001B[49m\u001B[43m,\u001B[49m\u001B[43m \u001B[49m\u001B[43m*\u001B[49m\u001B[43m*\u001B[49m\u001B[43mkwds\u001B[49m\u001B[43m)\u001B[49m\n\u001B[32m    149\u001B[39m \u001B[38;5;28;01mreturn\u001B[39;00m result\n",
      "\u001B[36mFile \u001B[39m\u001B[32m~\\Desktop\\personalizacion\\.venv\\Lib\\site-packages\\pandas\\core\\nanops.py:404\u001B[39m, in \u001B[36m_datetimelike_compat.<locals>.new_func\u001B[39m\u001B[34m(values, axis, skipna, mask, **kwargs)\u001B[39m\n\u001B[32m    401\u001B[39m \u001B[38;5;28;01mif\u001B[39;00m datetimelike \u001B[38;5;129;01mand\u001B[39;00m mask \u001B[38;5;129;01mis\u001B[39;00m \u001B[38;5;28;01mNone\u001B[39;00m:\n\u001B[32m    402\u001B[39m     mask = isna(values)\n\u001B[32m--> \u001B[39m\u001B[32m404\u001B[39m result = \u001B[43mfunc\u001B[49m\u001B[43m(\u001B[49m\u001B[43mvalues\u001B[49m\u001B[43m,\u001B[49m\u001B[43m \u001B[49m\u001B[43maxis\u001B[49m\u001B[43m=\u001B[49m\u001B[43maxis\u001B[49m\u001B[43m,\u001B[49m\u001B[43m \u001B[49m\u001B[43mskipna\u001B[49m\u001B[43m=\u001B[49m\u001B[43mskipna\u001B[49m\u001B[43m,\u001B[49m\u001B[43m \u001B[49m\u001B[43mmask\u001B[49m\u001B[43m=\u001B[49m\u001B[43mmask\u001B[49m\u001B[43m,\u001B[49m\u001B[43m \u001B[49m\u001B[43m*\u001B[49m\u001B[43m*\u001B[49m\u001B[43mkwargs\u001B[49m\u001B[43m)\u001B[49m\n\u001B[32m    406\u001B[39m \u001B[38;5;28;01mif\u001B[39;00m datetimelike:\n\u001B[32m    407\u001B[39m     result = _wrap_results(result, orig_values.dtype, fill_value=iNaT)\n",
      "\u001B[36mFile \u001B[39m\u001B[32m~\\Desktop\\personalizacion\\.venv\\Lib\\site-packages\\pandas\\core\\nanops.py:1095\u001B[39m, in \u001B[36m_nanminmax.<locals>.reduction\u001B[39m\u001B[34m(values, axis, skipna, mask)\u001B[39m\n\u001B[32m   1092\u001B[39m \u001B[38;5;28;01mif\u001B[39;00m values.size == \u001B[32m0\u001B[39m:\n\u001B[32m   1093\u001B[39m     \u001B[38;5;28;01mreturn\u001B[39;00m _na_for_min_count(values, axis)\n\u001B[32m-> \u001B[39m\u001B[32m1095\u001B[39m values, mask = \u001B[43m_get_values\u001B[49m\u001B[43m(\u001B[49m\n\u001B[32m   1096\u001B[39m \u001B[43m    \u001B[49m\u001B[43mvalues\u001B[49m\u001B[43m,\u001B[49m\u001B[43m \u001B[49m\u001B[43mskipna\u001B[49m\u001B[43m,\u001B[49m\u001B[43m \u001B[49m\u001B[43mfill_value_typ\u001B[49m\u001B[43m=\u001B[49m\u001B[43mfill_value_typ\u001B[49m\u001B[43m,\u001B[49m\u001B[43m \u001B[49m\u001B[43mmask\u001B[49m\u001B[43m=\u001B[49m\u001B[43mmask\u001B[49m\n\u001B[32m   1097\u001B[39m \u001B[43m\u001B[49m\u001B[43m)\u001B[49m\n\u001B[32m   1098\u001B[39m result = \u001B[38;5;28mgetattr\u001B[39m(values, meth)(axis)\n\u001B[32m   1099\u001B[39m result = _maybe_null_out(result, axis, mask, values.shape)\n",
      "\u001B[36mFile \u001B[39m\u001B[32m~\\Desktop\\personalizacion\\.venv\\Lib\\site-packages\\pandas\\core\\nanops.py:315\u001B[39m, in \u001B[36m_get_values\u001B[39m\u001B[34m(values, skipna, fill_value, fill_value_typ, mask)\u001B[39m\n\u001B[32m    313\u001B[39m \u001B[38;5;28;01mif\u001B[39;00m mask.any():\n\u001B[32m    314\u001B[39m     \u001B[38;5;28;01mif\u001B[39;00m datetimelike \u001B[38;5;129;01mor\u001B[39;00m _na_ok_dtype(dtype):\n\u001B[32m--> \u001B[39m\u001B[32m315\u001B[39m         values = \u001B[43mvalues\u001B[49m\u001B[43m.\u001B[49m\u001B[43mcopy\u001B[49m\u001B[43m(\u001B[49m\u001B[43m)\u001B[49m\n\u001B[32m    316\u001B[39m         np.putmask(values, mask, fill_value)\n\u001B[32m    317\u001B[39m     \u001B[38;5;28;01melse\u001B[39;00m:\n\u001B[32m    318\u001B[39m         \u001B[38;5;66;03m# np.where will promote if needed\u001B[39;00m\n",
      "\u001B[31mKeyboardInterrupt\u001B[39m: "
     ]
    }
   ],
   "execution_count": 296
  },
  {
   "metadata": {},
   "cell_type": "markdown",
   "source": "# A continuacion las funciones que vamos a usar para evaluar el modelo.",
   "id": "d8045dfd4729640a"
  },
  {
   "metadata": {},
   "cell_type": "markdown",
   "source": "## Calcular RMSE y MAE",
   "id": "4c98e022b72c4550"
  },
  {
   "metadata": {
    "ExecuteTime": {
     "end_time": "2025-05-19T11:09:39.729735Z",
     "start_time": "2025-05-19T11:09:39.584548Z"
    }
   },
   "cell_type": "code",
   "source": [
    "def calcular_errores(matrix_real, matrix_pred):\n",
    "    errores = []\n",
    "    for usuario in matrix_real.index:\n",
    "        for libro in matrix_real.columns:\n",
    "            real = matrix_real.loc[usuario, libro]\n",
    "            pred = matrix_pred.loc[usuario, libro]\n",
    "            if not (pd.isna(real) or pd.isna(pred)):\n",
    "                errores.append(abs(real - pred))\n",
    "    if errores:\n",
    "        return errores\n",
    "    else:\n",
    "        return None\n",
    "\n",
    "def calcular_mae(errores):\n",
    "    return np.mean(errores)\n",
    "\n",
    "def calcular_rmse(errores):\n",
    "    return np.sqrt(np.mean(np.square(errores)))\n",
    "\n",
    "\n",
    "# Pequeño test\n",
    "errores = calcular_errores(mini_sample, pred_mini_sample)\n",
    "mae = calcular_mae(errores)\n",
    "rmse = calcular_rmse(errores)\n",
    "\n",
    "print(\"MAE:\", mae)\n",
    "print(\"RMSE:\", rmse)"
   ],
   "id": "bdf6d1ca7149d8cd",
   "outputs": [
    {
     "name": "stdout",
     "output_type": "stream",
     "text": [
      "MAE: 0.6491905054405055\n",
      "RMSE: 0.8153142768731614\n"
     ]
    }
   ],
   "execution_count": 298
  },
  {
   "metadata": {},
   "cell_type": "markdown",
   "source": "## Precision",
   "id": "9ac3a46e5a8bc64d"
  },
  {
   "metadata": {
    "ExecuteTime": {
     "end_time": "2025-05-19T11:11:07.464415Z",
     "start_time": "2025-05-19T11:11:07.446416Z"
    }
   },
   "cell_type": "code",
   "source": [
    "def get_user_precision(user_id, pred_matrix, test_matrix, theta=4, n=10):\n",
    "\n",
    "    # Selecciona los libros con mayor predicción para el usuario\n",
    "    user_preds = pred_matrix.loc[user_id].dropna().sort_values(ascending=False)\n",
    "    top_n_books = user_preds.head(n).index\n",
    "\n",
    "    precision = 0\n",
    "    count = 0\n",
    "\n",
    "    for book_id in top_n_books:\n",
    "        real_rating = test_matrix.loc[user_id, book_id]\n",
    "        if not np.isnan(real_rating):\n",
    "            if real_rating >= theta:\n",
    "                precision += 1\n",
    "            count += 1\n",
    "\n",
    "    if count > 0:\n",
    "        return precision / count\n",
    "    else:\n",
    "        return None\n",
    "\n",
    "def get_all_precisions(pred_matrix, test_matrix, theta=4, n=10):\n",
    "    precisions = []\n",
    "    for user_id in pred_matrix.index:\n",
    "        user_precision = get_user_precision(user_id, pred_matrix, test_matrix, theta=theta, n=n)\n",
    "        if user_precision is not None:\n",
    "            precisions.append(user_precision)\n",
    "    return precisions\n",
    "\n",
    "def get_precision(pred_matrix, test_matrix, theta=4, n=10):\n",
    "    precisions = get_all_precisions(pred_matrix, test_matrix, theta=theta, n=n)\n",
    "    if precisions:\n",
    "        return np.mean(precisions)\n",
    "    else:\n",
    "        return None\n",
    "\n",
    "# Pequeño test\n",
    "usuarios = mini_sample.index\n",
    "precision_lista = get_all_precisions(pred_mini_sample, mini_sample, theta=4, n=10)\n",
    "precision_media = get_precision(pred_mini_sample, mini_sample, theta=4, n=10)\n",
    "print(\"Precisión por usuario:\", precision_lista)\n",
    "print(\"Precisión media:\", precision_media)"
   ],
   "id": "bd27f8daf4ac7b27",
   "outputs": [
    {
     "name": "stdout",
     "output_type": "stream",
     "text": [
      "Precisión por usuario: [1.0, 1.0, 1.0, 0.0, 1.0, 1.0]\n",
      "Precisión media: 0.8333333333333334\n"
     ]
    }
   ],
   "execution_count": 301
  },
  {
   "metadata": {
    "ExecuteTime": {
     "end_time": "2025-05-19T11:11:52.735589Z",
     "start_time": "2025-05-19T11:11:52.718547Z"
    }
   },
   "cell_type": "code",
   "source": [
    "import numpy as np\n",
    "\n",
    "def get_user_recall(user_id, pred_matrix, test_matrix, theta=4, n=10):\n",
    "    \"\"\"\n",
    "    Calcula el recall para un usuario dado.\n",
    "    \"\"\"\n",
    "    # Libros relevantes en test\n",
    "    relevant_books = test_matrix.loc[user_id][test_matrix.loc[user_id] >= theta].dropna().index\n",
    "    if len(relevant_books) == 0:\n",
    "        return None\n",
    "\n",
    "    # Libros recomendados (top-n predicciones)\n",
    "    user_preds = pred_matrix.loc[user_id].dropna().sort_values(ascending=False)\n",
    "    top_n_books = user_preds.head(n).index\n",
    "\n",
    "    # Libros relevantes recomendados\n",
    "    hits = len(set(top_n_books) & set(relevant_books))\n",
    "    recall = hits / len(relevant_books)\n",
    "    return recall\n",
    "\n",
    "def get_all_recalls(pred_matrix, test_matrix, theta=4, n=10):\n",
    "    recalls = []\n",
    "    for user_id in pred_matrix.index:\n",
    "        user_recall = get_user_recall(user_id, pred_matrix, test_matrix, theta=theta, n=n)\n",
    "        if user_recall is not None:\n",
    "            recalls.append(user_recall)\n",
    "    return recalls\n",
    "\n",
    "def get_recall(pred_matrix, test_matrix, theta=4, n=10):\n",
    "    recalls = get_all_recalls(pred_matrix, test_matrix, theta=theta, n=n)\n",
    "    if recalls:\n",
    "        return np.mean(recalls)\n",
    "    else:\n",
    "        return None\n",
    "\n",
    "recall_lista = get_all_recalls(pred_mini_sample, mini_sample, theta=4, n=10)\n",
    "recall_media = get_recall(pred_mini_sample, mini_sample, theta=4, n=10)\n",
    "\n",
    "print(\"Recall por usuario:\", recall_lista)\n",
    "print(\"Recall medio:\", recall_media)"
   ],
   "id": "e2772170ae6ba0ee",
   "outputs": [
    {
     "name": "stdout",
     "output_type": "stream",
     "text": [
      "Recall por usuario: [0.07407407407407407, 0.041666666666666664, 0.0, 0.16666666666666666, 0.0, 0.0, 0.0, 0.058823529411764705, 0.14285714285714285, 0.0]\n",
      "Recall medio: 0.048408807967631494\n"
     ]
    }
   ],
   "execution_count": 305
  },
  {
   "metadata": {
    "ExecuteTime": {
     "end_time": "2025-05-19T11:12:13.730704Z",
     "start_time": "2025-05-19T11:12:13.706701Z"
    }
   },
   "cell_type": "code",
   "source": [
    "def get_user_f1(user_id, pred_matrix, test_matrix, theta=4, n=10):\n",
    "    precision = get_user_precision(user_id, pred_matrix, test_matrix, theta=theta, n=n)\n",
    "    recall = get_user_recall(user_id, pred_matrix, test_matrix, theta=theta, n=n)\n",
    "    if precision is not None and recall is not None and (precision + recall) > 0:\n",
    "        return 2 * (precision * recall) / (precision + recall)\n",
    "    else:\n",
    "        return None\n",
    "\n",
    "def get_all_f1s(pred_matrix, test_matrix, theta=4, n=10):\n",
    "    f1s = []\n",
    "    for user_id in pred_matrix.index:\n",
    "        f1 = get_user_f1(user_id, pred_matrix, test_matrix, theta=theta, n=n)\n",
    "        if f1 is not None:\n",
    "            f1s.append(f1)\n",
    "    return f1s\n",
    "\n",
    "def get_f1(pred_matrix, test_matrix, theta=4, n=10):\n",
    "    f1s = get_all_f1s(pred_matrix, test_matrix, theta=theta, n=n)\n",
    "    if f1s:\n",
    "        return np.mean(f1s)\n",
    "    else:\n",
    "        return None\n",
    "\n",
    "f1_lista = get_all_f1s(pred_mini_sample, mini_sample, theta=4, n=10)\n",
    "f1_media = get_f1(pred_mini_sample, mini_sample, theta=4, n=10)\n",
    "print(\"F1 por usuario:\", f1_lista)\n",
    "print(\"F1 medio:\", f1_media)"
   ],
   "id": "245602ce50e39e7b",
   "outputs": [
    {
     "name": "stdout",
     "output_type": "stream",
     "text": [
      "F1 por usuario: [0.13793103448275862, 0.07999999999999999, 0.2857142857142857, 0.1111111111111111, 0.25]\n",
      "F1 medio: 0.1729512862616311\n"
     ]
    }
   ],
   "execution_count": 306
  },
  {
   "metadata": {},
   "cell_type": "markdown",
   "source": [
    "## Calculo final de metricas:\n",
    "\n",
    "Usando la nuestra mediana calculamos las métricas del modelo."
   ],
   "id": "d14169f0fd541217"
  },
  {
   "metadata": {},
   "cell_type": "code",
   "outputs": [],
   "execution_count": null,
   "source": [
    "# FALTA EJECUTAR\n",
    "\n",
    "pred_mid_matrix = generar_matriz_predicciones(mid_sample, k=5)"
   ],
   "id": "866d87f5b5a94c4f"
  },
  {
   "metadata": {
    "ExecuteTime": {
     "end_time": "2025-05-19T10:49:57.698202100Z",
     "start_time": "2025-05-19T10:25:22.193980Z"
    }
   },
   "cell_type": "code",
   "source": [
    "# Calcula métricas solo sobre mid_sample y sus predicciones\n",
    "errores = calcular_errores(mid_sample, pred_mid_matrix)\n",
    "mae = calcular_mae(errores)\n",
    "rmse = calcular_rmse(errores)\n",
    "precision_media = get_precision(pred_mid_matrix, mid_sample, theta=4, n=10)\n",
    "recall_media = get_recall(pred_mid_matrix, mid_sample, theta=4, n=10)\n",
    "f1_media = get_f1(pred_mid_matrix, mid_sample, theta=4, n=10)\n",
    "\n",
    "print(\"MAE:\", mae)\n",
    "print(\"RMSE:\", rmse)\n",
    "print(\"Precisión media:\", precision_media)\n",
    "print(\"Recall medio:\", recall_media)\n",
    "print(\"F1 medio:\", f1_media)"
   ],
   "id": "6d3573f356bdd5d6",
   "outputs": [
    {
     "name": "stderr",
     "output_type": "stream",
     "text": [
      "  0%|          | 0/53424 [07:45<?, ?it/s]\n"
     ]
    },
    {
     "ename": "KeyboardInterrupt",
     "evalue": "",
     "output_type": "error",
     "traceback": [
      "\u001B[31m---------------------------------------------------------------------------\u001B[39m",
      "\u001B[31mKeyboardInterrupt\u001B[39m                         Traceback (most recent call last)",
      "\u001B[36mCell\u001B[39m\u001B[36m \u001B[39m\u001B[32mIn[207]\u001B[39m\u001B[32m, line 1\u001B[39m\n\u001B[32m----> \u001B[39m\u001B[32m1\u001B[39m pred_matrix = \u001B[43mgenerar_matriz_predicciones\u001B[49m\u001B[43m(\u001B[49m\u001B[43mratings_matrix\u001B[49m\u001B[43m,\u001B[49m\u001B[43m \u001B[49m\u001B[43mk\u001B[49m\u001B[43m=\u001B[49m\u001B[32;43m5\u001B[39;49m\u001B[43m)\u001B[49m\n\u001B[32m      3\u001B[39m errores = calcular_errores(ratings_matrix, pred_matrix)\n\u001B[32m      4\u001B[39m mae = calcular_mae(errores)\n",
      "\u001B[36mCell\u001B[39m\u001B[36m \u001B[39m\u001B[32mIn[161]\u001B[39m\u001B[32m, line 11\u001B[39m, in \u001B[36mgenerar_matriz_predicciones\u001B[39m\u001B[34m(matrix, k)\u001B[39m\n\u001B[32m      8\u001B[39m pred_matrix = pd.DataFrame(\u001B[38;5;28;01mNone\u001B[39;00m, index=usuarios, columns=libros)\n\u001B[32m     10\u001B[39m \u001B[38;5;28;01mfor\u001B[39;00m usuario \u001B[38;5;129;01min\u001B[39;00m tqdm(usuarios):\n\u001B[32m---> \u001B[39m\u001B[32m11\u001B[39m     vecinos = \u001B[43mk_nearest_neighbors\u001B[49m\u001B[43m(\u001B[49m\u001B[43musuario\u001B[49m\u001B[43m,\u001B[49m\u001B[43m \u001B[49m\u001B[43mk\u001B[49m\u001B[43m=\u001B[49m\u001B[43mk\u001B[49m\u001B[43m,\u001B[49m\u001B[43m \u001B[49m\u001B[43mmatrix\u001B[49m\u001B[43m=\u001B[49m\u001B[43mmatrix\u001B[49m\u001B[43m,\u001B[49m\u001B[43m \u001B[49m\u001B[43muse_tqdm\u001B[49m\u001B[43m=\u001B[49m\u001B[38;5;28;43;01mFalse\u001B[39;49;00m\u001B[43m)\u001B[49m\n\u001B[32m     12\u001B[39m     vecinos_id = [n[\u001B[32m0\u001B[39m] \u001B[38;5;28;01mfor\u001B[39;00m n \u001B[38;5;129;01min\u001B[39;00m vecinos]\n\u001B[32m     13\u001B[39m     \u001B[38;5;28;01mfor\u001B[39;00m libro \u001B[38;5;129;01min\u001B[39;00m libros:\n",
      "\u001B[36mCell\u001B[39m\u001B[36m \u001B[39m\u001B[32mIn[137]\u001B[39m\u001B[32m, line 18\u001B[39m, in \u001B[36mk_nearest_neighbors\u001B[39m\u001B[34m(user_id, k, matrix, use_tqdm)\u001B[39m\n\u001B[32m     16\u001B[39m \u001B[38;5;28;01mfor\u001B[39;00m other_user \u001B[38;5;129;01min\u001B[39;00m iterador:\n\u001B[32m     17\u001B[39m     \u001B[38;5;28;01mif\u001B[39;00m other_user != user_id:\n\u001B[32m---> \u001B[39m\u001B[32m18\u001B[39m         sim = \u001B[43mjmsd_similarity\u001B[49m\u001B[43m(\u001B[49m\u001B[43muser_id\u001B[49m\u001B[43m,\u001B[49m\u001B[43m \u001B[49m\u001B[43mother_user\u001B[49m\u001B[43m,\u001B[49m\u001B[43m \u001B[49m\u001B[43mmatrix\u001B[49m\u001B[43m)\u001B[49m\n\u001B[32m     19\u001B[39m         \u001B[38;5;28;01mif\u001B[39;00m sim \u001B[38;5;129;01mis\u001B[39;00m \u001B[38;5;129;01mnot\u001B[39;00m \u001B[38;5;28;01mNone\u001B[39;00m:\n\u001B[32m     20\u001B[39m             similarities.append((other_user, sim))\n",
      "\u001B[36mCell\u001B[39m\u001B[36m \u001B[39m\u001B[32mIn[89]\u001B[39m\u001B[32m, line 29\u001B[39m, in \u001B[36mjmsd_similarity\u001B[39m\u001B[34m(u, v, matrix, print)\u001B[39m\n\u001B[32m     27\u001B[39m \u001B[38;5;66;03m# Normaliza las valoraciones\u001B[39;00m\n\u001B[32m     28\u001B[39m MIN_RATING = matrix.min().min()\n\u001B[32m---> \u001B[39m\u001B[32m29\u001B[39m MAX_RATING = \u001B[43mmatrix\u001B[49m\u001B[43m.\u001B[49m\u001B[43mmax\u001B[49m\u001B[43m(\u001B[49m\u001B[43m)\u001B[49m.max()\n\u001B[32m     30\u001B[39m r_u_norm = (r_u - MIN_RATING) / (MAX_RATING - MIN_RATING)\n\u001B[32m     31\u001B[39m r_v_norm = (r_v - MIN_RATING) / (MAX_RATING - MIN_RATING)\n",
      "\u001B[36mFile \u001B[39m\u001B[32m~\\Desktop\\personalizacion\\.venv\\Lib\\site-packages\\pandas\\core\\frame.py:11656\u001B[39m, in \u001B[36mDataFrame.max\u001B[39m\u001B[34m(self, axis, skipna, numeric_only, **kwargs)\u001B[39m\n\u001B[32m  11648\u001B[39m \u001B[38;5;129m@doc\u001B[39m(make_doc(\u001B[33m\"\u001B[39m\u001B[33mmax\u001B[39m\u001B[33m\"\u001B[39m, ndim=\u001B[32m2\u001B[39m))\n\u001B[32m  11649\u001B[39m \u001B[38;5;28;01mdef\u001B[39;00m\u001B[38;5;250m \u001B[39m\u001B[34mmax\u001B[39m(\n\u001B[32m  11650\u001B[39m     \u001B[38;5;28mself\u001B[39m,\n\u001B[32m   (...)\u001B[39m\u001B[32m  11654\u001B[39m     **kwargs,\n\u001B[32m  11655\u001B[39m ):\n\u001B[32m> \u001B[39m\u001B[32m11656\u001B[39m     result = \u001B[38;5;28;43msuper\u001B[39;49m\u001B[43m(\u001B[49m\u001B[43m)\u001B[49m\u001B[43m.\u001B[49m\u001B[43mmax\u001B[49m\u001B[43m(\u001B[49m\u001B[43maxis\u001B[49m\u001B[43m,\u001B[49m\u001B[43m \u001B[49m\u001B[43mskipna\u001B[49m\u001B[43m,\u001B[49m\u001B[43m \u001B[49m\u001B[43mnumeric_only\u001B[49m\u001B[43m,\u001B[49m\u001B[43m \u001B[49m\u001B[43m*\u001B[49m\u001B[43m*\u001B[49m\u001B[43mkwargs\u001B[49m\u001B[43m)\u001B[49m\n\u001B[32m  11657\u001B[39m     \u001B[38;5;28;01mif\u001B[39;00m \u001B[38;5;28misinstance\u001B[39m(result, Series):\n\u001B[32m  11658\u001B[39m         result = result.__finalize__(\u001B[38;5;28mself\u001B[39m, method=\u001B[33m\"\u001B[39m\u001B[33mmax\u001B[39m\u001B[33m\"\u001B[39m)\n",
      "\u001B[36mFile \u001B[39m\u001B[32m~\\Desktop\\personalizacion\\.venv\\Lib\\site-packages\\pandas\\core\\generic.py:12404\u001B[39m, in \u001B[36mNDFrame.max\u001B[39m\u001B[34m(self, axis, skipna, numeric_only, **kwargs)\u001B[39m\n\u001B[32m  12397\u001B[39m \u001B[38;5;28;01mdef\u001B[39;00m\u001B[38;5;250m \u001B[39m\u001B[34mmax\u001B[39m(\n\u001B[32m  12398\u001B[39m     \u001B[38;5;28mself\u001B[39m,\n\u001B[32m  12399\u001B[39m     axis: Axis | \u001B[38;5;28;01mNone\u001B[39;00m = \u001B[32m0\u001B[39m,\n\u001B[32m   (...)\u001B[39m\u001B[32m  12402\u001B[39m     **kwargs,\n\u001B[32m  12403\u001B[39m ):\n\u001B[32m> \u001B[39m\u001B[32m12404\u001B[39m     \u001B[38;5;28;01mreturn\u001B[39;00m \u001B[38;5;28;43mself\u001B[39;49m\u001B[43m.\u001B[49m\u001B[43m_stat_function\u001B[49m\u001B[43m(\u001B[49m\n\u001B[32m  12405\u001B[39m \u001B[43m        \u001B[49m\u001B[33;43m\"\u001B[39;49m\u001B[33;43mmax\u001B[39;49m\u001B[33;43m\"\u001B[39;49m\u001B[43m,\u001B[49m\n\u001B[32m  12406\u001B[39m \u001B[43m        \u001B[49m\u001B[43mnanops\u001B[49m\u001B[43m.\u001B[49m\u001B[43mnanmax\u001B[49m\u001B[43m,\u001B[49m\n\u001B[32m  12407\u001B[39m \u001B[43m        \u001B[49m\u001B[43maxis\u001B[49m\u001B[43m,\u001B[49m\n\u001B[32m  12408\u001B[39m \u001B[43m        \u001B[49m\u001B[43mskipna\u001B[49m\u001B[43m,\u001B[49m\n\u001B[32m  12409\u001B[39m \u001B[43m        \u001B[49m\u001B[43mnumeric_only\u001B[49m\u001B[43m,\u001B[49m\n\u001B[32m  12410\u001B[39m \u001B[43m        \u001B[49m\u001B[43m*\u001B[49m\u001B[43m*\u001B[49m\u001B[43mkwargs\u001B[49m\u001B[43m,\u001B[49m\n\u001B[32m  12411\u001B[39m \u001B[43m    \u001B[49m\u001B[43m)\u001B[49m\n",
      "\u001B[36mFile \u001B[39m\u001B[32m~\\Desktop\\personalizacion\\.venv\\Lib\\site-packages\\pandas\\core\\generic.py:12377\u001B[39m, in \u001B[36mNDFrame._stat_function\u001B[39m\u001B[34m(self, name, func, axis, skipna, numeric_only, **kwargs)\u001B[39m\n\u001B[32m  12373\u001B[39m nv.validate_func(name, (), kwargs)\n\u001B[32m  12375\u001B[39m validate_bool_kwarg(skipna, \u001B[33m\"\u001B[39m\u001B[33mskipna\u001B[39m\u001B[33m\"\u001B[39m, none_allowed=\u001B[38;5;28;01mFalse\u001B[39;00m)\n\u001B[32m> \u001B[39m\u001B[32m12377\u001B[39m \u001B[38;5;28;01mreturn\u001B[39;00m \u001B[38;5;28;43mself\u001B[39;49m\u001B[43m.\u001B[49m\u001B[43m_reduce\u001B[49m\u001B[43m(\u001B[49m\n\u001B[32m  12378\u001B[39m \u001B[43m    \u001B[49m\u001B[43mfunc\u001B[49m\u001B[43m,\u001B[49m\u001B[43m \u001B[49m\u001B[43mname\u001B[49m\u001B[43m=\u001B[49m\u001B[43mname\u001B[49m\u001B[43m,\u001B[49m\u001B[43m \u001B[49m\u001B[43maxis\u001B[49m\u001B[43m=\u001B[49m\u001B[43maxis\u001B[49m\u001B[43m,\u001B[49m\u001B[43m \u001B[49m\u001B[43mskipna\u001B[49m\u001B[43m=\u001B[49m\u001B[43mskipna\u001B[49m\u001B[43m,\u001B[49m\u001B[43m \u001B[49m\u001B[43mnumeric_only\u001B[49m\u001B[43m=\u001B[49m\u001B[43mnumeric_only\u001B[49m\n\u001B[32m  12379\u001B[39m \u001B[43m\u001B[49m\u001B[43m)\u001B[49m\n",
      "\u001B[36mFile \u001B[39m\u001B[32m~\\Desktop\\personalizacion\\.venv\\Lib\\site-packages\\pandas\\core\\frame.py:11562\u001B[39m, in \u001B[36mDataFrame._reduce\u001B[39m\u001B[34m(self, op, name, axis, skipna, numeric_only, filter_type, **kwds)\u001B[39m\n\u001B[32m  11558\u001B[39m     df = df.T\n\u001B[32m  11560\u001B[39m \u001B[38;5;66;03m# After possibly _get_data and transposing, we are now in the\u001B[39;00m\n\u001B[32m  11561\u001B[39m \u001B[38;5;66;03m#  simple case where we can use BlockManager.reduce\u001B[39;00m\n\u001B[32m> \u001B[39m\u001B[32m11562\u001B[39m res = \u001B[43mdf\u001B[49m\u001B[43m.\u001B[49m\u001B[43m_mgr\u001B[49m\u001B[43m.\u001B[49m\u001B[43mreduce\u001B[49m\u001B[43m(\u001B[49m\u001B[43mblk_func\u001B[49m\u001B[43m)\u001B[49m\n\u001B[32m  11563\u001B[39m out = df._constructor_from_mgr(res, axes=res.axes).iloc[\u001B[32m0\u001B[39m]\n\u001B[32m  11564\u001B[39m \u001B[38;5;28;01mif\u001B[39;00m out_dtype \u001B[38;5;129;01mis\u001B[39;00m \u001B[38;5;129;01mnot\u001B[39;00m \u001B[38;5;28;01mNone\u001B[39;00m \u001B[38;5;129;01mand\u001B[39;00m out.dtype != \u001B[33m\"\u001B[39m\u001B[33mboolean\u001B[39m\u001B[33m\"\u001B[39m:\n",
      "\u001B[36mFile \u001B[39m\u001B[32m~\\Desktop\\personalizacion\\.venv\\Lib\\site-packages\\pandas\\core\\internals\\managers.py:1500\u001B[39m, in \u001B[36mBlockManager.reduce\u001B[39m\u001B[34m(self, func)\u001B[39m\n\u001B[32m   1498\u001B[39m res_blocks: \u001B[38;5;28mlist\u001B[39m[Block] = []\n\u001B[32m   1499\u001B[39m \u001B[38;5;28;01mfor\u001B[39;00m blk \u001B[38;5;129;01min\u001B[39;00m \u001B[38;5;28mself\u001B[39m.blocks:\n\u001B[32m-> \u001B[39m\u001B[32m1500\u001B[39m     nbs = \u001B[43mblk\u001B[49m\u001B[43m.\u001B[49m\u001B[43mreduce\u001B[49m\u001B[43m(\u001B[49m\u001B[43mfunc\u001B[49m\u001B[43m)\u001B[49m\n\u001B[32m   1501\u001B[39m     res_blocks.extend(nbs)\n\u001B[32m   1503\u001B[39m index = Index([\u001B[38;5;28;01mNone\u001B[39;00m])  \u001B[38;5;66;03m# placeholder\u001B[39;00m\n",
      "\u001B[36mFile \u001B[39m\u001B[32m~\\Desktop\\personalizacion\\.venv\\Lib\\site-packages\\pandas\\core\\internals\\blocks.py:404\u001B[39m, in \u001B[36mBlock.reduce\u001B[39m\u001B[34m(self, func)\u001B[39m\n\u001B[32m    398\u001B[39m \u001B[38;5;129m@final\u001B[39m\n\u001B[32m    399\u001B[39m \u001B[38;5;28;01mdef\u001B[39;00m\u001B[38;5;250m \u001B[39m\u001B[34mreduce\u001B[39m(\u001B[38;5;28mself\u001B[39m, func) -> \u001B[38;5;28mlist\u001B[39m[Block]:\n\u001B[32m    400\u001B[39m     \u001B[38;5;66;03m# We will apply the function and reshape the result into a single-row\u001B[39;00m\n\u001B[32m    401\u001B[39m     \u001B[38;5;66;03m#  Block with the same mgr_locs; squeezing will be done at a higher level\u001B[39;00m\n\u001B[32m    402\u001B[39m     \u001B[38;5;28;01massert\u001B[39;00m \u001B[38;5;28mself\u001B[39m.ndim == \u001B[32m2\u001B[39m\n\u001B[32m--> \u001B[39m\u001B[32m404\u001B[39m     result = \u001B[43mfunc\u001B[49m\u001B[43m(\u001B[49m\u001B[38;5;28;43mself\u001B[39;49m\u001B[43m.\u001B[49m\u001B[43mvalues\u001B[49m\u001B[43m)\u001B[49m\n\u001B[32m    406\u001B[39m     \u001B[38;5;28;01mif\u001B[39;00m \u001B[38;5;28mself\u001B[39m.values.ndim == \u001B[32m1\u001B[39m:\n\u001B[32m    407\u001B[39m         res_values = result\n",
      "\u001B[36mFile \u001B[39m\u001B[32m~\\Desktop\\personalizacion\\.venv\\Lib\\site-packages\\pandas\\core\\frame.py:11481\u001B[39m, in \u001B[36mDataFrame._reduce.<locals>.blk_func\u001B[39m\u001B[34m(values, axis)\u001B[39m\n\u001B[32m  11479\u001B[39m         \u001B[38;5;28;01mreturn\u001B[39;00m np.array([result])\n\u001B[32m  11480\u001B[39m \u001B[38;5;28;01melse\u001B[39;00m:\n\u001B[32m> \u001B[39m\u001B[32m11481\u001B[39m     \u001B[38;5;28;01mreturn\u001B[39;00m \u001B[43mop\u001B[49m\u001B[43m(\u001B[49m\u001B[43mvalues\u001B[49m\u001B[43m,\u001B[49m\u001B[43m \u001B[49m\u001B[43maxis\u001B[49m\u001B[43m=\u001B[49m\u001B[43maxis\u001B[49m\u001B[43m,\u001B[49m\u001B[43m \u001B[49m\u001B[43mskipna\u001B[49m\u001B[43m=\u001B[49m\u001B[43mskipna\u001B[49m\u001B[43m,\u001B[49m\u001B[43m \u001B[49m\u001B[43m*\u001B[49m\u001B[43m*\u001B[49m\u001B[43mkwds\u001B[49m\u001B[43m)\u001B[49m\n",
      "\u001B[36mFile \u001B[39m\u001B[32m~\\Desktop\\personalizacion\\.venv\\Lib\\site-packages\\pandas\\core\\nanops.py:147\u001B[39m, in \u001B[36mbottleneck_switch.__call__.<locals>.f\u001B[39m\u001B[34m(values, axis, skipna, **kwds)\u001B[39m\n\u001B[32m    145\u001B[39m         result = alt(values, axis=axis, skipna=skipna, **kwds)\n\u001B[32m    146\u001B[39m \u001B[38;5;28;01melse\u001B[39;00m:\n\u001B[32m--> \u001B[39m\u001B[32m147\u001B[39m     result = \u001B[43malt\u001B[49m\u001B[43m(\u001B[49m\u001B[43mvalues\u001B[49m\u001B[43m,\u001B[49m\u001B[43m \u001B[49m\u001B[43maxis\u001B[49m\u001B[43m=\u001B[49m\u001B[43maxis\u001B[49m\u001B[43m,\u001B[49m\u001B[43m \u001B[49m\u001B[43mskipna\u001B[49m\u001B[43m=\u001B[49m\u001B[43mskipna\u001B[49m\u001B[43m,\u001B[49m\u001B[43m \u001B[49m\u001B[43m*\u001B[49m\u001B[43m*\u001B[49m\u001B[43mkwds\u001B[49m\u001B[43m)\u001B[49m\n\u001B[32m    149\u001B[39m \u001B[38;5;28;01mreturn\u001B[39;00m result\n",
      "\u001B[36mFile \u001B[39m\u001B[32m~\\Desktop\\personalizacion\\.venv\\Lib\\site-packages\\pandas\\core\\nanops.py:404\u001B[39m, in \u001B[36m_datetimelike_compat.<locals>.new_func\u001B[39m\u001B[34m(values, axis, skipna, mask, **kwargs)\u001B[39m\n\u001B[32m    401\u001B[39m \u001B[38;5;28;01mif\u001B[39;00m datetimelike \u001B[38;5;129;01mand\u001B[39;00m mask \u001B[38;5;129;01mis\u001B[39;00m \u001B[38;5;28;01mNone\u001B[39;00m:\n\u001B[32m    402\u001B[39m     mask = isna(values)\n\u001B[32m--> \u001B[39m\u001B[32m404\u001B[39m result = \u001B[43mfunc\u001B[49m\u001B[43m(\u001B[49m\u001B[43mvalues\u001B[49m\u001B[43m,\u001B[49m\u001B[43m \u001B[49m\u001B[43maxis\u001B[49m\u001B[43m=\u001B[49m\u001B[43maxis\u001B[49m\u001B[43m,\u001B[49m\u001B[43m \u001B[49m\u001B[43mskipna\u001B[49m\u001B[43m=\u001B[49m\u001B[43mskipna\u001B[49m\u001B[43m,\u001B[49m\u001B[43m \u001B[49m\u001B[43mmask\u001B[49m\u001B[43m=\u001B[49m\u001B[43mmask\u001B[49m\u001B[43m,\u001B[49m\u001B[43m \u001B[49m\u001B[43m*\u001B[49m\u001B[43m*\u001B[49m\u001B[43mkwargs\u001B[49m\u001B[43m)\u001B[49m\n\u001B[32m    406\u001B[39m \u001B[38;5;28;01mif\u001B[39;00m datetimelike:\n\u001B[32m    407\u001B[39m     result = _wrap_results(result, orig_values.dtype, fill_value=iNaT)\n",
      "\u001B[36mFile \u001B[39m\u001B[32m~\\Desktop\\personalizacion\\.venv\\Lib\\site-packages\\pandas\\core\\nanops.py:1099\u001B[39m, in \u001B[36m_nanminmax.<locals>.reduction\u001B[39m\u001B[34m(values, axis, skipna, mask)\u001B[39m\n\u001B[32m   1095\u001B[39m values, mask = _get_values(\n\u001B[32m   1096\u001B[39m     values, skipna, fill_value_typ=fill_value_typ, mask=mask\n\u001B[32m   1097\u001B[39m )\n\u001B[32m   1098\u001B[39m result = \u001B[38;5;28mgetattr\u001B[39m(values, meth)(axis)\n\u001B[32m-> \u001B[39m\u001B[32m1099\u001B[39m result = \u001B[43m_maybe_null_out\u001B[49m\u001B[43m(\u001B[49m\u001B[43mresult\u001B[49m\u001B[43m,\u001B[49m\u001B[43m \u001B[49m\u001B[43maxis\u001B[49m\u001B[43m,\u001B[49m\u001B[43m \u001B[49m\u001B[43mmask\u001B[49m\u001B[43m,\u001B[49m\u001B[43m \u001B[49m\u001B[43mvalues\u001B[49m\u001B[43m.\u001B[49m\u001B[43mshape\u001B[49m\u001B[43m)\u001B[49m\n\u001B[32m   1100\u001B[39m \u001B[38;5;28;01mreturn\u001B[39;00m result\n",
      "\u001B[36mFile \u001B[39m\u001B[32m~\\Desktop\\personalizacion\\.venv\\Lib\\site-packages\\pandas\\core\\nanops.py:1518\u001B[39m, in \u001B[36m_maybe_null_out\u001B[39m\u001B[34m(result, axis, mask, shape, min_count)\u001B[39m\n\u001B[32m   1516\u001B[39m \u001B[38;5;28;01mif\u001B[39;00m axis \u001B[38;5;129;01mis\u001B[39;00m \u001B[38;5;129;01mnot\u001B[39;00m \u001B[38;5;28;01mNone\u001B[39;00m \u001B[38;5;129;01mand\u001B[39;00m \u001B[38;5;28misinstance\u001B[39m(result, np.ndarray):\n\u001B[32m   1517\u001B[39m     \u001B[38;5;28;01mif\u001B[39;00m mask \u001B[38;5;129;01mis\u001B[39;00m \u001B[38;5;129;01mnot\u001B[39;00m \u001B[38;5;28;01mNone\u001B[39;00m:\n\u001B[32m-> \u001B[39m\u001B[32m1518\u001B[39m         null_mask = (mask.shape[axis] - \u001B[43mmask\u001B[49m\u001B[43m.\u001B[49m\u001B[43msum\u001B[49m\u001B[43m(\u001B[49m\u001B[43maxis\u001B[49m\u001B[43m)\u001B[49m - min_count) < \u001B[32m0\u001B[39m\n\u001B[32m   1519\u001B[39m     \u001B[38;5;28;01melse\u001B[39;00m:\n\u001B[32m   1520\u001B[39m         \u001B[38;5;66;03m# we have no nulls, kept mask=None in _maybe_get_mask\u001B[39;00m\n\u001B[32m   1521\u001B[39m         below_count = shape[axis] - min_count < \u001B[32m0\u001B[39m\n",
      "\u001B[36mFile \u001B[39m\u001B[32m~\\Desktop\\personalizacion\\.venv\\Lib\\site-packages\\numpy\\_core\\_methods.py:52\u001B[39m, in \u001B[36m_sum\u001B[39m\u001B[34m(a, axis, dtype, out, keepdims, initial, where)\u001B[39m\n\u001B[32m     50\u001B[39m \u001B[38;5;28;01mdef\u001B[39;00m\u001B[38;5;250m \u001B[39m\u001B[34m_sum\u001B[39m(a, axis=\u001B[38;5;28;01mNone\u001B[39;00m, dtype=\u001B[38;5;28;01mNone\u001B[39;00m, out=\u001B[38;5;28;01mNone\u001B[39;00m, keepdims=\u001B[38;5;28;01mFalse\u001B[39;00m,\n\u001B[32m     51\u001B[39m          initial=_NoValue, where=\u001B[38;5;28;01mTrue\u001B[39;00m):\n\u001B[32m---> \u001B[39m\u001B[32m52\u001B[39m     \u001B[38;5;28;01mreturn\u001B[39;00m \u001B[43mumr_sum\u001B[49m\u001B[43m(\u001B[49m\u001B[43ma\u001B[49m\u001B[43m,\u001B[49m\u001B[43m \u001B[49m\u001B[43maxis\u001B[49m\u001B[43m,\u001B[49m\u001B[43m \u001B[49m\u001B[43mdtype\u001B[49m\u001B[43m,\u001B[49m\u001B[43m \u001B[49m\u001B[43mout\u001B[49m\u001B[43m,\u001B[49m\u001B[43m \u001B[49m\u001B[43mkeepdims\u001B[49m\u001B[43m,\u001B[49m\u001B[43m \u001B[49m\u001B[43minitial\u001B[49m\u001B[43m,\u001B[49m\u001B[43m \u001B[49m\u001B[43mwhere\u001B[49m\u001B[43m)\u001B[49m\n",
      "\u001B[31mKeyboardInterrupt\u001B[39m: "
     ]
    }
   ],
   "execution_count": 207
  }
 ],
 "metadata": {
  "kernelspec": {
   "display_name": "Python 3",
   "language": "python",
   "name": "python3"
  },
  "language_info": {
   "codemirror_mode": {
    "name": "ipython",
    "version": 2
   },
   "file_extension": ".py",
   "mimetype": "text/x-python",
   "name": "python",
   "nbconvert_exporter": "python",
   "pygments_lexer": "ipython2",
   "version": "2.7.6"
  }
 },
 "nbformat": 4,
 "nbformat_minor": 5
}
