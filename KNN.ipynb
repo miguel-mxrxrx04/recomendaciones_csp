{
 "cells": [
  {
   "cell_type": "markdown",
   "id": "1fba99b7",
   "metadata": {},
   "source": [
    "Cargamos los datos procesados y preparamos para Surpirsa usando train_df"
   ]
  },
  {
   "cell_type": "code",
   "execution_count": null,
   "id": "c72d22c0",
   "metadata": {},
   "outputs": [
    {
     "name": "stdout",
     "output_type": "stream",
     "text": [
      "KNN colaborativo manual → RMSE: 0.8268, MAE: 0.6338\n"
     ]
    }
   ],
   "source": [
    "import os\n",
    "import numpy as np\n",
    "import pandas as pd\n",
    "from sklearn.metrics import mean_squared_error, mean_absolute_error\n",
    "from sklearn.metrics.pairwise import cosine_similarity\n",
    "\n",
    "# data loading\n",
    "processed_dir = 'data/processed'\n",
    "train = pd.read_csv(os.path.join(processed_dir, 'train.csv'))\n",
    "test  = pd.read_csv(os.path.join(processed_dir, 'test.csv'))\n",
    "\n",
    "# usuarios x libros\n",
    "num_users = train['user_id'].max()\n",
    "num_items = train['book_id'].max()\n",
    "R = np.zeros((num_users, num_items), dtype=np.float32)\n",
    "for _, row in train.iterrows():\n",
    "    R[int(row.user_id)-1, int(row.book_id)-1] = row.rating\n",
    "\n",
    "# user means\n",
    "counts = (R != 0).sum(axis=1)\n",
    "sums   = R.sum(axis=1)\n",
    "user_means = np.divide(sums, counts, out=np.zeros_like(sums), where=counts!=0)\n",
    "\n",
    "#    restamos a cada fila su rating siempre que exista\n",
    "D = R.copy()\n",
    "D = D - user_means[:, None]     # broadcasting\n",
    "D[R == 0] = 0                   \n",
    "\n",
    "# similitud coseno entre usuarios\n",
    "sim = cosine_similarity(D + 1e-9)\n",
    "\n",
    "# predicción knn\n",
    "def predict_knn(u, i, k=20):\n",
    "    # vecinos que valoraron el ítem i\n",
    "    voters = np.where(R[:, i] != 0)[0]\n",
    "    if len(voters) == 0:\n",
    "        return user_means[u]\n",
    "    sims = sim[u, voters]\n",
    "    idx = np.argsort(sims)[-k:]\n",
    "    top_sims = sims[idx]\n",
    "    top_devs = D[voters[idx], i]\n",
    "    if top_sims.sum() == 0:\n",
    "        return user_means[u]\n",
    "    pred = user_means[u] + np.dot(top_sims, top_devs) / np.abs(top_sims).sum()\n",
    "    return min(5, max(1, pred))\n",
    "\n",
    "y_true, y_pred = [], []\n",
    "for _, row in test.iterrows():\n",
    "    u = int(row.user_id) - 1\n",
    "    i = int(row.book_id) - 1\n",
    "    y_true.append(row.rating)\n",
    "    y_pred.append(predict_knn(u, i, k=20))\n",
    "\n",
    "rmse = np.sqrt(mean_squared_error(y_true, y_pred))\n",
    "mae  = mean_absolute_error(y_true, y_pred)\n",
    "\n",
    "print(f\"KNN colaborativo manual → RMSE: {rmse:.4f}, MAE: {mae:.4f}\")\n"
   ]
  }
 ],
 "metadata": {
  "kernelspec": {
   "display_name": "venv",
   "language": "python",
   "name": "python3"
  },
  "language_info": {
   "codemirror_mode": {
    "name": "ipython",
    "version": 3
   },
   "file_extension": ".py",
   "mimetype": "text/x-python",
   "name": "python",
   "nbconvert_exporter": "python",
   "pygments_lexer": "ipython3",
   "version": "3.12.10"
  }
 },
 "nbformat": 4,
 "nbformat_minor": 5
}
