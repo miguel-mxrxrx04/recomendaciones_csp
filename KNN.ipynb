{
 "cells": [
  {
   "cell_type": "code",
   "id": "initial_id",
   "metadata": {
    "collapsed": true,
    "ExecuteTime": {
     "end_time": "2025-05-19T18:28:38.723406Z",
     "start_time": "2025-05-19T18:28:38.720315Z"
    }
   },
   "source": [
    "import pandas as pd\n",
    "import numpy as np"
   ],
   "outputs": [],
   "execution_count": 13
  },
  {
   "metadata": {},
   "cell_type": "markdown",
   "source": [
    "## Cargamos los datos\n",
    "\n",
    "Cargamos los datos de ratings, books, tags y book_tags, generando un dataframe ratings_matrix, que será matriz R que vamos a usar para el modelo de KNN."
   ],
   "id": "794095a6431ece21"
  },
  {
   "metadata": {
    "ExecuteTime": {
     "end_time": "2025-05-19T18:28:40.240890Z",
     "start_time": "2025-05-19T18:28:38.766216Z"
    }
   },
   "cell_type": "code",
   "source": [
    "ratings = pd.read_csv('./data/ratings.csv')\n",
    "to_read = pd.read_csv('./data/to_read.csv')\n",
    "books = pd.read_csv('./data/books.csv')\n",
    "book_tags = pd.read_csv('./data/book_tags.csv')\n",
    "tags = pd.read_csv('./data/tags.csv')\n",
    "\n",
    "print(\"Ratings shape:\", ratings.shape)\n",
    "print(\"Books shape:\", books.shape)\n",
    "print(\"Tags shape:\", tags.shape)"
   ],
   "id": "5593e95291132f7d",
   "outputs": [
    {
     "name": "stdout",
     "output_type": "stream",
     "text": [
      "Ratings shape: (5976479, 3)\n",
      "Books shape: (10000, 23)\n",
      "Tags shape: (34252, 2)\n"
     ]
    }
   ],
   "execution_count": 14
  },
  {
   "metadata": {
    "ExecuteTime": {
     "end_time": "2025-05-19T18:28:44.666389Z",
     "start_time": "2025-05-19T18:28:40.279509Z"
    }
   },
   "cell_type": "code",
   "source": [
    "# Generamos la matriz de ratings, que será una matriz libros x usuario, vemos que ocupa 4 GB\n",
    "\n",
    "ratings_matrix = ratings.pivot(index='user_id', columns='book_id', values='rating')\n",
    "ratings_matrix.info( memory_usage='deep' )"
   ],
   "id": "5a0be5a2871575fd",
   "outputs": [
    {
     "name": "stdout",
     "output_type": "stream",
     "text": [
      "<class 'pandas.core.frame.DataFrame'>\n",
      "Index: 53424 entries, 1 to 53424\n",
      "Columns: 10000 entries, 1 to 10000\n",
      "dtypes: float64(10000)\n",
      "memory usage: 4.0 GB\n"
     ]
    }
   ],
   "execution_count": 15
  },
  {
   "metadata": {},
   "cell_type": "markdown",
   "source": [
    "# Generación de muestras.\n",
    "\n"
   ],
   "id": "4a0c44993dadeb97"
  },
  {
   "metadata": {
    "ExecuteTime": {
     "end_time": "2025-05-19T18:28:44.779838Z",
     "start_time": "2025-05-19T18:28:44.705818Z"
    }
   },
   "cell_type": "code",
   "source": [
    "# Muestra aleatoria de 1000 usuarios y 1000 libros (7.6 MB)\n",
    "\n",
    "N = 1000 # Número de usuarios\n",
    "M = 1000 # Número de libros\n",
    "\n",
    "ratings_matrix_sample = ratings_matrix.sample(N, axis=0).sample(M, axis=1)\n",
    "ratings_matrix_sample.info( memory_usage='deep' )"
   ],
   "id": "29be72507fea345f",
   "outputs": [
    {
     "name": "stdout",
     "output_type": "stream",
     "text": [
      "<class 'pandas.core.frame.DataFrame'>\n",
      "Index: 1000 entries, 48037 to 33778\n",
      "Columns: 1000 entries, 9958 to 4780\n",
      "dtypes: float64(1000)\n",
      "memory usage: 7.6 MB\n"
     ]
    }
   ],
   "execution_count": 16
  },
  {
   "metadata": {
    "ExecuteTime": {
     "end_time": "2025-05-19T18:28:44.880357Z",
     "start_time": "2025-05-19T18:28:44.837384Z"
    }
   },
   "cell_type": "code",
   "source": [
    "# Muestra de 10 usuario y 1000 libros que intenta estar lo mas poblada posible para garantizar que haya coincidencias entre usuarios (85.9 KB)\n",
    "\n",
    "N = 10 # Número de usuarios\n",
    "M = 1000 # Número de libros\n",
    "\n",
    "# Selecciona los 10 usuarios con más valoraciones\n",
    "usuarios_top = ratings_matrix_sample.notna().sum(axis=1).sort_values(ascending=False).head(N).index\n",
    "\n",
    "# Selecciona los 1000 libros con más valoraciones\n",
    "libros_top = ratings_matrix_sample.notna().sum(axis=0).sort_values(ascending=False).head(M).index\n",
    "\n",
    "mini_sample = ratings_matrix_sample.loc[usuarios_top, libros_top]\n",
    "mini_sample.info(memory_usage='deep')"
   ],
   "id": "64f50f9acaa70713",
   "outputs": [
    {
     "name": "stdout",
     "output_type": "stream",
     "text": [
      "<class 'pandas.core.frame.DataFrame'>\n",
      "Index: 10 entries, 16166 to 48825\n",
      "Columns: 1000 entries, 11 to 8574\n",
      "dtypes: float64(1000)\n",
      "memory usage: 78.2 KB\n"
     ]
    }
   ],
   "execution_count": 17
  },
  {
   "metadata": {
    "ExecuteTime": {
     "end_time": "2025-05-19T18:28:44.971798Z",
     "start_time": "2025-05-19T18:28:44.932888Z"
    }
   },
   "cell_type": "code",
   "source": [
    "# Muestra de 1000 usuario y 1000 libros que intenta estar lo mas poblada posible para garantizar que haya coincidencias entre usuarios (7.6 MB)\n",
    "\n",
    "N = 1000 # Número de usuarios\n",
    "M = 1000 # Número de libros\n",
    "\n",
    "# Selecciona los 10 usuarios con más valoraciones\n",
    "usuarios_top = ratings_matrix_sample.notna().sum(axis=1).sort_values(ascending=False).head(M).index\n",
    "\n",
    "# Selecciona los 1000 libros con más valoraciones\n",
    "libros_top = ratings_matrix_sample.notna().sum(axis=0).sort_values(ascending=False).head(N).index\n",
    "\n",
    "mid_sample = ratings_matrix_sample.loc[usuarios_top, libros_top]\n",
    "mid_sample.info(memory_usage='deep')"
   ],
   "id": "cb831c8ea6c6466e",
   "outputs": [
    {
     "name": "stdout",
     "output_type": "stream",
     "text": [
      "<class 'pandas.core.frame.DataFrame'>\n",
      "Index: 1000 entries, 16166 to 11620\n",
      "Columns: 1000 entries, 11 to 8574\n",
      "dtypes: float64(1000)\n",
      "memory usage: 7.6 MB\n"
     ]
    }
   ],
   "execution_count": 18
  },
  {
   "metadata": {},
   "cell_type": "markdown",
   "source": "A continuación se definen las funciones que se van a usar para el modelo de KNN. Y se hacen pruebas con la muestra de 10 usuarios y 1000 libros.",
   "id": "cd383b947861a37a"
  },
  {
   "metadata": {},
   "cell_type": "markdown",
   "source": "## Media de un usuario",
   "id": "54002bd046cd73ef"
  },
  {
   "metadata": {
    "ExecuteTime": {
     "end_time": "2025-05-19T18:28:45.033960Z",
     "start_time": "2025-05-19T18:28:45.030621Z"
    }
   },
   "cell_type": "code",
   "source": [
    "def media_usuario(user_id, matrix = ratings_matrix):\n",
    "    \"\"\"Devuelve la puntuación media de un usuario usando\"\"\"\n",
    "    if user_id not in matrix.index:\n",
    "        return None\n",
    "    ratings = matrix.loc[user_id].dropna()\n",
    "    if len(ratings) == 0:\n",
    "        return None\n",
    "    return np.mean(ratings)"
   ],
   "id": "2251b4ad52bc9538",
   "outputs": [],
   "execution_count": 19
  },
  {
   "metadata": {
    "ExecuteTime": {
     "end_time": "2025-05-19T18:28:45.107903Z",
     "start_time": "2025-05-19T18:28:45.102482Z"
    }
   },
   "cell_type": "code",
   "source": [
    "usuarios = mini_sample.index\n",
    "\n",
    "print(\"Media de un usuario:\", media_usuario(usuarios[0], mini_sample))"
   ],
   "id": "969a198b8744d37a",
   "outputs": [
    {
     "name": "stdout",
     "output_type": "stream",
     "text": [
      "Media de un usuario: 3.875\n"
     ]
    }
   ],
   "execution_count": 20
  },
  {
   "metadata": {
    "ExecuteTime": {
     "end_time": "2025-05-19T18:28:51.859473Z",
     "start_time": "2025-05-19T18:28:45.167661Z"
    }
   },
   "cell_type": "code",
   "source": [
    "import matplotlib.pyplot as plt\n",
    "import seaborn as sns\n",
    "\n",
    "sns.histplot(ratings_matrix.mean(axis=1), kde=True)\n",
    "plt.title('Distribución de la media de los usuarios')\n",
    "plt.xlabel('Media de valoraciones')\n",
    "plt.ylabel('Frecuencia')\n",
    "plt.show()"
   ],
   "id": "670f20422f74be93",
   "outputs": [
    {
     "data": {
      "text/plain": [
       "<Figure size 640x480 with 1 Axes>"
      ],
      "image/png": "[encoded data removed]"
     },
     "metadata": {},
     "output_type": "display_data"
    }
   ],
   "execution_count": 21
  },
  {
   "metadata": {},
   "cell_type": "markdown",
   "source": "## Similitud entre usuarios (Jaccard-MSD)",
   "id": "815e64d113fdbb49"
  },
  {
   "metadata": {
    "ExecuteTime": {
     "end_time": "2025-05-19T18:28:52.026487Z",
     "start_time": "2025-05-19T18:28:51.910716Z"
    }
   },
   "cell_type": "code",
   "source": [
    "def jmsd_similarity(u, v, matrix=ratings_matrix, print=False):\n",
    "    \"\"\"\n",
    "    Calcula la similitud JMSD entre dos usuarios (u, v) en una matriz libros x usuarios.\n",
    "    \"\"\"\n",
    "    if u not in matrix.index or v not in matrix.index:\n",
    "        if print:\n",
    "            print('usuario no encontrado')\n",
    "        return None\n",
    "\n",
    "    ratings_u = matrix.loc[u]\n",
    "    ratings_v = matrix.loc[v]\n",
    "\n",
    "    # Selecciona solo los libros que ambos han valorado\n",
    "    mask = ratings_u.notna() & ratings_v.notna()\n",
    "    if mask.sum() == 0:\n",
    "        if print:\n",
    "            print('no hay libros en común')\n",
    "        return None\n",
    "\n",
    "    r_u = ratings_u[mask]\n",
    "    r_v = ratings_v[mask]\n",
    "\n",
    "    # Normaliza las valoraciones\n",
    "    MIN_RATING = matrix.min().min()\n",
    "    MAX_RATING = matrix.max().max()\n",
    "    r_u_norm = (r_u - MIN_RATING) / (MAX_RATING - MIN_RATING)\n",
    "    r_v_norm = (r_v - MIN_RATING) / (MAX_RATING - MIN_RATING)\n",
    "\n",
    "    msd = np.mean((r_u_norm - r_v_norm) ** 2)\n",
    "    jaccard = mask.sum() / ((ratings_u.notna() | ratings_v.notna()).sum())\n",
    "\n",
    "    return jaccard * (1 - msd)"
   ],
   "id": "678a6981fbfcf6fa",
   "outputs": [],
   "execution_count": 22
  },
  {
   "metadata": {
    "ExecuteTime": {
     "end_time": "2025-05-19T18:28:52.104807Z",
     "start_time": "2025-05-19T18:28:52.074767Z"
    }
   },
   "cell_type": "code",
   "source": [
    "users = mini_sample.index\n",
    "jmsd_similarity(users[1], users[2], ratings_matrix_sample)"
   ],
   "id": "380aa9003e675e8e",
   "outputs": [
    {
     "data": {
      "text/plain": [
       "np.float64(0.053125000000000006)"
      ]
     },
     "execution_count": 23,
     "metadata": {},
     "output_type": "execute_result"
    }
   ],
   "execution_count": 23
  },
  {
   "metadata": {
    "ExecuteTime": {
     "end_time": "2025-05-19T18:28:52.582602Z",
     "start_time": "2025-05-19T18:28:52.173929Z"
    }
   },
   "cell_type": "code",
   "source": [
    "# Vamos a generar un heatmap de similitud entre usuarios\n",
    "usuarios = mini_sample.index\n",
    "\n",
    "sim_matrix = np.zeros((len(usuarios), len(usuarios)))\n",
    "\n",
    "for i, u1 in enumerate(usuarios):\n",
    "    for j, u2 in enumerate(usuarios):\n",
    "        if i <= j:\n",
    "            sim = jmsd_similarity(u1, u2, mini_sample)\n",
    "            sim_matrix[i, j] = sim\n",
    "            sim_matrix[j, i] = sim  # simétrica\n",
    "\n",
    "\n",
    "sim_df = pd.DataFrame(sim_matrix, index=usuarios, columns=usuarios)\n",
    "\n",
    "sns.heatmap(sim_df, annot=True, fmt=\".2f\", cmap=\"coolwarm\")\n",
    "plt.title(\"Heatmap de similitud JMSD entre usuarios\")\n",
    "plt.xlabel(\"Usuario\")\n",
    "plt.ylabel(\"Usuario\")\n",
    "plt.show()\n",
    "\n"
   ],
   "id": "d4fbaa49899f6f4e",
   "outputs": [
    {
     "data": {
      "text/plain": [
       "<Figure size 640x480 with 2 Axes>"
      ],
      "image/png": "[encoded data removed]"
     },
     "metadata": {},
     "output_type": "display_data"
    }
   ],
   "execution_count": 24
  },
  {
   "metadata": {},
   "cell_type": "markdown",
   "source": "## Buscar los k vecinos más cercanos",
   "id": "4fcb2ff4ebc5ab2b"
  },
  {
   "metadata": {
    "ExecuteTime": {
     "end_time": "2025-05-19T18:28:52.662827Z",
     "start_time": "2025-05-19T18:28:52.637465Z"
    }
   },
   "cell_type": "code",
   "source": "from tqdm import tqdm",
   "id": "9fad9f9466e29df",
   "outputs": [],
   "execution_count": 25
  },
  {
   "metadata": {
    "ExecuteTime": {
     "end_time": "2025-05-19T18:28:52.727545Z",
     "start_time": "2025-05-19T18:28:52.722534Z"
    }
   },
   "cell_type": "code",
   "source": [
    "def k_nearest_neighbors(user_id, k=5, matrix=ratings_matrix, use_tqdm=True):\n",
    "    \"\"\"\n",
    "    Devuelve los k vecinos más cercanos a un usuario dado en una matriz libros x usuarios.\n",
    "    \"\"\"\n",
    "    if user_id not in matrix.index:\n",
    "        print('usuario no encontrado')\n",
    "        return None\n",
    "\n",
    "    similarities = []\n",
    "\n",
    "    if use_tqdm:\n",
    "        iterador = tqdm(matrix.index)\n",
    "    else:\n",
    "        iterador = matrix.index\n",
    "\n",
    "    for other_user in iterador:\n",
    "        if other_user != user_id:\n",
    "            sim = jmsd_similarity(user_id, other_user, matrix)\n",
    "            if sim is not None:\n",
    "                similarities.append((other_user, sim))\n",
    "\n",
    "    # Ordena por similitud y selecciona los k más cercanos\n",
    "    similarities.sort(key=lambda x: x[1], reverse=True)\n",
    "    return similarities[:k]"
   ],
   "id": "cfb26f46e6500568",
   "outputs": [],
   "execution_count": 26
  },
  {
   "metadata": {
    "ExecuteTime": {
     "end_time": "2025-05-19T18:29:04.659499Z",
     "start_time": "2025-05-19T18:28:52.782161Z"
    }
   },
   "cell_type": "code",
   "source": [
    "usuarios = mid_sample.index\n",
    "\n",
    "k_nearest_neighbors(usuarios[0], k=5, matrix=mid_sample)"
   ],
   "id": "40f27f7be2c4b04b",
   "outputs": [
    {
     "name": "stderr",
     "output_type": "stream",
     "text": [
      "100%|██████████| 1000/1000 [00:11<00:00, 84.53it/s]\n"
     ]
    },
    {
     "data": {
      "text/plain": [
       "[(16992, np.float64(0.18548387096774194)),\n",
       " (5794, np.float64(0.18125000000000002)),\n",
       " (30451, np.float64(0.166015625)),\n",
       " (7256, np.float64(0.1575)),\n",
       " (24781, np.float64(0.15277777777777776))]"
      ]
     },
     "execution_count": 27,
     "metadata": {},
     "output_type": "execute_result"
    }
   ],
   "execution_count": 27
  },
  {
   "metadata": {
    "ExecuteTime": {
     "end_time": "2025-05-19T18:29:18.780057Z",
     "start_time": "2025-05-19T18:29:04.718575Z"
    }
   },
   "cell_type": "code",
   "source": [
    "usuarios = ratings_matrix.index\n",
    "\n",
    "k_nearest_neighbors(usuarios[0], k=5, matrix=ratings_matrix)\n",
    "\n",
    "# Como vemos la matriz de 4GB es muy grande para ejecutar KNN en un tiempo razonable."
   ],
   "id": "d70c83399c192ca",
   "outputs": [
    {
     "name": "stderr",
     "output_type": "stream",
     "text": [
      "  0%|          | 1/53424 [00:13<194:35:47, 13.11s/it]\n",
      "\n",
      "KeyboardInterrupt\n",
      "\n",
      "\n",
      "KeyboardInterrupt\n",
      "\n"
     ]
    }
   ],
   "execution_count": 27
  },
  {
   "metadata": {},
   "cell_type": "markdown",
   "source": "## Estimar predicciones",
   "id": "f85d587ea1b26fbe"
  },
  {
   "metadata": {
    "ExecuteTime": {
     "end_time": "2025-05-19T18:29:20.235522Z",
     "start_time": "2025-05-19T18:29:20.230683Z"
    }
   },
   "cell_type": "code",
   "source": [
    "def deviation_from_mean_prediction(usuario, libro, neighbors, matrix=ratings_matrix_sample):\n",
    "    \"\"\"\n",
    "    Devuelve la predicción de un libro para un usuario dado usando el método de desviación de la media.\n",
    "    \"\"\"\n",
    "    acc = 0\n",
    "    count = 0\n",
    "\n",
    "    for n in neighbors:\n",
    "        if n is None:\n",
    "            break\n",
    "        # Verifica si el vecino tiene valoración para el libro i\n",
    "        if libro in matrix.columns and not pd.isna(matrix.loc[n, libro]):\n",
    "            avg_n = media_usuario(n, matrix)\n",
    "            acc += matrix.loc[n, libro] - avg_n\n",
    "            count += 1\n",
    "\n",
    "    if count > 0:\n",
    "        avg_u = media_usuario(usuario, matrix)\n",
    "        prediction = avg_u + acc / count\n",
    "        return prediction\n",
    "    else:\n",
    "        #print('No hay vecinos con valoraciones para el libro')\n",
    "        return None"
   ],
   "id": "a54abfaa7d55d998",
   "outputs": [
    {
     "name": "stdout",
     "output_type": "stream",
     "text": [
      "ERROR! Session/line number was not unique in database. History logging moved to new session 466\n"
     ]
    }
   ],
   "execution_count": 28
  },
  {
   "metadata": {
    "ExecuteTime": {
     "end_time": "2025-05-19T18:29:20.624876Z",
     "start_time": "2025-05-19T18:29:20.621570Z"
    }
   },
   "cell_type": "code",
   "source": [
    "usuarios = mini_sample.index\n",
    "libros = mini_sample.columns\n",
    "\n",
    "usuario = usuarios[0]\n",
    "libro = libros[0]"
   ],
   "id": "cb38aa7edf2a27d9",
   "outputs": [],
   "execution_count": 29
  },
  {
   "metadata": {
    "ExecuteTime": {
     "end_time": "2025-05-19T18:29:33.044401Z",
     "start_time": "2025-05-19T18:29:20.739111Z"
    }
   },
   "cell_type": "code",
   "source": [
    "vecinos = k_nearest_neighbors(usuario, k=25, matrix=ratings_matrix_sample)\n",
    "vecinos_id = [n[0] for n in vecinos]"
   ],
   "id": "d3bf4639e3791b54",
   "outputs": [
    {
     "name": "stderr",
     "output_type": "stream",
     "text": [
      "100%|██████████| 1000/1000 [00:12<00:00, 81.31it/s]\n"
     ]
    }
   ],
   "execution_count": 30
  },
  {
   "metadata": {
    "ExecuteTime": {
     "end_time": "2025-05-19T18:29:33.094927Z",
     "start_time": "2025-05-19T18:29:33.088307Z"
    }
   },
   "cell_type": "code",
   "source": "pred = deviation_from_mean_prediction(usuario, libro, vecinos_id, matrix=ratings_matrix_sample)",
   "id": "5e135b26247a9c10",
   "outputs": [],
   "execution_count": 31
  },
  {
   "metadata": {
    "ExecuteTime": {
     "end_time": "2025-05-19T18:29:59.198406Z",
     "start_time": "2025-05-19T18:29:58.958413Z"
    }
   },
   "cell_type": "code",
   "source": [
    "# Aqui vemos que podemos predecir la puntuación de un libro para un usuario dado.\n",
    "\n",
    "for libro in libros:\n",
    "    pred = deviation_from_mean_prediction(usuario, libro, vecinos_id, matrix=ratings_matrix_sample)\n",
    "    if pred is not None:\n",
    "        print(f\"Predicción para el libro {libro}: {pred:.2f}\")\n",
    "    else:\n",
    "        pass\n",
    "        # print(f\"No se pudo hacer la predicción para el libro {libro}\")"
   ],
   "id": "9fb748f5eb7ccb6c",
   "outputs": [
    {
     "name": "stdout",
     "output_type": "stream",
     "text": [
      "Predicción para el libro 11: 4.05\n",
      "Predicción para el libro 47: 4.31\n",
      "Predicción para el libro 38: 4.37\n",
      "Predicción para el libro 65: 4.41\n",
      "Predicción para el libro 133: 4.43\n",
      "Predicción para el libro 73: 3.43\n",
      "Predicción para el libro 95: 4.29\n",
      "Predicción para el libro 89: 4.41\n",
      "Predicción para el libro 82: 3.73\n",
      "Predicción para el libro 178: 3.83\n",
      "Predicción para el libro 277: 2.38\n",
      "Predicción para el libro 339: 4.73\n",
      "Predicción para el libro 249: 3.96\n",
      "Predicción para el libro 199: 4.43\n",
      "Predicción para el libro 145: 0.78\n",
      "Predicción para el libro 287: 2.47\n",
      "Predicción para el libro 242: 4.54\n",
      "Predicción para el libro 241: 4.07\n",
      "Predicción para el libro 468: 3.35\n",
      "Predicción para el libro 187: 2.54\n",
      "Predicción para el libro 283: 3.57\n",
      "Predicción para el libro 379: 4.61\n",
      "Predicción para el libro 456: 4.31\n",
      "Predicción para el libro 646: 4.38\n",
      "Predicción para el libro 360: 3.90\n",
      "Predicción para el libro 261: 3.30\n",
      "Predicción para el libro 529: 3.78\n",
      "Predicción para el libro 417: 3.54\n",
      "Predicción para el libro 377: 2.58\n",
      "Predicción para el libro 333: 3.31\n",
      "Predicción para el libro 479: 3.36\n",
      "Predicción para el libro 919: 4.26\n",
      "Predicción para el libro 773: 3.64\n",
      "Predicción para el libro 274: 4.63\n",
      "Predicción para el libro 273: 4.31\n",
      "Predicción para el libro 670: 4.49\n",
      "Predicción para el libro 560: 3.40\n",
      "Predicción para el libro 693: 2.58\n",
      "Predicción para el libro 699: 4.59\n",
      "Predicción para el libro 299: 3.04\n",
      "Predicción para el libro 978: 2.73\n",
      "Predicción para el libro 1202: 4.16\n",
      "Predicción para el libro 338: 3.26\n",
      "Predicción para el libro 484: 3.51\n",
      "Predicción para el libro 431: 4.63\n",
      "Predicción para el libro 772: 2.96\n",
      "Predicción para el libro 491: 2.59\n",
      "Predicción para el libro 684: 3.38\n",
      "Predicción para el libro 1167: 3.81\n",
      "Predicción para el libro 1021: 3.60\n",
      "Predicción para el libro 792: 4.39\n",
      "Predicción para el libro 466: 0.96\n",
      "Predicción para el libro 859: 2.98\n",
      "Predicción para el libro 1339: 3.54\n",
      "Predicción para el libro 1477: 3.78\n",
      "Predicción para el libro 958: 3.73\n",
      "Predicción para el libro 1250: 4.36\n",
      "Predicción para el libro 1501: 3.54\n",
      "Predicción para el libro 1368: 4.02\n",
      "Predicción para el libro 1521: 3.19\n",
      "Predicción para el libro 1317: 4.88\n",
      "Predicción para el libro 1362: 2.98\n",
      "Predicción para el libro 1380: 4.58\n",
      "Predicción para el libro 1221: 3.15\n",
      "Predicción para el libro 708: 4.65\n",
      "Predicción para el libro 1346: 4.02\n",
      "Predicción para el libro 1961: 3.04\n",
      "Predicción para el libro 2188: 4.12\n",
      "Predicción para el libro 1132: 3.64\n",
      "Predicción para el libro 2120: 2.38\n",
      "Predicción para el libro 2009: 3.58\n",
      "Predicción para el libro 1486: 4.90\n",
      "Predicción para el libro 3513: 3.58\n",
      "Predicción para el libro 2041: 3.58\n",
      "Predicción para el libro 2269: 2.98\n",
      "Predicción para el libro 629: 5.65\n",
      "Predicción para el libro 2496: 2.31\n",
      "Predicción para el libro 2524: 4.31\n",
      "Predicción para el libro 2594: 1.49\n",
      "Predicción para el libro 3763: 2.91\n",
      "Predicción para el libro 2943: 1.31\n",
      "Predicción para el libro 4709: 3.11\n",
      "Predicción para el libro 1806: 0.78\n",
      "Predicción para el libro 2252: 3.98\n",
      "Predicción para el libro 1954: 4.49\n",
      "Predicción para el libro 2211: 3.98\n",
      "Predicción para el libro 2298: 4.49\n",
      "Predicción para el libro 2561: 3.38\n",
      "Predicción para el libro 4678: 3.58\n",
      "Predicción para el libro 2729: 4.95\n",
      "Predicción para el libro 1867: 1.38\n",
      "Predicción para el libro 2611: 4.59\n",
      "Predicción para el libro 3090: 2.49\n",
      "Predicción para el libro 4180: 3.11\n",
      "Predicción para el libro 2498: 4.28\n",
      "Predicción para el libro 5615: 5.12\n",
      "Predicción para el libro 2468: 3.94\n",
      "Predicción para el libro 2543: 3.96\n",
      "Predicción para el libro 3853: 4.81\n",
      "Predicción para el libro 3388: 4.78\n",
      "Predicción para el libro 5195: 4.58\n",
      "Predicción para el libro 4753: 4.78\n",
      "Predicción para el libro 2080: 4.38\n",
      "Predicción para el libro 5101: 1.95\n",
      "Predicción para el libro 2579: 4.12\n",
      "Predicción para el libro 3544: 4.59\n",
      "Predicción para el libro 1300: 3.31\n",
      "Predicción para el libro 5508: 4.96\n",
      "Predicción para el libro 3595: 4.49\n",
      "Predicción para el libro 1732: 3.38\n",
      "Predicción para el libro 1701: 3.54\n",
      "Predicción para el libro 2253: 3.96\n",
      "Predicción para el libro 3407: 3.58\n",
      "Predicción para el libro 3735: 4.78\n",
      "Predicción para el libro 2993: 4.58\n",
      "Predicción para el libro 5198: 4.11\n",
      "Predicción para el libro 8093: 3.58\n",
      "Predicción para el libro 4638: 5.11\n",
      "Predicción para el libro 4870: 3.11\n",
      "Predicción para el libro 4187: 4.78\n",
      "Predicción para el libro 4061: 4.15\n",
      "Predicción para el libro 7667: 4.58\n",
      "Predicción para el libro 4525: 3.60\n",
      "Predicción para el libro 8600: 3.08\n",
      "Predicción para el libro 4094: 3.73\n",
      "Predicción para el libro 5436: 3.93\n",
      "Predicción para el libro 4136: 4.78\n",
      "Predicción para el libro 1778: 3.11\n",
      "Predicción para el libro 5029: 5.12\n",
      "Predicción para el libro 7440: 4.95\n",
      "Predicción para el libro 6863: 4.88\n",
      "Predicción para el libro 8716: 2.02\n",
      "Predicción para el libro 6990: 5.38\n",
      "Predicción para el libro 7900: 3.02\n",
      "Predicción para el libro 7828: 3.54\n",
      "Predicción para el libro 9540: 3.02\n",
      "Predicción para el libro 7210: 4.78\n"
     ]
    }
   ],
   "execution_count": 33
  },
  {
   "metadata": {
    "ExecuteTime": {
     "end_time": "2025-05-19T18:30:04.767274Z",
     "start_time": "2025-05-19T18:30:04.763050Z"
    }
   },
   "cell_type": "code",
   "source": [
    "def get_predictions(usuario, libros, vecinos_id, matrix):\n",
    "    \"\"\"\n",
    "    Devuelve todas las predicciones ordenadas de un usuario (prediccion, libro).\n",
    "    \"\"\"\n",
    "    predicciones = []\n",
    "\n",
    "    for libro in libros:\n",
    "        pred = deviation_from_mean_prediction(usuario, libro, vecinos_id, matrix=matrix)\n",
    "        if pred is not None:\n",
    "            predicciones.append((libro, pred))\n",
    "        # Si es None, simplemente no se añade\n",
    "\n",
    "    # Ordena por la predicción (valor), de mayor a menor, y toma los n primeros\n",
    "    return sorted(predicciones, key=lambda x: x[1], reverse=True)"
   ],
   "id": "bb0e427cbba37d9f",
   "outputs": [],
   "execution_count": 35
  },
  {
   "metadata": {
    "ExecuteTime": {
     "end_time": "2025-05-19T18:30:07.473947Z",
     "start_time": "2025-05-19T18:30:07.238791Z"
    }
   },
   "cell_type": "code",
   "source": "get_predictions(usuario, libros, vecinos_id, ratings_matrix_sample)",
   "id": "78119595cdb23023",
   "outputs": [
    {
     "data": {
      "text/plain": [
       "[(629, np.float64(5.652777777777778)),\n",
       " (6990, np.float64(5.375)),\n",
       " (5615, np.float64(5.125)),\n",
       " (5029, np.float64(5.125)),\n",
       " (4638, np.float64(5.110294117647059)),\n",
       " (5508, np.float64(4.958333333333334)),\n",
       " (2729, np.float64(4.951923076923077)),\n",
       " (7440, np.float64(4.951923076923077)),\n",
       " (1486, np.float64(4.896428571428571)),\n",
       " (1317, np.float64(4.875)),\n",
       " (6863, np.float64(4.875)),\n",
       " (3853, np.float64(4.805555555555555)),\n",
       " (3388, np.float64(4.784090909090909)),\n",
       " (3735, np.float64(4.784090909090909)),\n",
       " (4187, np.float64(4.784090909090909)),\n",
       " (4136, np.float64(4.784090909090909)),\n",
       " (7210, np.float64(4.784090909090909)),\n",
       " (4753, np.float64(4.775)),\n",
       " (339, np.float64(4.732142857142857)),\n",
       " (708, np.float64(4.652777777777778)),\n",
       " (431, np.float64(4.632516339869281)),\n",
       " (274, np.float64(4.626262626262626)),\n",
       " (379, np.float64(4.611742424242424)),\n",
       " (699, np.float64(4.591577540106952)),\n",
       " (2611, np.float64(4.589285714285714)),\n",
       " (3544, np.float64(4.589285714285714)),\n",
       " (1380, np.float64(4.580882352941177)),\n",
       " (5195, np.float64(4.580882352941177)),\n",
       " (7667, np.float64(4.580882352941177)),\n",
       " (2993, np.float64(4.575980392156863)),\n",
       " (242, np.float64(4.541666666666667)),\n",
       " (670, np.float64(4.486111111111111)),\n",
       " (1954, np.float64(4.486111111111111)),\n",
       " (2298, np.float64(4.486111111111111)),\n",
       " (3595, np.float64(4.486111111111111)),\n",
       " (199, np.float64(4.428571428571429)),\n",
       " (133, np.float64(4.425595238095238)),\n",
       " (65, np.float64(4.4135239913273)),\n",
       " (89, np.float64(4.410119047619047)),\n",
       " (792, np.float64(4.389285714285714)),\n",
       " (646, np.float64(4.375)),\n",
       " (2080, np.float64(4.375)),\n",
       " (38, np.float64(4.372957459207459)),\n",
       " (1250, np.float64(4.359872480460716)),\n",
       " (47, np.float64(4.3125)),\n",
       " (273, np.float64(4.3125)),\n",
       " (2524, np.float64(4.3125)),\n",
       " (456, np.float64(4.309260332656055)),\n",
       " (95, np.float64(4.286375661375661)),\n",
       " (2498, np.float64(4.28030303030303)),\n",
       " (919, np.float64(4.263888888888889)),\n",
       " (1202, np.float64(4.1571350762527235)),\n",
       " (4061, np.float64(4.147727272727273)),\n",
       " (2188, np.float64(4.125)),\n",
       " (2579, np.float64(4.117647058823529)),\n",
       " (5198, np.float64(4.110294117647059)),\n",
       " (241, np.float64(4.069805194805195)),\n",
       " (11, np.float64(4.0465291017987095)),\n",
       " (1368, np.float64(4.017857142857143)),\n",
       " (1346, np.float64(4.017857142857143)),\n",
       " (2252, np.float64(3.975)),\n",
       " (2211, np.float64(3.975)),\n",
       " (249, np.float64(3.9640151515151514)),\n",
       " (2543, np.float64(3.9583333333333335)),\n",
       " (2253, np.float64(3.9583333333333335)),\n",
       " (2468, np.float64(3.9426470588235296)),\n",
       " (5436, np.float64(3.9285714285714284)),\n",
       " (360, np.float64(3.897875816993464)),\n",
       " (178, np.float64(3.8329306314600435)),\n",
       " (1167, np.float64(3.8089869281045754)),\n",
       " (529, np.float64(3.7750000000000004)),\n",
       " (1477, np.float64(3.7750000000000004)),\n",
       " (82, np.float64(3.733106708106708)),\n",
       " (958, np.float64(3.7321428571428568)),\n",
       " (4094, np.float64(3.7321428571428568)),\n",
       " (773, np.float64(3.6405122655122653)),\n",
       " (1132, np.float64(3.6351010101010104)),\n",
       " (4525, np.float64(3.6022727272727275)),\n",
       " (1021, np.float64(3.602029914529915)),\n",
       " (2009, np.float64(3.5808823529411766)),\n",
       " (3513, np.float64(3.5808823529411766)),\n",
       " (2041, np.float64(3.5808823529411766)),\n",
       " (4678, np.float64(3.5808823529411766)),\n",
       " (3407, np.float64(3.5808823529411766)),\n",
       " (8093, np.float64(3.5808823529411766)),\n",
       " (283, np.float64(3.5667211328976034)),\n",
       " (417, np.float64(3.541666666666667)),\n",
       " (1501, np.float64(3.541666666666667)),\n",
       " (1701, np.float64(3.541666666666667)),\n",
       " (7828, np.float64(3.541666666666667)),\n",
       " (1339, np.float64(3.536220043572985)),\n",
       " (484, np.float64(3.514657074951193)),\n",
       " (73, np.float64(3.425595238095238)),\n",
       " (560, np.float64(3.3964285714285714)),\n",
       " (684, np.float64(3.375)),\n",
       " (2561, np.float64(3.375)),\n",
       " (1732, np.float64(3.375)),\n",
       " (479, np.float64(3.3569444444444443)),\n",
       " (468, np.float64(3.3472222222222223)),\n",
       " (333, np.float64(3.3125)),\n",
       " (1300, np.float64(3.3125)),\n",
       " (261, np.float64(3.3023504273504276)),\n",
       " (338, np.float64(3.2613636363636367)),\n",
       " (1521, np.float64(3.188636363636364)),\n",
       " (1221, np.float64(3.147727272727273)),\n",
       " (4709, np.float64(3.110294117647059)),\n",
       " (4180, np.float64(3.110294117647059)),\n",
       " (4870, np.float64(3.110294117647059)),\n",
       " (1778, np.float64(3.110294117647059)),\n",
       " (8600, np.float64(3.075)),\n",
       " (299, np.float64(3.0416666666666665)),\n",
       " (1961, np.float64(3.0416666666666665)),\n",
       " (7900, np.float64(3.0178571428571432)),\n",
       " (9540, np.float64(3.017857142857143)),\n",
       " (859, np.float64(2.975)),\n",
       " (1362, np.float64(2.975)),\n",
       " (2269, np.float64(2.975)),\n",
       " (772, np.float64(2.9583333333333335)),\n",
       " (3763, np.float64(2.9108974358974358)),\n",
       " (978, np.float64(2.7301136363636367)),\n",
       " (491, np.float64(2.5892857142857144)),\n",
       " (377, np.float64(2.5808823529411766)),\n",
       " (693, np.float64(2.5808823529411766)),\n",
       " (187, np.float64(2.541666666666667)),\n",
       " (3090, np.float64(2.486111111111111)),\n",
       " (287, np.float64(2.4655339105339107)),\n",
       " (277, np.float64(2.375)),\n",
       " (2120, np.float64(2.375)),\n",
       " (2496, np.float64(2.3125)),\n",
       " (8716, np.float64(2.017857142857143)),\n",
       " (5101, np.float64(1.951923076923077)),\n",
       " (2594, np.float64(1.4861111111111112)),\n",
       " (1867, np.float64(1.375)),\n",
       " (2943, np.float64(1.3125)),\n",
       " (466, np.float64(0.9583333333333335)),\n",
       " (145, np.float64(0.7840909090909092)),\n",
       " (1806, np.float64(0.7840909090909092))]"
      ]
     },
     "execution_count": 36,
     "metadata": {},
     "output_type": "execute_result"
    }
   ],
   "execution_count": 36
  },
  {
   "metadata": {},
   "cell_type": "markdown",
   "source": "## Conseguir recomendaciones",
   "id": "2a9a69e5c0b40320"
  },
  {
   "metadata": {
    "ExecuteTime": {
     "end_time": "2025-05-19T18:30:12.269311Z",
     "start_time": "2025-05-19T18:30:12.033344Z"
    }
   },
   "cell_type": "code",
   "source": [
    "def get_recommendations (usuario, sample_libros, vecinos_id, ratings_matrix_sample, n=10):\n",
    "\n",
    "    prediccciones = get_predictions(usuario, sample_libros, vecinos_id, ratings_matrix_sample)\n",
    "    return prediccciones[:n] # Devuelve las 5 mejores recomendaciones\n",
    "\n",
    "get_recommendations(usuario, libros, vecinos_id, ratings_matrix_sample, n=10)"
   ],
   "id": "2aef25361b667dfa",
   "outputs": [
    {
     "data": {
      "text/plain": [
       "[(629, np.float64(5.652777777777778)),\n",
       " (6990, np.float64(5.375)),\n",
       " (5615, np.float64(5.125)),\n",
       " (5029, np.float64(5.125)),\n",
       " (4638, np.float64(5.110294117647059)),\n",
       " (5508, np.float64(4.958333333333334)),\n",
       " (2729, np.float64(4.951923076923077)),\n",
       " (7440, np.float64(4.951923076923077)),\n",
       " (1486, np.float64(4.896428571428571)),\n",
       " (1317, np.float64(4.875))]"
      ]
     },
     "execution_count": 38,
     "metadata": {},
     "output_type": "execute_result"
    }
   ],
   "execution_count": 38
  },
  {
   "metadata": {},
   "cell_type": "markdown",
   "source": "## Rellenar la matriz de ratings con las predicciones (Lo usaremos para evaluar el modelo)",
   "id": "a42110a9e36f595a"
  },
  {
   "metadata": {
    "ExecuteTime": {
     "end_time": "2025-05-19T18:30:13.257993Z",
     "start_time": "2025-05-19T18:30:13.253997Z"
    }
   },
   "cell_type": "code",
   "source": [
    "import pandas as pd\n",
    "import numpy as np\n",
    "\n",
    "def generar_matriz_predicciones(matrix, k=10):\n",
    "    usuarios = matrix.index\n",
    "    libros = matrix.columns\n",
    "    # Inicializa la matriz de predicciones con None\n",
    "    pred_matrix = pd.DataFrame(None, index=usuarios, columns=libros)\n",
    "\n",
    "    for usuario in tqdm(usuarios):\n",
    "        vecinos = k_nearest_neighbors(usuario, k=k, matrix=matrix, use_tqdm=False)\n",
    "        vecinos_id = [n[0] for n in vecinos]\n",
    "        for libro in libros:\n",
    "            pred = deviation_from_mean_prediction(usuario, libro, vecinos_id, matrix=matrix)\n",
    "            if pred is not None:\n",
    "                pred_matrix.loc[usuario, libro] = pred\n",
    "    return pred_matrix"
   ],
   "id": "1d94fb769425853b",
   "outputs": [],
   "execution_count": 39
  },
  {
   "metadata": {
    "ExecuteTime": {
     "end_time": "2025-05-19T18:30:16.225494Z",
     "start_time": "2025-05-19T18:30:15.501944Z"
    }
   },
   "cell_type": "code",
   "source": "pred_mini_sample = generar_matriz_predicciones(mini_sample, k=5)",
   "id": "50710266cc2c27d",
   "outputs": [
    {
     "name": "stderr",
     "output_type": "stream",
     "text": [
      "100%|██████████| 10/10 [00:00<00:00, 14.34it/s]\n"
     ]
    }
   ],
   "execution_count": 40
  },
  {
   "metadata": {
    "ExecuteTime": {
     "end_time": "2025-05-19T18:30:50.828219Z",
     "start_time": "2025-05-19T18:30:16.420845Z"
    }
   },
   "cell_type": "code",
   "source": "pred_mid_sample = generar_matriz_predicciones(mid_sample, k=5)",
   "id": "9e983a94386f401b",
   "outputs": [
    {
     "name": "stderr",
     "output_type": "stream",
     "text": [
      "  0%|          | 3/1000 [00:33<3:06:29, 11.22s/it]\n"
     ]
    },
    {
     "ename": "KeyboardInterrupt",
     "evalue": "",
     "output_type": "error",
     "traceback": [
      "\u001B[31m---------------------------------------------------------------------------\u001B[39m",
      "\u001B[31mKeyboardInterrupt\u001B[39m                         Traceback (most recent call last)",
      "\u001B[36mCell\u001B[39m\u001B[36m \u001B[39m\u001B[32mIn[41]\u001B[39m\u001B[32m, line 1\u001B[39m\n\u001B[32m----> \u001B[39m\u001B[32m1\u001B[39m pred_mid_sample = \u001B[43mgenerar_matriz_predicciones\u001B[49m\u001B[43m(\u001B[49m\u001B[43mmid_sample\u001B[49m\u001B[43m,\u001B[49m\u001B[43m \u001B[49m\u001B[43mk\u001B[49m\u001B[43m=\u001B[49m\u001B[32;43m5\u001B[39;49m\u001B[43m)\u001B[49m\n",
      "\u001B[36mCell\u001B[39m\u001B[36m \u001B[39m\u001B[32mIn[39]\u001B[39m\u001B[32m, line 11\u001B[39m, in \u001B[36mgenerar_matriz_predicciones\u001B[39m\u001B[34m(matrix, k)\u001B[39m\n\u001B[32m      8\u001B[39m pred_matrix = pd.DataFrame(\u001B[38;5;28;01mNone\u001B[39;00m, index=usuarios, columns=libros)\n\u001B[32m     10\u001B[39m \u001B[38;5;28;01mfor\u001B[39;00m usuario \u001B[38;5;129;01min\u001B[39;00m tqdm(usuarios):\n\u001B[32m---> \u001B[39m\u001B[32m11\u001B[39m     vecinos = \u001B[43mk_nearest_neighbors\u001B[49m\u001B[43m(\u001B[49m\u001B[43musuario\u001B[49m\u001B[43m,\u001B[49m\u001B[43m \u001B[49m\u001B[43mk\u001B[49m\u001B[43m=\u001B[49m\u001B[43mk\u001B[49m\u001B[43m,\u001B[49m\u001B[43m \u001B[49m\u001B[43mmatrix\u001B[49m\u001B[43m=\u001B[49m\u001B[43mmatrix\u001B[49m\u001B[43m,\u001B[49m\u001B[43m \u001B[49m\u001B[43muse_tqdm\u001B[49m\u001B[43m=\u001B[49m\u001B[38;5;28;43;01mFalse\u001B[39;49;00m\u001B[43m)\u001B[49m\n\u001B[32m     12\u001B[39m     vecinos_id = [n[\u001B[32m0\u001B[39m] \u001B[38;5;28;01mfor\u001B[39;00m n \u001B[38;5;129;01min\u001B[39;00m vecinos]\n\u001B[32m     13\u001B[39m     \u001B[38;5;28;01mfor\u001B[39;00m libro \u001B[38;5;129;01min\u001B[39;00m libros:\n",
      "\u001B[36mCell\u001B[39m\u001B[36m \u001B[39m\u001B[32mIn[26]\u001B[39m\u001B[32m, line 18\u001B[39m, in \u001B[36mk_nearest_neighbors\u001B[39m\u001B[34m(user_id, k, matrix, use_tqdm)\u001B[39m\n\u001B[32m     16\u001B[39m \u001B[38;5;28;01mfor\u001B[39;00m other_user \u001B[38;5;129;01min\u001B[39;00m iterador:\n\u001B[32m     17\u001B[39m     \u001B[38;5;28;01mif\u001B[39;00m other_user != user_id:\n\u001B[32m---> \u001B[39m\u001B[32m18\u001B[39m         sim = \u001B[43mjmsd_similarity\u001B[49m\u001B[43m(\u001B[49m\u001B[43muser_id\u001B[49m\u001B[43m,\u001B[49m\u001B[43m \u001B[49m\u001B[43mother_user\u001B[49m\u001B[43m,\u001B[49m\u001B[43m \u001B[49m\u001B[43mmatrix\u001B[49m\u001B[43m)\u001B[49m\n\u001B[32m     19\u001B[39m         \u001B[38;5;28;01mif\u001B[39;00m sim \u001B[38;5;129;01mis\u001B[39;00m \u001B[38;5;129;01mnot\u001B[39;00m \u001B[38;5;28;01mNone\u001B[39;00m:\n\u001B[32m     20\u001B[39m             similarities.append((other_user, sim))\n",
      "\u001B[36mCell\u001B[39m\u001B[36m \u001B[39m\u001B[32mIn[22]\u001B[39m\u001B[32m, line 25\u001B[39m, in \u001B[36mjmsd_similarity\u001B[39m\u001B[34m(u, v, matrix, print)\u001B[39m\n\u001B[32m     23\u001B[39m \u001B[38;5;66;03m# Normaliza las valoraciones\u001B[39;00m\n\u001B[32m     24\u001B[39m MIN_RATING = matrix.min().min()\n\u001B[32m---> \u001B[39m\u001B[32m25\u001B[39m MAX_RATING = \u001B[43mmatrix\u001B[49m\u001B[43m.\u001B[49m\u001B[43mmax\u001B[49m\u001B[43m(\u001B[49m\u001B[43m)\u001B[49m.max()\n\u001B[32m     26\u001B[39m r_u_norm = (r_u - MIN_RATING) / (MAX_RATING - MIN_RATING)\n\u001B[32m     27\u001B[39m r_v_norm = (r_v - MIN_RATING) / (MAX_RATING - MIN_RATING)\n",
      "\u001B[36mFile \u001B[39m\u001B[32m~\\Desktop\\personalizacion\\.venv\\Lib\\site-packages\\pandas\\core\\frame.py:11656\u001B[39m, in \u001B[36mDataFrame.max\u001B[39m\u001B[34m(self, axis, skipna, numeric_only, **kwargs)\u001B[39m\n\u001B[32m  11648\u001B[39m \u001B[38;5;129m@doc\u001B[39m(make_doc(\u001B[33m\"\u001B[39m\u001B[33mmax\u001B[39m\u001B[33m\"\u001B[39m, ndim=\u001B[32m2\u001B[39m))\n\u001B[32m  11649\u001B[39m \u001B[38;5;28;01mdef\u001B[39;00m\u001B[38;5;250m \u001B[39m\u001B[34mmax\u001B[39m(\n\u001B[32m  11650\u001B[39m     \u001B[38;5;28mself\u001B[39m,\n\u001B[32m   (...)\u001B[39m\u001B[32m  11654\u001B[39m     **kwargs,\n\u001B[32m  11655\u001B[39m ):\n\u001B[32m> \u001B[39m\u001B[32m11656\u001B[39m     result = \u001B[38;5;28;43msuper\u001B[39;49m\u001B[43m(\u001B[49m\u001B[43m)\u001B[49m\u001B[43m.\u001B[49m\u001B[43mmax\u001B[49m\u001B[43m(\u001B[49m\u001B[43maxis\u001B[49m\u001B[43m,\u001B[49m\u001B[43m \u001B[49m\u001B[43mskipna\u001B[49m\u001B[43m,\u001B[49m\u001B[43m \u001B[49m\u001B[43mnumeric_only\u001B[49m\u001B[43m,\u001B[49m\u001B[43m \u001B[49m\u001B[43m*\u001B[49m\u001B[43m*\u001B[49m\u001B[43mkwargs\u001B[49m\u001B[43m)\u001B[49m\n\u001B[32m  11657\u001B[39m     \u001B[38;5;28;01mif\u001B[39;00m \u001B[38;5;28misinstance\u001B[39m(result, Series):\n\u001B[32m  11658\u001B[39m         result = result.__finalize__(\u001B[38;5;28mself\u001B[39m, method=\u001B[33m\"\u001B[39m\u001B[33mmax\u001B[39m\u001B[33m\"\u001B[39m)\n",
      "\u001B[36mFile \u001B[39m\u001B[32m~\\Desktop\\personalizacion\\.venv\\Lib\\site-packages\\pandas\\core\\generic.py:12404\u001B[39m, in \u001B[36mNDFrame.max\u001B[39m\u001B[34m(self, axis, skipna, numeric_only, **kwargs)\u001B[39m\n\u001B[32m  12397\u001B[39m \u001B[38;5;28;01mdef\u001B[39;00m\u001B[38;5;250m \u001B[39m\u001B[34mmax\u001B[39m(\n\u001B[32m  12398\u001B[39m     \u001B[38;5;28mself\u001B[39m,\n\u001B[32m  12399\u001B[39m     axis: Axis | \u001B[38;5;28;01mNone\u001B[39;00m = \u001B[32m0\u001B[39m,\n\u001B[32m   (...)\u001B[39m\u001B[32m  12402\u001B[39m     **kwargs,\n\u001B[32m  12403\u001B[39m ):\n\u001B[32m> \u001B[39m\u001B[32m12404\u001B[39m     \u001B[38;5;28;01mreturn\u001B[39;00m \u001B[38;5;28;43mself\u001B[39;49m\u001B[43m.\u001B[49m\u001B[43m_stat_function\u001B[49m\u001B[43m(\u001B[49m\n\u001B[32m  12405\u001B[39m \u001B[43m        \u001B[49m\u001B[33;43m\"\u001B[39;49m\u001B[33;43mmax\u001B[39;49m\u001B[33;43m\"\u001B[39;49m\u001B[43m,\u001B[49m\n\u001B[32m  12406\u001B[39m \u001B[43m        \u001B[49m\u001B[43mnanops\u001B[49m\u001B[43m.\u001B[49m\u001B[43mnanmax\u001B[49m\u001B[43m,\u001B[49m\n\u001B[32m  12407\u001B[39m \u001B[43m        \u001B[49m\u001B[43maxis\u001B[49m\u001B[43m,\u001B[49m\n\u001B[32m  12408\u001B[39m \u001B[43m        \u001B[49m\u001B[43mskipna\u001B[49m\u001B[43m,\u001B[49m\n\u001B[32m  12409\u001B[39m \u001B[43m        \u001B[49m\u001B[43mnumeric_only\u001B[49m\u001B[43m,\u001B[49m\n\u001B[32m  12410\u001B[39m \u001B[43m        \u001B[49m\u001B[43m*\u001B[49m\u001B[43m*\u001B[49m\u001B[43mkwargs\u001B[49m\u001B[43m,\u001B[49m\n\u001B[32m  12411\u001B[39m \u001B[43m    \u001B[49m\u001B[43m)\u001B[49m\n",
      "\u001B[36mFile \u001B[39m\u001B[32m~\\Desktop\\personalizacion\\.venv\\Lib\\site-packages\\pandas\\core\\generic.py:12377\u001B[39m, in \u001B[36mNDFrame._stat_function\u001B[39m\u001B[34m(self, name, func, axis, skipna, numeric_only, **kwargs)\u001B[39m\n\u001B[32m  12373\u001B[39m nv.validate_func(name, (), kwargs)\n\u001B[32m  12375\u001B[39m validate_bool_kwarg(skipna, \u001B[33m\"\u001B[39m\u001B[33mskipna\u001B[39m\u001B[33m\"\u001B[39m, none_allowed=\u001B[38;5;28;01mFalse\u001B[39;00m)\n\u001B[32m> \u001B[39m\u001B[32m12377\u001B[39m \u001B[38;5;28;01mreturn\u001B[39;00m \u001B[38;5;28;43mself\u001B[39;49m\u001B[43m.\u001B[49m\u001B[43m_reduce\u001B[49m\u001B[43m(\u001B[49m\n\u001B[32m  12378\u001B[39m \u001B[43m    \u001B[49m\u001B[43mfunc\u001B[49m\u001B[43m,\u001B[49m\u001B[43m \u001B[49m\u001B[43mname\u001B[49m\u001B[43m=\u001B[49m\u001B[43mname\u001B[49m\u001B[43m,\u001B[49m\u001B[43m \u001B[49m\u001B[43maxis\u001B[49m\u001B[43m=\u001B[49m\u001B[43maxis\u001B[49m\u001B[43m,\u001B[49m\u001B[43m \u001B[49m\u001B[43mskipna\u001B[49m\u001B[43m=\u001B[49m\u001B[43mskipna\u001B[49m\u001B[43m,\u001B[49m\u001B[43m \u001B[49m\u001B[43mnumeric_only\u001B[49m\u001B[43m=\u001B[49m\u001B[43mnumeric_only\u001B[49m\n\u001B[32m  12379\u001B[39m \u001B[43m\u001B[49m\u001B[43m)\u001B[49m\n",
      "\u001B[36mFile \u001B[39m\u001B[32m~\\Desktop\\personalizacion\\.venv\\Lib\\site-packages\\pandas\\core\\frame.py:11562\u001B[39m, in \u001B[36mDataFrame._reduce\u001B[39m\u001B[34m(self, op, name, axis, skipna, numeric_only, filter_type, **kwds)\u001B[39m\n\u001B[32m  11558\u001B[39m     df = df.T\n\u001B[32m  11560\u001B[39m \u001B[38;5;66;03m# After possibly _get_data and transposing, we are now in the\u001B[39;00m\n\u001B[32m  11561\u001B[39m \u001B[38;5;66;03m#  simple case where we can use BlockManager.reduce\u001B[39;00m\n\u001B[32m> \u001B[39m\u001B[32m11562\u001B[39m res = \u001B[43mdf\u001B[49m\u001B[43m.\u001B[49m\u001B[43m_mgr\u001B[49m\u001B[43m.\u001B[49m\u001B[43mreduce\u001B[49m\u001B[43m(\u001B[49m\u001B[43mblk_func\u001B[49m\u001B[43m)\u001B[49m\n\u001B[32m  11563\u001B[39m out = df._constructor_from_mgr(res, axes=res.axes).iloc[\u001B[32m0\u001B[39m]\n\u001B[32m  11564\u001B[39m \u001B[38;5;28;01mif\u001B[39;00m out_dtype \u001B[38;5;129;01mis\u001B[39;00m \u001B[38;5;129;01mnot\u001B[39;00m \u001B[38;5;28;01mNone\u001B[39;00m \u001B[38;5;129;01mand\u001B[39;00m out.dtype != \u001B[33m\"\u001B[39m\u001B[33mboolean\u001B[39m\u001B[33m\"\u001B[39m:\n",
      "\u001B[36mFile \u001B[39m\u001B[32m~\\Desktop\\personalizacion\\.venv\\Lib\\site-packages\\pandas\\core\\internals\\managers.py:1500\u001B[39m, in \u001B[36mBlockManager.reduce\u001B[39m\u001B[34m(self, func)\u001B[39m\n\u001B[32m   1498\u001B[39m res_blocks: \u001B[38;5;28mlist\u001B[39m[Block] = []\n\u001B[32m   1499\u001B[39m \u001B[38;5;28;01mfor\u001B[39;00m blk \u001B[38;5;129;01min\u001B[39;00m \u001B[38;5;28mself\u001B[39m.blocks:\n\u001B[32m-> \u001B[39m\u001B[32m1500\u001B[39m     nbs = \u001B[43mblk\u001B[49m\u001B[43m.\u001B[49m\u001B[43mreduce\u001B[49m\u001B[43m(\u001B[49m\u001B[43mfunc\u001B[49m\u001B[43m)\u001B[49m\n\u001B[32m   1501\u001B[39m     res_blocks.extend(nbs)\n\u001B[32m   1503\u001B[39m index = Index([\u001B[38;5;28;01mNone\u001B[39;00m])  \u001B[38;5;66;03m# placeholder\u001B[39;00m\n",
      "\u001B[36mFile \u001B[39m\u001B[32m~\\Desktop\\personalizacion\\.venv\\Lib\\site-packages\\pandas\\core\\internals\\blocks.py:404\u001B[39m, in \u001B[36mBlock.reduce\u001B[39m\u001B[34m(self, func)\u001B[39m\n\u001B[32m    398\u001B[39m \u001B[38;5;129m@final\u001B[39m\n\u001B[32m    399\u001B[39m \u001B[38;5;28;01mdef\u001B[39;00m\u001B[38;5;250m \u001B[39m\u001B[34mreduce\u001B[39m(\u001B[38;5;28mself\u001B[39m, func) -> \u001B[38;5;28mlist\u001B[39m[Block]:\n\u001B[32m    400\u001B[39m     \u001B[38;5;66;03m# We will apply the function and reshape the result into a single-row\u001B[39;00m\n\u001B[32m    401\u001B[39m     \u001B[38;5;66;03m#  Block with the same mgr_locs; squeezing will be done at a higher level\u001B[39;00m\n\u001B[32m    402\u001B[39m     \u001B[38;5;28;01massert\u001B[39;00m \u001B[38;5;28mself\u001B[39m.ndim == \u001B[32m2\u001B[39m\n\u001B[32m--> \u001B[39m\u001B[32m404\u001B[39m     result = \u001B[43mfunc\u001B[49m\u001B[43m(\u001B[49m\u001B[38;5;28;43mself\u001B[39;49m\u001B[43m.\u001B[49m\u001B[43mvalues\u001B[49m\u001B[43m)\u001B[49m\n\u001B[32m    406\u001B[39m     \u001B[38;5;28;01mif\u001B[39;00m \u001B[38;5;28mself\u001B[39m.values.ndim == \u001B[32m1\u001B[39m:\n\u001B[32m    407\u001B[39m         res_values = result\n",
      "\u001B[36mFile \u001B[39m\u001B[32m~\\Desktop\\personalizacion\\.venv\\Lib\\site-packages\\pandas\\core\\frame.py:11481\u001B[39m, in \u001B[36mDataFrame._reduce.<locals>.blk_func\u001B[39m\u001B[34m(values, axis)\u001B[39m\n\u001B[32m  11479\u001B[39m         \u001B[38;5;28;01mreturn\u001B[39;00m np.array([result])\n\u001B[32m  11480\u001B[39m \u001B[38;5;28;01melse\u001B[39;00m:\n\u001B[32m> \u001B[39m\u001B[32m11481\u001B[39m     \u001B[38;5;28;01mreturn\u001B[39;00m \u001B[43mop\u001B[49m\u001B[43m(\u001B[49m\u001B[43mvalues\u001B[49m\u001B[43m,\u001B[49m\u001B[43m \u001B[49m\u001B[43maxis\u001B[49m\u001B[43m=\u001B[49m\u001B[43maxis\u001B[49m\u001B[43m,\u001B[49m\u001B[43m \u001B[49m\u001B[43mskipna\u001B[49m\u001B[43m=\u001B[49m\u001B[43mskipna\u001B[49m\u001B[43m,\u001B[49m\u001B[43m \u001B[49m\u001B[43m*\u001B[49m\u001B[43m*\u001B[49m\u001B[43mkwds\u001B[49m\u001B[43m)\u001B[49m\n",
      "\u001B[36mFile \u001B[39m\u001B[32m~\\Desktop\\personalizacion\\.venv\\Lib\\site-packages\\pandas\\core\\nanops.py:147\u001B[39m, in \u001B[36mbottleneck_switch.__call__.<locals>.f\u001B[39m\u001B[34m(values, axis, skipna, **kwds)\u001B[39m\n\u001B[32m    145\u001B[39m         result = alt(values, axis=axis, skipna=skipna, **kwds)\n\u001B[32m    146\u001B[39m \u001B[38;5;28;01melse\u001B[39;00m:\n\u001B[32m--> \u001B[39m\u001B[32m147\u001B[39m     result = \u001B[43malt\u001B[49m\u001B[43m(\u001B[49m\u001B[43mvalues\u001B[49m\u001B[43m,\u001B[49m\u001B[43m \u001B[49m\u001B[43maxis\u001B[49m\u001B[43m=\u001B[49m\u001B[43maxis\u001B[49m\u001B[43m,\u001B[49m\u001B[43m \u001B[49m\u001B[43mskipna\u001B[49m\u001B[43m=\u001B[49m\u001B[43mskipna\u001B[49m\u001B[43m,\u001B[49m\u001B[43m \u001B[49m\u001B[43m*\u001B[49m\u001B[43m*\u001B[49m\u001B[43mkwds\u001B[49m\u001B[43m)\u001B[49m\n\u001B[32m    149\u001B[39m \u001B[38;5;28;01mreturn\u001B[39;00m result\n",
      "\u001B[36mFile \u001B[39m\u001B[32m~\\Desktop\\personalizacion\\.venv\\Lib\\site-packages\\pandas\\core\\nanops.py:404\u001B[39m, in \u001B[36m_datetimelike_compat.<locals>.new_func\u001B[39m\u001B[34m(values, axis, skipna, mask, **kwargs)\u001B[39m\n\u001B[32m    401\u001B[39m \u001B[38;5;28;01mif\u001B[39;00m datetimelike \u001B[38;5;129;01mand\u001B[39;00m mask \u001B[38;5;129;01mis\u001B[39;00m \u001B[38;5;28;01mNone\u001B[39;00m:\n\u001B[32m    402\u001B[39m     mask = isna(values)\n\u001B[32m--> \u001B[39m\u001B[32m404\u001B[39m result = \u001B[43mfunc\u001B[49m\u001B[43m(\u001B[49m\u001B[43mvalues\u001B[49m\u001B[43m,\u001B[49m\u001B[43m \u001B[49m\u001B[43maxis\u001B[49m\u001B[43m=\u001B[49m\u001B[43maxis\u001B[49m\u001B[43m,\u001B[49m\u001B[43m \u001B[49m\u001B[43mskipna\u001B[49m\u001B[43m=\u001B[49m\u001B[43mskipna\u001B[49m\u001B[43m,\u001B[49m\u001B[43m \u001B[49m\u001B[43mmask\u001B[49m\u001B[43m=\u001B[49m\u001B[43mmask\u001B[49m\u001B[43m,\u001B[49m\u001B[43m \u001B[49m\u001B[43m*\u001B[49m\u001B[43m*\u001B[49m\u001B[43mkwargs\u001B[49m\u001B[43m)\u001B[49m\n\u001B[32m    406\u001B[39m \u001B[38;5;28;01mif\u001B[39;00m datetimelike:\n\u001B[32m    407\u001B[39m     result = _wrap_results(result, orig_values.dtype, fill_value=iNaT)\n",
      "\u001B[36mFile \u001B[39m\u001B[32m~\\Desktop\\personalizacion\\.venv\\Lib\\site-packages\\pandas\\core\\nanops.py:1095\u001B[39m, in \u001B[36m_nanminmax.<locals>.reduction\u001B[39m\u001B[34m(values, axis, skipna, mask)\u001B[39m\n\u001B[32m   1092\u001B[39m \u001B[38;5;28;01mif\u001B[39;00m values.size == \u001B[32m0\u001B[39m:\n\u001B[32m   1093\u001B[39m     \u001B[38;5;28;01mreturn\u001B[39;00m _na_for_min_count(values, axis)\n\u001B[32m-> \u001B[39m\u001B[32m1095\u001B[39m values, mask = \u001B[43m_get_values\u001B[49m\u001B[43m(\u001B[49m\n\u001B[32m   1096\u001B[39m \u001B[43m    \u001B[49m\u001B[43mvalues\u001B[49m\u001B[43m,\u001B[49m\u001B[43m \u001B[49m\u001B[43mskipna\u001B[49m\u001B[43m,\u001B[49m\u001B[43m \u001B[49m\u001B[43mfill_value_typ\u001B[49m\u001B[43m=\u001B[49m\u001B[43mfill_value_typ\u001B[49m\u001B[43m,\u001B[49m\u001B[43m \u001B[49m\u001B[43mmask\u001B[49m\u001B[43m=\u001B[49m\u001B[43mmask\u001B[49m\n\u001B[32m   1097\u001B[39m \u001B[43m\u001B[49m\u001B[43m)\u001B[49m\n\u001B[32m   1098\u001B[39m result = \u001B[38;5;28mgetattr\u001B[39m(values, meth)(axis)\n\u001B[32m   1099\u001B[39m result = _maybe_null_out(result, axis, mask, values.shape)\n",
      "\u001B[36mFile \u001B[39m\u001B[32m~\\Desktop\\personalizacion\\.venv\\Lib\\site-packages\\pandas\\core\\nanops.py:315\u001B[39m, in \u001B[36m_get_values\u001B[39m\u001B[34m(values, skipna, fill_value, fill_value_typ, mask)\u001B[39m\n\u001B[32m    313\u001B[39m \u001B[38;5;28;01mif\u001B[39;00m mask.any():\n\u001B[32m    314\u001B[39m     \u001B[38;5;28;01mif\u001B[39;00m datetimelike \u001B[38;5;129;01mor\u001B[39;00m _na_ok_dtype(dtype):\n\u001B[32m--> \u001B[39m\u001B[32m315\u001B[39m         values = \u001B[43mvalues\u001B[49m\u001B[43m.\u001B[49m\u001B[43mcopy\u001B[49m\u001B[43m(\u001B[49m\u001B[43m)\u001B[49m\n\u001B[32m    316\u001B[39m         np.putmask(values, mask, fill_value)\n\u001B[32m    317\u001B[39m     \u001B[38;5;28;01melse\u001B[39;00m:\n\u001B[32m    318\u001B[39m         \u001B[38;5;66;03m# np.where will promote if needed\u001B[39;00m\n",
      "\u001B[31mKeyboardInterrupt\u001B[39m: "
     ]
    }
   ],
   "execution_count": 41
  },
  {
   "metadata": {},
   "cell_type": "markdown",
   "source": "# A continuacion las funciones que vamos a usar para evaluar el modelo.",
   "id": "d8045dfd4729640a"
  },
  {
   "metadata": {},
   "cell_type": "markdown",
   "source": "## Calcular RMSE y MAE",
   "id": "4c98e022b72c4550"
  },
  {
   "metadata": {
    "ExecuteTime": {
     "end_time": "2025-05-19T18:30:53.107810Z",
     "start_time": "2025-05-19T18:30:52.952293Z"
    }
   },
   "cell_type": "code",
   "source": [
    "def calcular_errores(matrix_real, matrix_pred):\n",
    "    errores = []\n",
    "    for usuario in matrix_real.index:\n",
    "        for libro in matrix_real.columns:\n",
    "            real = matrix_real.loc[usuario, libro]\n",
    "            pred = matrix_pred.loc[usuario, libro]\n",
    "            if not (pd.isna(real) or pd.isna(pred)):\n",
    "                errores.append(abs(real - pred))\n",
    "    if errores:\n",
    "        return errores\n",
    "    else:\n",
    "        return None\n",
    "\n",
    "def calcular_mae(errores):\n",
    "    return np.mean(errores)\n",
    "\n",
    "def calcular_rmse(errores):\n",
    "    return np.sqrt(np.mean(np.square(errores)))\n",
    "\n",
    "\n",
    "# Pequeño test\n",
    "errores = calcular_errores(mini_sample, pred_mini_sample)\n",
    "mae = calcular_mae(errores)\n",
    "rmse = calcular_rmse(errores)\n",
    "\n",
    "print(\"MAE:\", mae)\n",
    "print(\"RMSE:\", rmse)"
   ],
   "id": "bdf6d1ca7149d8cd",
   "outputs": [
    {
     "name": "stdout",
     "output_type": "stream",
     "text": [
      "MAE: 0.8448675666438823\n",
      "RMSE: 1.1706694917394902\n"
     ]
    }
   ],
   "execution_count": 42
  },
  {
   "metadata": {},
   "cell_type": "markdown",
   "source": "## Precision",
   "id": "9ac3a46e5a8bc64d"
  },
  {
   "metadata": {
    "ExecuteTime": {
     "end_time": "2025-05-19T18:30:54.242351Z",
     "start_time": "2025-05-19T18:30:54.224485Z"
    }
   },
   "cell_type": "code",
   "source": [
    "def get_user_precision(user_id, pred_matrix, test_matrix, theta=4, n=10):\n",
    "\n",
    "    # Selecciona los libros con mayor predicción para el usuario\n",
    "    user_preds = pred_matrix.loc[user_id].dropna().sort_values(ascending=False)\n",
    "    top_n_books = user_preds.head(n).index\n",
    "\n",
    "    precision = 0\n",
    "    count = 0\n",
    "\n",
    "    for book_id in top_n_books:\n",
    "        real_rating = test_matrix.loc[user_id, book_id]\n",
    "        if not np.isnan(real_rating):\n",
    "            if real_rating >= theta:\n",
    "                precision += 1\n",
    "            count += 1\n",
    "\n",
    "    if count > 0:\n",
    "        return precision / count\n",
    "    else:\n",
    "        return None\n",
    "\n",
    "def get_all_precisions(pred_matrix, test_matrix, theta=4, n=10):\n",
    "    precisions = []\n",
    "    for user_id in pred_matrix.index:\n",
    "        user_precision = get_user_precision(user_id, pred_matrix, test_matrix, theta=theta, n=n)\n",
    "        if user_precision is not None:\n",
    "            precisions.append(user_precision)\n",
    "    return precisions\n",
    "\n",
    "def get_precision(pred_matrix, test_matrix, theta=4, n=10):\n",
    "    precisions = get_all_precisions(pred_matrix, test_matrix, theta=theta, n=n)\n",
    "    if precisions:\n",
    "        return np.mean(precisions)\n",
    "    else:\n",
    "        return None\n",
    "\n",
    "# Pequeño test\n",
    "usuarios = mini_sample.index\n",
    "precision_lista = get_all_precisions(pred_mini_sample, mini_sample, theta=4, n=10)\n",
    "precision_media = get_precision(pred_mini_sample, mini_sample, theta=4, n=10)\n",
    "print(\"Precisión por usuario:\", precision_lista)\n",
    "print(\"Precisión media:\", precision_media)"
   ],
   "id": "bd27f8daf4ac7b27",
   "outputs": [
    {
     "name": "stdout",
     "output_type": "stream",
     "text": [
      "Precisión por usuario: [0.0, 0.0, 1.0, 0.25, 0.0, 1.0]\n",
      "Precisión media: 0.375\n"
     ]
    }
   ],
   "execution_count": 43
  },
  {
   "metadata": {},
   "cell_type": "markdown",
   "source": "## Recall",
   "id": "49b9a80935630700"
  },
  {
   "metadata": {
    "ExecuteTime": {
     "end_time": "2025-05-19T18:30:55.702375Z",
     "start_time": "2025-05-19T18:30:55.686097Z"
    }
   },
   "cell_type": "code",
   "source": [
    "\n",
    "import numpy as np\n",
    "\n",
    "def get_user_recall(user_id, pred_matrix, test_matrix, theta=4, n=10):\n",
    "    \"\"\"\n",
    "    Calcula el recall para un usuario dado.\n",
    "    \"\"\"\n",
    "    # Libros relevantes en test\n",
    "    relevant_books = test_matrix.loc[user_id][test_matrix.loc[user_id] >= theta].dropna().index\n",
    "    if len(relevant_books) == 0:\n",
    "        return None\n",
    "\n",
    "    # Libros recomendados (top-n predicciones)\n",
    "    user_preds = pred_matrix.loc[user_id].dropna().sort_values(ascending=False)\n",
    "    top_n_books = user_preds.head(n).index\n",
    "\n",
    "    # Libros relevantes recomendados\n",
    "    hits = len(set(top_n_books) & set(relevant_books))\n",
    "    recall = hits / len(relevant_books)\n",
    "    return recall\n",
    "\n",
    "def get_all_recalls(pred_matrix, test_matrix, theta=4, n=10):\n",
    "    recalls = []\n",
    "    for user_id in pred_matrix.index:\n",
    "        user_recall = get_user_recall(user_id, pred_matrix, test_matrix, theta=theta, n=n)\n",
    "        if user_recall is not None:\n",
    "            recalls.append(user_recall)\n",
    "    return recalls\n",
    "\n",
    "def get_recall(pred_matrix, test_matrix, theta=4, n=10):\n",
    "    recalls = get_all_recalls(pred_matrix, test_matrix, theta=theta, n=n)\n",
    "    if recalls:\n",
    "        return np.mean(recalls)\n",
    "    else:\n",
    "        return None\n",
    "\n",
    "recall_lista = get_all_recalls(pred_mini_sample, mini_sample, theta=4, n=10)\n",
    "recall_media = get_recall(pred_mini_sample, mini_sample, theta=4, n=10)\n",
    "\n",
    "print(\"Recall por usuario:\", recall_lista)\n",
    "print(\"Recall medio:\", recall_media)"
   ],
   "id": "e2772170ae6ba0ee",
   "outputs": [
    {
     "name": "stdout",
     "output_type": "stream",
     "text": [
      "Recall por usuario: [0.0, 0.0, 0.1111111111111111, 0.0, 0.0, 0.25, 0.0, 0.0, 0.0, 0.07142857142857142]\n",
      "Recall medio: 0.04325396825396825\n"
     ]
    }
   ],
   "execution_count": 44
  },
  {
   "metadata": {},
   "cell_type": "markdown",
   "source": "## F1",
   "id": "39df1bcf0f200da4"
  },
  {
   "metadata": {
    "ExecuteTime": {
     "end_time": "2025-05-19T18:30:56.595765Z",
     "start_time": "2025-05-19T18:30:56.571757Z"
    }
   },
   "cell_type": "code",
   "source": [
    "def get_user_f1(user_id, pred_matrix, test_matrix, theta=4, n=10):\n",
    "    precision = get_user_precision(user_id, pred_matrix, test_matrix, theta=theta, n=n)\n",
    "    recall = get_user_recall(user_id, pred_matrix, test_matrix, theta=theta, n=n)\n",
    "    if precision is not None and recall is not None and (precision + recall) > 0:\n",
    "        return 2 * (precision * recall) / (precision + recall)\n",
    "    else:\n",
    "        return None\n",
    "\n",
    "def get_all_f1s(pred_matrix, test_matrix, theta=4, n=10):\n",
    "    f1s = []\n",
    "    for user_id in pred_matrix.index:\n",
    "        f1 = get_user_f1(user_id, pred_matrix, test_matrix, theta=theta, n=n)\n",
    "        if f1 is not None:\n",
    "            f1s.append(f1)\n",
    "    return f1s\n",
    "\n",
    "def get_f1(pred_matrix, test_matrix, theta=4, n=10):\n",
    "    f1s = get_all_f1s(pred_matrix, test_matrix, theta=theta, n=n)\n",
    "    if f1s:\n",
    "        return np.mean(f1s)\n",
    "    else:\n",
    "        return None\n",
    "\n",
    "f1_lista = get_all_f1s(pred_mini_sample, mini_sample, theta=4, n=10)\n",
    "f1_media = get_f1(pred_mini_sample, mini_sample, theta=4, n=10)\n",
    "print(\"F1 por usuario:\", f1_lista)\n",
    "print(\"F1 medio:\", f1_media)\n"
   ],
   "id": "245602ce50e39e7b",
   "outputs": [
    {
     "name": "stdout",
     "output_type": "stream",
     "text": [
      "F1 por usuario: [0.19999999999999998, 0.25, 0.13333333333333333]\n",
      "F1 medio: 0.19444444444444442\n"
     ]
    }
   ],
   "execution_count": 45
  },
  {
   "metadata": {},
   "cell_type": "markdown",
   "source": "## nDGCG",
   "id": "557fac0c072d7e5c"
  },
  {
   "metadata": {
    "ExecuteTime": {
     "end_time": "2025-05-19T18:30:57.458451Z",
     "start_time": "2025-05-19T18:30:57.436473Z"
    }
   },
   "cell_type": "code",
   "source": [
    "import numpy as np\n",
    "\n",
    "def dcg_at_n(relevancias):\n",
    "    return np.sum([(2**rel - 1) / np.log2(idx + 2) for idx, rel in enumerate(relevancias)])\n",
    "\n",
    "def get_user_ndcg(user_id, pred_matrix, test_matrix, n=10):\n",
    "    # Libros predichos ordenados por predicción\n",
    "    user_preds = pred_matrix.loc[user_id].dropna().sort_values(ascending=False)\n",
    "    top_n_books = user_preds.head(n).index\n",
    "\n",
    "    # Relevancias reales de los libros recomendados\n",
    "    relevancias = []\n",
    "    for book_id in top_n_books:\n",
    "        real_rating = test_matrix.loc[user_id, book_id]\n",
    "        if not np.isnan(real_rating):\n",
    "            relevancias.append(real_rating)\n",
    "        else:\n",
    "            relevancias.append(0)  # Si no hay rating, se asume 0\n",
    "\n",
    "    dcg = dcg_at_n(relevancias)\n",
    "\n",
    "    # Ideal DCG: relevancias reales ordenadas de mayor a menor\n",
    "    user_real = test_matrix.loc[user_id].dropna().sort_values(ascending=False)\n",
    "    ideal_relevancias = user_real.head(n).values\n",
    "    idcg = dcg_at_n(ideal_relevancias)\n",
    "\n",
    "    if idcg == 0:\n",
    "        return None\n",
    "    return dcg / idcg\n",
    "\n",
    "def get_all_ndcgs(pred_matrix, test_matrix, n=10):\n",
    "    ndcgs = []\n",
    "    for user_id in pred_matrix.index:\n",
    "        ndcg = get_user_ndcg(user_id, pred_matrix, test_matrix, n=n)\n",
    "        if ndcg is not None:\n",
    "            ndcgs.append(ndcg)\n",
    "    return ndcgs\n",
    "\n",
    "def get_ndcg(pred_matrix, test_matrix, n=10):\n",
    "    ndcgs = get_all_ndcgs(pred_matrix, test_matrix, n=n)\n",
    "    if ndcgs:\n",
    "        return np.mean(ndcgs)\n",
    "    else:\n",
    "        return None\n",
    "\n",
    "# Ejemplo de uso:\n",
    "ndcg_lista = get_all_ndcgs(pred_mini_sample, mini_sample, n=10)\n",
    "ndcg_media = get_ndcg(pred_mini_sample, mini_sample, n=10)\n",
    "print(\"nDCG por usuario:\", ndcg_lista)\n",
    "print(\"nDCG medio:\", ndcg_media)"
   ],
   "id": "781b620d172d7995",
   "outputs": [
    {
     "name": "stdout",
     "output_type": "stream",
     "text": [
      "nDCG por usuario: [np.float64(0.030348030527338782), np.float64(0.00837397191695658), np.float64(0.27656520439413435), np.float64(0.0), np.float64(0.0), np.float64(0.2233253317906144), np.float64(0.0), np.float64(0.07439771956824517), np.float64(0.0), np.float64(0.04791016450960245)]\n",
      "nDCG medio: 0.06609204227068917\n"
     ]
    }
   ],
   "execution_count": 46
  },
  {
   "metadata": {},
   "cell_type": "markdown",
   "source": [
    "## Calculo final de metricas:\n",
    "\n",
    "Usando la muestra mediana calculamos las métricas del modelo."
   ],
   "id": "d14169f0fd541217"
  },
  {
   "metadata": {
    "ExecuteTime": {
     "end_time": "2025-05-19T20:00:59.718355Z",
     "start_time": "2025-05-19T18:30:58.466575Z"
    }
   },
   "cell_type": "code",
   "source": "pred_mid_matrix = generar_matriz_predicciones(mid_sample, k=5)",
   "id": "866d87f5b5a94c4f",
   "outputs": [
    {
     "name": "stderr",
     "output_type": "stream",
     "text": [
      "100%|██████████| 1000/1000 [1:30:01<00:00,  5.40s/it]\n"
     ]
    }
   ],
   "execution_count": 47
  },
  {
   "metadata": {
    "ExecuteTime": {
     "end_time": "2025-05-19T20:01:30.430087Z",
     "start_time": "2025-05-19T20:01:14.091813Z"
    }
   },
   "cell_type": "code",
   "source": [
    "# Calcula métricas solo sobre mid_sample y sus predicciones\n",
    "errores = calcular_errores(mid_sample, pred_mid_matrix)\n",
    "mae = calcular_mae(errores)\n",
    "rmse = calcular_rmse(errores)\n",
    "precision_media = get_precision(pred_mid_matrix, mid_sample, theta=4, n=10)\n",
    "recall_media = get_recall(pred_mid_matrix, mid_sample, theta=4, n=10)\n",
    "f1_media = get_f1(pred_mid_matrix, mid_sample, theta=4, n=10)\n",
    "ndcg_media = get_ndcg(pred_mid_matrix, mid_sample, n=10)\n",
    "\n",
    "print(\"MAE:\", mae)\n",
    "print(\"RMSE:\", rmse)\n",
    "print(\"Precisión media:\", precision_media)\n",
    "print(\"Recall medio:\", recall_media)\n",
    "print(\"F1 medio:\", f1_media)\n",
    "print(\"nDCG medio:\", ndcg_media)"
   ],
   "id": "6d3573f356bdd5d6",
   "outputs": [
    {
     "name": "stdout",
     "output_type": "stream",
     "text": [
      "MAE: 0.6787764434930948\n",
      "RMSE: 0.8785725163322704\n",
      "Precisión media: 0.8281372549019609\n",
      "Recall medio: 0.23945233469629504\n",
      "F1 medio: 0.42533992453911285\n",
      "nDCG medio: 0.18021692356664107\n"
     ]
    }
   ],
   "execution_count": 48
  }
 ],
 "metadata": {
  "kernelspec": {
   "display_name": "Python 3",
   "language": "python",
   "name": "python3"
  },
  "language_info": {
   "codemirror_mode": {
    "name": "ipython",
    "version": 2
   },
   "file_extension": ".py",
   "mimetype": "text/x-python",
   "name": "python",
   "nbconvert_exporter": "python",
   "pygments_lexer": "ipython2",
   "version": "2.7.6"
  }
 },
 "nbformat": 4,
 "nbformat_minor": 5
}
