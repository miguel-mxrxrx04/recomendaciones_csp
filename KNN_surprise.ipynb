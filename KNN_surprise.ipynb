{
 "cells": [
  {
   "cell_type": "code",
   "execution_count": null,
   "id": "ca8fcd66",
   "metadata": {},
   "outputs": [
    {
     "name": "stderr",
     "output_type": "stream",
     "text": [
      "C:\\Users\\MAM\\AppData\\Local\\Temp\\ipykernel_888\\4127417828.py:50: RuntimeWarning: invalid value encountered in scalar divide\n",
      "  pred = user_means.loc[u+1] + np.dot(sims, devs) / np.sum(sims)\n"
     ]
    }
   ],
   "source": [
    "import os\n",
    "import numpy as np\n",
    "import pandas as pd\n",
    "from scipy.sparse import csr_matrix\n",
    "from sklearn.neighbors import NearestNeighbors\n",
    "from sklearn.metrics import mean_squared_error, mean_absolute_error\n",
    "\n",
    "# 1. Carga los datos limpios\n",
    "processed_dir = 'data/processed'\n",
    "train = pd.read_csv(os.path.join(processed_dir, 'train.csv'))\n",
    "test  = pd.read_csv(os.path.join(processed_dir, 'test.csv'))\n",
    "\n",
    "# 2. Construye la matriz usuario×ítem en formato sparse\n",
    "#    Restamos la media de cada usuario para centrar\n",
    "user_means = train.groupby('user_id')['rating'].mean()\n",
    "train['rating_centered'] = train.apply(lambda r: r.rating - user_means.loc[r.user_id], axis=1)\n",
    "# Creamos un CSR matrix: filas=usuarios, columnas=libros\n",
    "row = train['user_id'].values - 1\n",
    "col = train['book_id'].values - 1\n",
    "data = train['rating_centered'].values\n",
    "R_csr = csr_matrix((data, (row, col)))\n",
    "\n",
    "# 3. Entrena el modelo de vecinos\n",
    "#    Usaremos similitud coseno (metric='cosine') y buscaremos k vecinos\n",
    "k = 20\n",
    "knn = NearestNeighbors(n_neighbors=k, metric='cosine', n_jobs=-1)\n",
    "knn.fit(R_csr)\n",
    "\n",
    "# 4. Función de predicción\n",
    "def predict(u, i):\n",
    "    \"\"\"\n",
    "    u: índice de usuario en base 0\n",
    "    i: índice de ítem en base 0\n",
    "    \"\"\"\n",
    "    # Si el usuario no tiene vecinos o el ítem nunca fue valorado\n",
    "    if R_csr.shape[0] <= u or R_csr.shape[1] <= i or R_csr[:, i].nnz == 0:\n",
    "        return user_means.get(u+1, train['rating'].mean())\n",
    "    # Encuentra vecinos de u\n",
    "    distances, neighbors = knn.kneighbors(R_csr[u], return_distance=True)\n",
    "    sims = 1 - distances.flatten()          # coseno → similitud = 1 - distancia\n",
    "    neigh_ids = neighbors.flatten()\n",
    "    # Desviaciones de los vecinos para el ítem i\n",
    "    devs = R_csr[neigh_ids, i].toarray().flatten()\n",
    "    # Filtramos vecinos que realmente hayan valorado el ítem (devs ≠ 0)\n",
    "    mask = devs != 0\n",
    "    if not mask.any():\n",
    "        return user_means.loc[u+1]\n",
    "    sims, devs = sims[mask], devs[mask]\n",
    "    # Predicción: media usuario + media ponderada de desviaciones\n",
    "    pred = user_means.loc[u+1] + np.dot(sims, devs) / np.sum(sims)\n",
    "    # Recorte al rango [1,5]\n",
    "    return float(np.clip(pred, 1, 5))\n",
    "\n",
    "# 5. Evaluación en test\n",
    "y_true, y_pred = [], []\n",
    "for _, row in test.iterrows():\n",
    "    u = int(row.user_id) - 1\n",
    "    i = int(row.book_id) - 1\n",
    "    y_true.append(row.rating)\n",
    "    y_pred.append(predict(u, i))\n",
    "\n",
    "rmse = np.sqrt(mean_squared_error(y_true, y_pred))\n",
    "mae  = mean_absolute_error(y_true, y_pred)\n",
    "\n",
    "print(f\"KNN sklearn → RMSE: {rmse:.4f}, MAE: {mae:.4f}\")\n"
   ]
  }
 ],
 "metadata": {
  "kernelspec": {
   "display_name": "venv",
   "language": "python",
   "name": "python3"
  },
  "language_info": {
   "codemirror_mode": {
    "name": "ipython",
    "version": 3
   },
   "file_extension": ".py",
   "mimetype": "text/x-python",
   "name": "python",
   "nbconvert_exporter": "python",
   "pygments_lexer": "ipython3",
   "version": "3.12.10"
  }
 },
 "nbformat": 4,
 "nbformat_minor": 5
}
