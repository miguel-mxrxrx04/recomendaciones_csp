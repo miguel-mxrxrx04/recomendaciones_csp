{
 "cells": [
  {
   "cell_type": "code",
   "execution_count": null,
   "id": "edbddf46",
   "metadata": {},
   "outputs": [],
   "source": [
    "# Instala Surprise si es necesario:\n",
    "# pip install scikit-surprise\n",
    "\n",
    "import os\n",
    "import pandas as pd\n",
    "from surprise import Dataset, Reader, KNNBasic\n",
    "from surprise.model_selection import GridSearchCV\n",
    "from surprise import accuracy\n",
    "\n",
    "# 1. Carga de datos procesados\n",
    "processed_dir = 'data/processed'\n",
    "train_df = pd.read_csv(os.path.join(processed_dir, 'train.csv'))\n",
    "test_df  = pd.read_csv(os.path.join(processed_dir, 'test.csv'))\n",
    "\n",
    "# 2. Prepara el dataset para Surprise usando solo train_df\n",
    "reader = Reader(rating_scale=(1, 5))\n",
    "data = Dataset.load_from_df(train_df[['user_id', 'book_id', 'rating']], reader)\n",
    "\n",
    "# 3. Definición de la grid de parámetros\n",
    "param_grid = {\n",
    "    'k': [10, 20, 50],\n",
    "    'sim_options': {\n",
    "        'name': ['cosine', 'pearson'],\n",
    "        'user_based': [True, False]\n",
    "    }\n",
    "}\n",
    "\n",
    "# 4. Búsqueda de los mejores parámetros con validación cruzada (5 folds)\n",
    "gs = GridSearchCV(KNNBasic, param_grid, measures=['rmse'], cv=5)\n",
    "gs.fit(data)\n",
    "\n",
    "print(\"Mejor RMSE en CV:\", gs.best_score['rmse'])\n",
    "print(\"Mejores parámetros:\", gs.best_params['rmse'])\n",
    "\n",
    "# 5. Entrenamiento final con esos parámetros\n",
    "algo = KNNBasic(**gs.best_params['rmse'])\n",
    "trainset = data.build_full_trainset()\n",
    "algo.fit(trainset)\n",
    "\n",
    "# 6. Preparación de los datos de test para Surprise\n",
    "testset = list(zip(\n",
    "    test_df['user_id'].values,\n",
    "    test_df['book_id'].values,\n",
    "    test_df['rating'].values\n",
    "))\n",
    "\n",
    "# 7. Evaluación en test\n",
    "predictions = algo.test(testset)\n",
    "rmse = accuracy.rmse(predictions)\n",
    "mae  = accuracy.mae(predictions)\n",
    "\n",
    "print(f\"KNN colaborativo → RMSE: {rmse:.4f}, MAE: {mae:.4f}\")\n"
   ]
  }
 ],
 "metadata": {
  "kernelspec": {
   "display_name": "venv",
   "language": "python",
   "name": "python3"
  },
  "language_info": {
   "name": "python",
   "version": "3.12.10"
  }
 },
 "nbformat": 4,
 "nbformat_minor": 5
}
