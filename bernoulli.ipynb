{
 "cells": [
  {
   "cell_type": "markdown",
   "id": "f33c9726",
   "metadata": {},
   "source": [
    "BeMF, Bernoulli Matrix Factorization\n",
    "\n",
    "¿Qué aporta de nuevo?:\n",
    "  - Divide el problema en cinco clasificadores binarios (¿rating=1? … ¿rating=5?).  \n",
    "  - Usa una sigmoide para obtener **probabilidades** por puntuación, aportando interpretabilidad.  \n",
    "  - Combina lo discreto (ratings enteros) con lo continuo (probabilidades).  "
   ]
  },
  {
   "cell_type": "code",
   "execution_count": 1,
   "id": "d82ab013",
   "metadata": {},
   "outputs": [],
   "source": [
    "import os, numpy as np, pandas as pd\n",
    "from sklearn.metrics import mean_squared_error, mean_absolute_error, precision_score, recall_score, f1_score\n"
   ]
  },
  {
   "cell_type": "code",
   "execution_count": 2,
   "id": "327e934c",
   "metadata": {},
   "outputs": [],
   "source": [
    "train_df = pd.read_csv('./data/processed/train.csv')\n",
    "test_df = pd.read_csv('./data/processed/test.csv')"
   ]
  },
  {
   "cell_type": "markdown",
   "id": "a6e9f8e2",
   "metadata": {},
   "source": [
    "### Inicialización del modelo\n",
    "\n",
    "Declaramos parámetros (factores latentes, tamaño de paso para el descenso de gradiente y penalización L2) y las dimensiones de la matriz (num_users x num_items).\n",
    "\n",
    "Creamos la matriz 'ratings' inicializada en None, cambiando con el rating real después."
   ]
  },
  {
   "cell_type": "code",
   "execution_count": 3,
   "id": "d49d5ca1",
   "metadata": {},
   "outputs": [],
   "source": [
    "import random\n",
    "\n",
    "# Parámetros\n",
    "NUM_FACTORS    = 7\n",
    "LEARNING_RATE  = 0.001\n",
    "REGULARIZATION = 0.1\n",
    "\n",
    "NUM_USERS = int(max(train_df.user_id.max(), test_df.user_id.max()))\n",
    "NUM_ITEMS = int(max(train_df.book_id.max(), test_df.book_id.max()))\n",
    "\n",
    "ratings = [[None for _ in range(NUM_ITEMS)] for _ in range(NUM_USERS)]"
   ]
  },
  {
   "cell_type": "markdown",
   "id": "85100344",
   "metadata": {},
   "source": [
    "#### Generamos U y V como arrays uniformes en [0,1)\n",
    "\n",
    "Creamos cinco pares de matrices latentes `U[s]` y `V[s]`, uno para cada rating en `SCORES`, inicializados aleatoriamente con valores uniformes en \\([0,1)\\).  "
   ]
  },
  {
   "cell_type": "code",
   "execution_count": 4,
   "id": "7369be36",
   "metadata": {},
   "outputs": [],
   "source": [
    "SCORES = [1, 2, 3, 4, 5]"
   ]
  },
  {
   "cell_type": "code",
   "execution_count": 5,
   "id": "a0a0f1d2",
   "metadata": {},
   "outputs": [],
   "source": [
    "U = { \n",
    "    s: np.random.rand(NUM_USERS, NUM_FACTORS) \n",
    "    for s in SCORES \n",
    "}\n",
    "\n",
    "V = { \n",
    "    s: np.random.rand(NUM_ITEMS, NUM_FACTORS) \n",
    "    for s in SCORES \n",
    "}"
   ]
  },
  {
   "cell_type": "markdown",
   "id": "d6e668c0",
   "metadata": {},
   "source": [
    "#### Cálculo de predicciones\n",
    "\n",
    "La función `logit`, sigmoidea, aplica la sigmoide al producto escalar de factores para obtener una probabilidad, y `compute_prediction` recorre cada score 1–5 para devolver el rating más probable junto con su probabilidad.  \n"
   ]
  },
  {
   "cell_type": "code",
   "execution_count": 6,
   "id": "b6ea2585",
   "metadata": {},
   "outputs": [],
   "source": [
    "import math\n",
    "\n",
    "def logit(x):\n",
    "    return 1.0 / (1.0 + math.exp(-x))\n",
    "\n",
    "def compute_prediction(u, i):\n",
    "    \"\"\"\n",
    "    Devuelve (predicted_score, probability) para usuario u, ítem i.\n",
    "    u, i son índices base 0.\n",
    "    \"\"\"\n",
    "    best_s, best_p = None, 0.0\n",
    "    for idx, s in enumerate(SCORES):\n",
    "        # Producto escalar P^s_u · Q^s_i\n",
    "        dot = np.dot(U[s][u], V[s][i])\n",
    "        p   = logit(dot)\n",
    "        if p > best_p:\n",
    "            best_p = p\n",
    "            best_s = s\n",
    "    return best_s, best_p"
   ]
  },
  {
   "cell_type": "markdown",
   "id": "2dc122c0",
   "metadata": {},
   "source": [
    "#### Aprendizaje factores latentes"
   ]
  },
  {
   "cell_type": "code",
   "execution_count": 7,
   "id": "564bc218",
   "metadata": {},
   "outputs": [
    {
     "name": "stdout",
     "output_type": "stream",
     "text": [
      "Iteración 1 de 10\n",
      "Iteración 2 de 10\n",
      "Iteración 3 de 10\n",
      "Iteración 4 de 10\n",
      "Iteración 5 de 10\n",
      "Iteración 6 de 10\n",
      "Iteración 7 de 10\n",
      "Iteración 8 de 10\n",
      "Iteración 9 de 10\n",
      "Iteración 10 de 10\n"
     ]
    }
   ],
   "source": [
    "NUM_ITERATIONS = 10\n",
    "\n",
    "for it in range(NUM_ITERATIONS):\n",
    "    print(f\"Iteración {it+1} de {NUM_ITERATIONS}\")\n",
    "    # Para cada clase de puntuación\n",
    "    for s in SCORES:\n",
    "        P = U[s]\n",
    "        Q = V[s]\n",
    "\n",
    "        # Actualizar factores de usuario\n",
    "        for u in range(NUM_USERS):\n",
    "            for i in range(NUM_ITEMS):\n",
    "                r_ui = ratings[u][i]\n",
    "                if r_ui is None:\n",
    "                    continue\n",
    "\n",
    "                # Predecimos probabilidad de que rating==s\n",
    "                z = np.dot(P[u], Q[i])\n",
    "                p = logit(z)\n",
    "                y = 1.0 if r_ui == s else 0.0\n",
    "                e = p - y\n",
    "\n",
    "                # Gradientes y actualización\n",
    "                for f in range(NUM_FACTORS):\n",
    "                    grad_p = e * Q[i][f] + REGULARIZATION * P[u][f]\n",
    "                    P[u][f] -= LEARNING_RATE * grad_p\n",
    "\n",
    "        # Actualizar factores de ítem\n",
    "        for i in range(NUM_ITEMS):\n",
    "            for u in range(NUM_USERS):\n",
    "                r_ui = ratings[u][i]\n",
    "                if r_ui is None:\n",
    "                    continue\n",
    "\n",
    "                z = np.dot(P[u], Q[i])\n",
    "                p = logit(z)\n",
    "                y = 1.0 if r_ui == s else 0.0\n",
    "                e = p - y\n",
    "\n",
    "                for f in range(NUM_FACTORS):\n",
    "                    grad_q = e * P[u][f] + REGULARIZATION * Q[i][f]\n",
    "                    Q[i][f] -= LEARNING_RATE * grad_q\n",
    "\n",
    "        # Guardamos de nuevo\n",
    "        U[s], V[s] = P, Q"
   ]
  },
  {
   "cell_type": "markdown",
   "id": "4a6f84fe",
   "metadata": {},
   "source": [
    "#### Cálculo de recomendaciones\n",
    "\n",
    "`get_recommendations` ordena todos los ítems por puntuación predicha, filtra los ya valorados por el usuario y devuelve los top-N no vistos.  \n"
   ]
  },
  {
   "cell_type": "code",
   "execution_count": 2,
   "id": "40d059e4",
   "metadata": {},
   "outputs": [],
   "source": [
    "def get_recommendations(user_id, pred_matrix, train_df, N=5):\n",
    "    u = user_id - 1\n",
    "    # ítems ya valorados\n",
    "    seen = set(train_df.loc[train_df.user_id == user_id, 'book_id'])\n",
    "    # scores para ese usuario\n",
    "    scores = pred_matrix[u]\n",
    "    # ordenados por score descendente\n",
    "    ranked = np.argsort(scores)[::-1]\n",
    "    # tomar los N primeros\n",
    "    recs = []\n",
    "    for idx in ranked:\n",
    "        book_id = idx + 1\n",
    "        if book_id not in seen:\n",
    "            recs.append(book_id)\n",
    "            if len(recs) >= N:\n",
    "                break\n",
    "    return recs"
   ]
  },
  {
   "cell_type": "markdown",
   "id": "070e86eb",
   "metadata": {},
   "source": [
    "#### Predicciones y métricas"
   ]
  },
  {
   "cell_type": "code",
   "execution_count": null,
   "id": "f22c205c",
   "metadata": {},
   "outputs": [],
   "source": [
    "from math import floor\n",
    "\n",
    "predictions = [[None for _ in range(NUM_ITEMS)] for _ in range(NUM_USERS)]\n",
    "\n",
    "# sólo donde tenemos un rating de test\n",
    "for _, row in test_df.iterrows():\n",
    "    u = int(row.user_id) - 1\n",
    "    i = int(row.book_id) - 1\n",
    "    pred_s, _ = compute_prediction(u, i)\n",
    "    predictions[u][i] = pred_s\n",
    "    \n",
    "y_true = []\n",
    "y_pred = []\n",
    "for _, row in test_df.iterrows():\n",
    "    u, i, true_r = int(row.user_id)-1, int(row.book_id)-1, row.rating\n",
    "    y_true.append(true_r)\n",
    "    y_pred.append(predictions[u][i])\n",
    "\n",
    "mae = mean_absolute_error(y_true, y_pred)\n",
    "rmse = np.sqrt(mean_squared_error(y_true, y_pred))\n",
    "\n",
    "# binarizar\n",
    "threshold = floor(np)\n",
    "y_true_bin = (np.array(y_true) >= threshold).astype(int)\n",
    "y_pred_bin = (np.array(y_pred) >= threshold).astype(int)\n",
    "\n",
    "# precisión\n",
    "precision = precision_score(y_true_bin, y_pred_bin, zero_division=0)\n",
    "recall    = recall_score   (y_true_bin, y_pred_bin, zero_division=0)\n",
    "f1        = f1_score       (y_true_bin, y_pred_bin, zero_division=0)\n",
    "\n",
    "pred_matrix = np.full((NUM_USERS, NUM_ITEMS), np.nan)\n",
    "for u in range(NUM_USERS):\n",
    "    for i in range(NUM_ITEMS):\n",
    "        if predictions[u][i] is not None:\n",
    "            pred_matrix[u, i] = predictions[u][i]\n",
    "            \n",
    "K_NDCG = 10\n",
    "\n",
    "def get_user_ndcg(u, pred_matrix, test_df, K=K_NDCG, rel_col='rating'):\n",
    "    user_ratings = test_df[test_df.user_id == (u+1)]\n",
    "    if user_ratings.empty:\n",
    "        return None\n",
    "    true_rels = {int(row.book_id)-1: row[rel_col] for _, row in user_ratings.iterrows()}\n",
    "    scores = pred_matrix[u]\n",
    "    top_k = np.argsort(scores)[::-1][:K]\n",
    "    dcg = sum((2**true_rels.get(item, 0) - 1) / np.log2(rank+1)\n",
    "              for rank, item in enumerate(top_k, start=1))\n",
    "    ideal_rels = sorted(true_rels.values(), reverse=True)[:K]\n",
    "    idcg = sum((2**rel - 1) / np.log2(idx+1)\n",
    "               for idx, rel in enumerate(ideal_rels, start=1))\n",
    "    return (dcg / idcg) if idcg > 0 else 0.0\n",
    "\n",
    "def get_ndcg(pred_matrix, test_df, K=K_NDCG, rel_col='rating'):\n",
    "    total, count = 0.0, 0\n",
    "    for u in range(pred_matrix.shape[0]):\n",
    "        ndcg_u = get_user_ndcg(u, pred_matrix, test_df, K, rel_col)\n",
    "        if ndcg_u is not None:\n",
    "            total += ndcg_u\n",
    "            count += 1\n",
    "    return total/count if count else 0.0\n",
    "\n",
    "# K=10\n",
    "ndcg_10 = get_ndcg(pred_matrix, test_df)\n",
    "print(f\"nDCG@{K_NDCG} = {ndcg_10:.4f}\")\n",
    "print(\"BeMF (Bernoulli MF) Metrics:\")\n",
    "print(f\"  MAE       = {mae:.4f}\")\n",
    "print(f\"  RMSE      = {rmse:.4f}\")\n",
    "print(f\"  Precision = {precision:.4f}\")\n",
    "print(f\"  Recall    = {recall:.4f}\")\n",
    "print(f\"  F1        = {f1:.4f}\")\n",
    "print(f\"  nDCG@10    = {ndcg_10:.4f}\")"
   ]
  }
 ],
 "metadata": {
  "kernelspec": {
   "display_name": "venv",
   "language": "python",
   "name": "python3"
  },
  "language_info": {
   "codemirror_mode": {
    "name": "ipython",
    "version": 3
   },
   "file_extension": ".py",
   "mimetype": "text/x-python",
   "name": "python",
   "nbconvert_exporter": "python",
   "pygments_lexer": "ipython3",
   "version": "3.12.10"
  }
 },
 "nbformat": 4,
 "nbformat_minor": 5
}
