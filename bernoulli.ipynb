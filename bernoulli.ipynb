{
 "cells": [
  {
   "cell_type": "markdown",
   "id": "f33c9726",
   "metadata": {},
   "source": [
    "BeMF, Bernoulli Matrix Factorization"
   ]
  },
  {
   "cell_type": "code",
   "execution_count": null,
   "id": "d82ab013",
   "metadata": {},
   "outputs": [],
   "source": [
    "import os, numpy as np, pandas as pd\n",
    "from sklearn.metrics import accuracy_score, precision_score, recall_score, f1_score"
   ]
  },
  {
   "cell_type": "code",
   "execution_count": null,
   "id": "327e934c",
   "metadata": {},
   "outputs": [],
   "source": [
    "train_df = pd.read_csv('./data/processed/train.csv')\n",
    "test_df = pd.read_csv('./data/processed/test.csv')"
   ]
  },
  {
   "cell_type": "markdown",
   "id": "a6e9f8e2",
   "metadata": {},
   "source": [
    "### Inicialización del modelo"
   ]
  },
  {
   "cell_type": "code",
   "execution_count": null,
   "id": "d49d5ca1",
   "metadata": {},
   "outputs": [],
   "source": [
    "import random\n",
    "\n",
    "# Parámetros\n",
    "NUM_FACTORS    = 7\n",
    "LEARNING_RATE  = 0.001\n",
    "REGULARIZATION = 0.1\n",
    "\n",
    "NUM_USERS = int(max(train_df.user_id.max(), test_df.user_id.max()))\n",
    "NUM_ITEMS = int(max(train_df.book_id.max(), test_df.book_id.max()))\n",
    "\n",
    "ratings = [[None for _ in range(NUM_ITEMS)] for _ in range(NUM_USERS)]"
   ]
  },
  {
   "cell_type": "markdown",
   "id": "85100344",
   "metadata": {},
   "source": [
    "#### Generamos U y V como arrays uniformes en [0,1)"
   ]
  },
  {
   "cell_type": "code",
   "execution_count": null,
   "id": "7369be36",
   "metadata": {},
   "outputs": [],
   "source": [
    "SCORES = [1, 2, 3, 4, 5]"
   ]
  },
  {
   "cell_type": "code",
   "execution_count": null,
   "id": "a0a0f1d2",
   "metadata": {},
   "outputs": [],
   "source": [
    "U = { \n",
    "    s: np.random.rand(NUM_USERS, NUM_FACTORS) \n",
    "    for s in SCORES \n",
    "}\n",
    "\n",
    "V = { \n",
    "    s: np.random.rand(NUM_ITEMS, NUM_FACTORS) \n",
    "    for s in SCORES \n",
    "}"
   ]
  },
  {
   "cell_type": "markdown",
   "id": "d6e668c0",
   "metadata": {},
   "source": [
    "#### Cálculo de predicciones\n",
    "\n",
    "La función sigmoidea convierte el producto escalar en una probabilidad entre 0 y 1"
   ]
  },
  {
   "cell_type": "code",
   "execution_count": null,
   "id": "b6ea2585",
   "metadata": {},
   "outputs": [],
   "source": [
    "import math\n",
    "\n",
    "def logit(x):\n",
    "    return 1.0 / (1.0 + math.exp(-x))\n",
    "\n",
    "def compute_prediction(u, i):\n",
    "    \"\"\"\n",
    "    Devuelve (predicted_score, probability) para usuario u, ítem i.\n",
    "    u, i son índices base 0.\n",
    "    \"\"\"\n",
    "    best_s, best_p = None, 0.0\n",
    "    for idx, s in enumerate(SCORES):\n",
    "        # Producto escalar P^s_u · Q^s_i\n",
    "        dot = np.dot(U[s][u], V[s][i])\n",
    "        p   = logit(dot)\n",
    "        if p > best_p:\n",
    "            best_p = p\n",
    "            best_s = s\n",
    "    return best_s, best_p"
   ]
  },
  {
   "cell_type": "markdown",
   "id": "2dc122c0",
   "metadata": {},
   "source": [
    "#### Aprendizaje factores latentes"
   ]
  },
  {
   "cell_type": "code",
   "execution_count": null,
   "id": "564bc218",
   "metadata": {},
   "outputs": [],
   "source": [
    "NUM_ITERATIONS = 10\n",
    "\n",
    "for it in range(NUM_ITERATIONS):\n",
    "    print(f\"Iteración {it+1} de {NUM_ITERATIONS}\")\n",
    "    # Para cada clase de puntuación\n",
    "    for s in SCORES:\n",
    "        P = U[s]\n",
    "        Q = V[s]\n",
    "\n",
    "        # Actualizar factores de usuario\n",
    "        for u in range(NUM_USERS):\n",
    "            for i in range(NUM_ITEMS):\n",
    "                r_ui = ratings[u][i]\n",
    "                if r_ui is None:\n",
    "                    continue\n",
    "\n",
    "                # Predecimos probabilidad de que rating==s\n",
    "                z = np.dot(P[u], Q[i])\n",
    "                p = logit(z)\n",
    "                y = 1.0 if r_ui == s else 0.0\n",
    "                e = p - y\n",
    "\n",
    "                # Gradientes y actualización\n",
    "                for f in range(NUM_FACTORS):\n",
    "                    grad_p = e * Q[i][f] + REGULARIZATION * P[u][f]\n",
    "                    P[u][f] -= LEARNING_RATE * grad_p\n",
    "\n",
    "        # Actualizar factores de ítem\n",
    "        for i in range(NUM_ITEMS):\n",
    "            for u in range(NUM_USERS):\n",
    "                r_ui = ratings[u][i]\n",
    "                if r_ui is None:\n",
    "                    continue\n",
    "\n",
    "                z = np.dot(P[u], Q[i])\n",
    "                p = logit(z)\n",
    "                y = 1.0 if r_ui == s else 0.0\n",
    "                e = p - y\n",
    "\n",
    "                for f in range(NUM_FACTORS):\n",
    "                    grad_q = e * P[u][f] + REGULARIZATION * Q[i][f]\n",
    "                    Q[i][f] -= LEARNING_RATE * grad_q\n",
    "\n",
    "        # Guardamos de nuevo\n",
    "        U[s], V[s] = P, Q"
   ]
  },
  {
   "cell_type": "markdown",
   "id": "4a6f84fe",
   "metadata": {},
   "source": [
    "#### Cálculo de recomendaciones"
   ]
  },
  {
   "cell_type": "code",
   "execution_count": null,
   "id": "40d059e4",
   "metadata": {},
   "outputs": [],
   "source": [
    "def get_recommendations(user_id, pred_matrix, train_df, N=5):\n",
    "    u = user_id - 1\n",
    "    # Conjunto de ítems ya valorados\n",
    "    seen = set(train_df.loc[train_df.user_id == user_id, 'book_id'])\n",
    "    # Array de scores para ese usuario\n",
    "    scores = pred_matrix[u]\n",
    "    # Índices ordenados por score descendente\n",
    "    ranked = np.argsort(scores)[::-1]\n",
    "    # Filtrar out los ya vistos y tomar los N primeros\n",
    "    recs = []\n",
    "    for idx in ranked:\n",
    "        book_id = idx + 1\n",
    "        if book_id not in seen:\n",
    "            recs.append(book_id)\n",
    "            if len(recs) >= N:\n",
    "                break\n",
    "    return recs"
   ]
  }
 ],
 "metadata": {
  "language_info": {
   "name": "python"
  }
 },
 "nbformat": 4,
 "nbformat_minor": 5
}
