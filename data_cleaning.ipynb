{
 "cells": [
  {
   "cell_type": "markdown",
   "id": "71d74e62",
   "metadata": {},
   "source": [
    "# Data Cleaning — Goodbooks-10k Top 100 (Updated)\n",
    "**Objetivo:**  \n",
    " \n",
    "1. Cargar y explorar los ficheros de ratings, metadatos y tags.  \n",
    "2. Seleccionar los 100 libros más valorados.  \n",
    "3. Filtrar usuarios con actividad mínima (≥ 20 ratings).  \n",
    "4. Binarizar las calificaciones (≥ 4 → “like”).  \n",
    "5. Pivotar a matriz dispersa 0/1 `R_binary`.  \n",
    "6. Extraer y guardar metadata enriquecida (título, autor, top-tags).\n",
    "\n"
   ]
  },
  {
   "cell_type": "markdown",
   "id": "5f60b382",
   "metadata": {},
   "source": [
    "Importamos las librerías"
   ]
  },
  {
   "cell_type": "code",
   "execution_count": null,
   "id": "6eef99bd",
   "metadata": {},
   "outputs": [
    {
     "ename": "",
     "evalue": "",
     "output_type": "error",
     "traceback": [
      "\u001b[1;31mLa ejecución de celdas con 'venv (Python 3.12.10)' requiere el paquete ipykernel.\n",
      "\u001b[1;31mInstale \"ipykernel\" en el entorno de Python. \n",
      "\u001b[1;31mComando: \"\"c:/Users/MAM/OneDrive - Universidad Politécnica de Madrid/Escritorio/Apuntes_CDIA/CSP/practica_recomendaciones/recommendations/venv/Scripts/python.exe\" -m pip install ipykernel -U --force-reinstall\""
     ]
    }
   ],
   "source": [
    "import pandas as pd\n",
    "import numpy as np\n",
    "import pathlib as Path"
   ]
  },
  {
   "cell_type": "markdown",
   "id": "82e47586",
   "metadata": {},
   "source": [
    "Cargamos los datos"
   ]
  },
  {
   "cell_type": "code",
   "execution_count": null,
   "id": "426d974a",
   "metadata": {},
   "outputs": [
    {
     "ename": "",
     "evalue": "",
     "output_type": "error",
     "traceback": [
      "\u001b[1;31mLa ejecución de celdas con 'venv (Python 3.12.10)' requiere el paquete ipykernel.\n",
      "\u001b[1;31mInstale \"ipykernel\" en el entorno de Python. \n",
      "\u001b[1;31mComando: \"\"c:/Users/MAM/OneDrive - Universidad Politécnica de Madrid/Escritorio/Apuntes_CDIA/CSP/practica_recomendaciones/recommendations/venv/Scripts/python.exe\" -m pip install ipykernel -U --force-reinstall\""
     ]
    }
   ],
   "source": [
    "data_dir = Path(\"data\")\n",
    "\n",
    "ratings = pd.read_csv(data_dir / \"ratings.csv\")\n",
    "to_read = pd.read_csv(data_dir / \"to_read.csv\")\n",
    "books = pd.read_csv(data_dir / \"books.csv\")\n",
    "book_tags = pd.read_csv(data_dir / \"book_tags.csv\")\n",
    "tags = pd.read_csv(data_dir / \"tags.csv\")\n",
    "\n",
    "print(\"Ratings shape:\", ratings.shape)\n",
    "print(\"Books shape:\", books.shape)\n",
    "print(\"Tags shape:\", tags.shape)"
   ]
  }
 ],
 "metadata": {
  "kernelspec": {
   "display_name": "venv",
   "language": "python",
   "name": "python3"
  },
  "language_info": {
   "name": "python",
   "version": "3.12.10"
  }
 },
 "nbformat": 4,
 "nbformat_minor": 5
}
