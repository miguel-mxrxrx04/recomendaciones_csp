{
 "cells": [
  {
   "cell_type": "markdown",
   "id": "71d74e62",
   "metadata": {},
   "source": [
    "# Data Cleaning — Goodbooks-10k Top 100  \n",
    "**Objetivo:**  \n",
    "1. Cargar `ratings.csv` y `books.csv`  \n",
    "2. Filtrar sólo los 100 libros con más ratings  \n",
    "3. Eliminar usuarios con < 20 reseñas  \n",
    "4. Binarizar las interacciones  \n",
    "5. Guardar el dataset limpio para el análisis posterior  \n"
   ]
  },
  {
   "cell_type": "code",
   "execution_count": null,
   "id": "6eef99bd",
   "metadata": {
    "vscode": {
     "languageId": "plaintext"
    }
   },
   "outputs": [],
   "source": []
  }
 ],
 "metadata": {
  "language_info": {
   "name": "python"
  }
 },
 "nbformat": 4,
 "nbformat_minor": 5
}
